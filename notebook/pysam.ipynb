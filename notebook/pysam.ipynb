{
 "cells": [
  {
   "cell_type": "markdown",
   "metadata": {},
   "source": [
    "[Pysam](https://pysam.readthedocs.io/en/latest/api.html) is a python module that makes it easy to read and manipulate mapped short read sequence data stored in SAM/BAM files. It is a lightweight wrapper of the htslib C-API. Install using `pip`."
   ]
  },
  {
   "cell_type": "markdown",
   "metadata": {},
   "source": [
    "```bash\n",
    "pip install pysam\n",
    "```"
   ]
  },
  {
   "cell_type": "markdown",
   "metadata": {},
   "source": [
    "Read and print out BAM file (needs to be indexed)."
   ]
  },
  {
   "cell_type": "code",
   "execution_count": 1,
   "metadata": {},
   "outputs": [
    {
     "name": "stdout",
     "output_type": "stream",
     "text": [
      "<class 'pysam.libcalignmentfile.AlignmentFile'>\n",
      "<class 'pysam.libcalignedsegment.AlignedSegment'>\n",
      "ST-K00126:314:HFYL2BBXX:7:2108:2493:36095\t272\t0\t92233\t1\t7M20459N91M\t-1\t-1\t98\tGTTTGGTCTTTTCCTGGATACAGGTCTTGATAGGTCTCTTGATGTCATTTCACTTCAGATTCTTCTTTAGAAAACTTCGACAATAGCATTTGCTGTCT\tarray('B', [12, 27, 37, 37, 12, 27, 37, 37, 37, 37, 37, 37, 32, 32, 37, 12, 12, 22, 37, 27, 8, 22, 27, 37, 41, 41, 41, 37, 37, 32, 37, 12, 22, 12, 41, 37, 32, 32, 12, 41, 27, 32, 41, 37, 37, 27, 32, 37, 37, 41, 32, 12, 41, 41, 41, 37, 27, 22, 37, 41, 41, 41, 37, 41, 37, 41, 32, 37, 22, 27, 12, 12, 12, 12, 37, 41, 37, 27, 27, 32, 22, 12, 12, 41, 27, 32, 32, 27, 32, 32, 41, 37, 41, 37, 37, 37, 27, 32])\t[('NH', 3), ('HI', 2), ('AS', 94), ('nM', 1), ('TX', 'ENST00000466430,+172,98M;ENST00000477740,+389,98M'), ('GX', 'ENSG00000238009'), ('GN', 'RP11-34P13.7'), ('RE', 'E'), ('BC', 'GTAATTGC'), ('QT', 'AAFFFJFF'), ('CR', 'CTTTGCGCAGATGGCA'), ('CY', '-AFFFJJJJJJJJJJF'), ('CB', 'CTTTGCGCAGATGGCA-1'), ('UR', 'GGTGGTTTAC'), ('UY', 'FFJJJFJFJJ'), ('UB', 'GGTGGTTTAC'), ('RG', 'pbmc8k:MissingLibrary:1:HFYL2BBXX:7')]\n"
     ]
    }
   ],
   "source": [
    "import pysam\n",
    "\n",
    "bam_file = pysam.AlignmentFile(\"../data/example.bam\", \"rb\")\n",
    "\n",
    "print(type(bam_file))\n",
    "\n",
    "# Each iteration returns a AlignedSegment object\n",
    "for read in bam_file.fetch(\"1\", 1, 100000):\n",
    "    print(type(read))\n",
    "\n",
    "# subset\n",
    "for read in bam_file.fetch(\"1\", 1, 100000):\n",
    "     print(read)"
   ]
  },
  {
   "cell_type": "markdown",
   "metadata": {},
   "source": [
    "Pileup."
   ]
  },
  {
   "cell_type": "code",
   "execution_count": 2,
   "metadata": {},
   "outputs": [
    {
     "name": "stdout",
     "output_type": "stream",
     "text": [
      "\n",
      "coverage at base 134951 = 1\n",
      "\tbase in read ST-K00126:314:HFYL2BBXX:7:1103:22851:42179 = T\n",
      "\n",
      "coverage at base 134952 = 1\n",
      "\tbase in read ST-K00126:314:HFYL2BBXX:7:1103:22851:42179 = G\n",
      "\n",
      "coverage at base 134953 = 1\n",
      "\tbase in read ST-K00126:314:HFYL2BBXX:7:1103:22851:42179 = G\n",
      "\n",
      "coverage at base 134954 = 1\n",
      "\tbase in read ST-K00126:314:HFYL2BBXX:7:1103:22851:42179 = G\n",
      "\n",
      "coverage at base 134955 = 1\n",
      "\tbase in read ST-K00126:314:HFYL2BBXX:7:1103:22851:42179 = A\n",
      "\n",
      "coverage at base 134956 = 1\n",
      "\tbase in read ST-K00126:314:HFYL2BBXX:7:1103:22851:42179 = T\n",
      "\n",
      "coverage at base 134957 = 1\n",
      "\tbase in read ST-K00126:314:HFYL2BBXX:7:1103:22851:42179 = T\n",
      "\n",
      "coverage at base 134958 = 1\n",
      "\tbase in read ST-K00126:314:HFYL2BBXX:7:1103:22851:42179 = T\n",
      "\n",
      "coverage at base 134959 = 1\n",
      "\tbase in read ST-K00126:314:HFYL2BBXX:7:1103:22851:42179 = A\n",
      "\n",
      "coverage at base 134960 = 1\n",
      "\tbase in read ST-K00126:314:HFYL2BBXX:7:1103:22851:42179 = T\n",
      "\n",
      "coverage at base 134961 = 1\n",
      "\tbase in read ST-K00126:314:HFYL2BBXX:7:1103:22851:42179 = A\n",
      "\n",
      "coverage at base 134962 = 1\n",
      "\tbase in read ST-K00126:314:HFYL2BBXX:7:1103:22851:42179 = C\n",
      "\n",
      "coverage at base 134963 = 1\n",
      "\tbase in read ST-K00126:314:HFYL2BBXX:7:1103:22851:42179 = A\n",
      "\n",
      "coverage at base 134964 = 1\n",
      "\tbase in read ST-K00126:314:HFYL2BBXX:7:1103:22851:42179 = C\n",
      "\n",
      "coverage at base 134965 = 1\n",
      "\tbase in read ST-K00126:314:HFYL2BBXX:7:1103:22851:42179 = A\n",
      "\n",
      "coverage at base 134966 = 1\n",
      "\tbase in read ST-K00126:314:HFYL2BBXX:7:1103:22851:42179 = A\n",
      "\n",
      "coverage at base 134967 = 1\n",
      "\tbase in read ST-K00126:314:HFYL2BBXX:7:1103:22851:42179 = A\n",
      "\n",
      "coverage at base 134968 = 1\n",
      "\tbase in read ST-K00126:314:HFYL2BBXX:7:1103:22851:42179 = A\n",
      "\n",
      "coverage at base 134969 = 1\n",
      "\tbase in read ST-K00126:314:HFYL2BBXX:7:1103:22851:42179 = G\n",
      "\n",
      "coverage at base 134970 = 1\n",
      "\tbase in read ST-K00126:314:HFYL2BBXX:7:1103:22851:42179 = A\n",
      "\n",
      "coverage at base 134971 = 1\n",
      "\tbase in read ST-K00126:314:HFYL2BBXX:7:1103:22851:42179 = T\n",
      "\n",
      "coverage at base 134972 = 1\n",
      "\tbase in read ST-K00126:314:HFYL2BBXX:7:1103:22851:42179 = A\n",
      "\n",
      "coverage at base 134973 = 1\n",
      "\tbase in read ST-K00126:314:HFYL2BBXX:7:1103:22851:42179 = A\n",
      "\n",
      "coverage at base 134974 = 1\n",
      "\tbase in read ST-K00126:314:HFYL2BBXX:7:1103:22851:42179 = A\n",
      "\n",
      "coverage at base 134975 = 1\n",
      "\tbase in read ST-K00126:314:HFYL2BBXX:7:1103:22851:42179 = C\n",
      "\n",
      "coverage at base 134976 = 1\n",
      "\tbase in read ST-K00126:314:HFYL2BBXX:7:1103:22851:42179 = A\n",
      "\n",
      "coverage at base 134977 = 1\n",
      "\tbase in read ST-K00126:314:HFYL2BBXX:7:1103:22851:42179 = A\n",
      "\n",
      "coverage at base 134978 = 1\n",
      "\tbase in read ST-K00126:314:HFYL2BBXX:7:1103:22851:42179 = A\n",
      "\n",
      "coverage at base 134979 = 1\n",
      "\tbase in read ST-K00126:314:HFYL2BBXX:7:1103:22851:42179 = T\n",
      "\n",
      "coverage at base 134980 = 1\n",
      "\tbase in read ST-K00126:314:HFYL2BBXX:7:1103:22851:42179 = T\n",
      "\n",
      "coverage at base 134981 = 1\n",
      "\tbase in read ST-K00126:314:HFYL2BBXX:7:1103:22851:42179 = A\n",
      "\n",
      "coverage at base 134982 = 1\n",
      "\tbase in read ST-K00126:314:HFYL2BBXX:7:1103:22851:42179 = G\n",
      "\n",
      "coverage at base 134983 = 1\n",
      "\tbase in read ST-K00126:314:HFYL2BBXX:7:1103:22851:42179 = A\n",
      "\n",
      "coverage at base 134984 = 1\n",
      "\tbase in read ST-K00126:314:HFYL2BBXX:7:1103:22851:42179 = G\n",
      "\n",
      "coverage at base 134985 = 1\n",
      "\tbase in read ST-K00126:314:HFYL2BBXX:7:1103:22851:42179 = G\n",
      "\n",
      "coverage at base 134986 = 1\n",
      "\tbase in read ST-K00126:314:HFYL2BBXX:7:1103:22851:42179 = C\n",
      "\n",
      "coverage at base 134987 = 1\n",
      "\tbase in read ST-K00126:314:HFYL2BBXX:7:1103:22851:42179 = C\n",
      "\n",
      "coverage at base 134988 = 1\n",
      "\tbase in read ST-K00126:314:HFYL2BBXX:7:1103:22851:42179 = A\n",
      "\n",
      "coverage at base 134989 = 1\n",
      "\tbase in read ST-K00126:314:HFYL2BBXX:7:1103:22851:42179 = A\n",
      "\n",
      "coverage at base 134990 = 1\n",
      "\tbase in read ST-K00126:314:HFYL2BBXX:7:1103:22851:42179 = G\n",
      "\n",
      "coverage at base 134991 = 1\n",
      "\tbase in read ST-K00126:314:HFYL2BBXX:7:1103:22851:42179 = A\n",
      "\n",
      "coverage at base 134992 = 1\n",
      "\tbase in read ST-K00126:314:HFYL2BBXX:7:1103:22851:42179 = G\n",
      "\n",
      "coverage at base 134993 = 1\n",
      "\tbase in read ST-K00126:314:HFYL2BBXX:7:1103:22851:42179 = G\n",
      "\n",
      "coverage at base 134994 = 1\n",
      "\tbase in read ST-K00126:314:HFYL2BBXX:7:1103:22851:42179 = C\n",
      "\n",
      "coverage at base 134995 = 1\n",
      "\tbase in read ST-K00126:314:HFYL2BBXX:7:1103:22851:42179 = T\n",
      "\n",
      "coverage at base 134996 = 1\n",
      "\tbase in read ST-K00126:314:HFYL2BBXX:7:1103:22851:42179 = G\n",
      "\n",
      "coverage at base 134997 = 1\n",
      "\tbase in read ST-K00126:314:HFYL2BBXX:7:1103:22851:42179 = C\n",
      "\n",
      "coverage at base 134998 = 1\n",
      "\tbase in read ST-K00126:314:HFYL2BBXX:7:1103:22851:42179 = C\n",
      "\n",
      "coverage at base 134999 = 1\n",
      "\tbase in read ST-K00126:314:HFYL2BBXX:7:1103:22851:42179 = G\n",
      "\n",
      "coverage at base 135000 = 1\n",
      "\tbase in read ST-K00126:314:HFYL2BBXX:7:1103:22851:42179 = G\n",
      "\n",
      "coverage at base 135001 = 1\n",
      "\tbase in read ST-K00126:314:HFYL2BBXX:7:1103:22851:42179 = A\n",
      "\n",
      "coverage at base 135002 = 1\n",
      "\tbase in read ST-K00126:314:HFYL2BBXX:7:1103:22851:42179 = A\n",
      "\n",
      "coverage at base 135003 = 1\n",
      "\tbase in read ST-K00126:314:HFYL2BBXX:7:1103:22851:42179 = G\n",
      "\n",
      "coverage at base 135004 = 1\n",
      "\tbase in read ST-K00126:314:HFYL2BBXX:7:1103:22851:42179 = G\n",
      "\n",
      "coverage at base 135005 = 1\n",
      "\tbase in read ST-K00126:314:HFYL2BBXX:7:1103:22851:42179 = G\n",
      "\n",
      "coverage at base 135006 = 1\n",
      "\tbase in read ST-K00126:314:HFYL2BBXX:7:1103:22851:42179 = A\n",
      "\n",
      "coverage at base 135007 = 1\n",
      "\tbase in read ST-K00126:314:HFYL2BBXX:7:1103:22851:42179 = A\n",
      "\n",
      "coverage at base 135008 = 1\n",
      "\tbase in read ST-K00126:314:HFYL2BBXX:7:1103:22851:42179 = A\n",
      "\n",
      "coverage at base 135009 = 1\n",
      "\tbase in read ST-K00126:314:HFYL2BBXX:7:1103:22851:42179 = A\n",
      "\n",
      "coverage at base 135010 = 1\n",
      "\tbase in read ST-K00126:314:HFYL2BBXX:7:1103:22851:42179 = A\n",
      "\n",
      "coverage at base 135011 = 1\n",
      "\tbase in read ST-K00126:314:HFYL2BBXX:7:1103:22851:42179 = C\n",
      "\n",
      "coverage at base 135012 = 1\n",
      "\tbase in read ST-K00126:314:HFYL2BBXX:7:1103:22851:42179 = A\n",
      "\n",
      "coverage at base 135013 = 1\n",
      "\tbase in read ST-K00126:314:HFYL2BBXX:7:1103:22851:42179 = G\n",
      "\n",
      "coverage at base 135014 = 1\n",
      "\tbase in read ST-K00126:314:HFYL2BBXX:7:1103:22851:42179 = G\n",
      "\n",
      "coverage at base 135015 = 1\n",
      "\tbase in read ST-K00126:314:HFYL2BBXX:7:1103:22851:42179 = G\n",
      "\n",
      "coverage at base 135016 = 1\n",
      "\tbase in read ST-K00126:314:HFYL2BBXX:7:1103:22851:42179 = C\n",
      "\n",
      "coverage at base 135017 = 1\n",
      "\tbase in read ST-K00126:314:HFYL2BBXX:7:1103:22851:42179 = C\n",
      "\n",
      "coverage at base 135018 = 1\n",
      "\tbase in read ST-K00126:314:HFYL2BBXX:7:1103:22851:42179 = T\n"
     ]
    }
   ],
   "source": [
    "for pileupcolumn in bam_file.pileup(\"1\", 1, 200000):\n",
    "    print (\"\\ncoverage at base %s = %s\" % (pileupcolumn.pos, pileupcolumn.n))\n",
    "    for pileupread in pileupcolumn.pileups:\n",
    "        if not pileupread.is_del and not pileupread.is_refskip:\n",
    "            # query position is None if is_del or is_refskip is set.\n",
    "            print ('\\tbase in read %s = %s' %\n",
    "                  (pileupread.alignment.query_name,\n",
    "                   pileupread.alignment.query_sequence[pileupread.query_position]))"
   ]
  },
  {
   "cell_type": "markdown",
   "metadata": {},
   "source": [
    "Methods for class pysam.AlignmentFile."
   ]
  },
  {
   "cell_type": "code",
   "execution_count": 3,
   "metadata": {},
   "outputs": [
    {
     "name": "stdout",
     "output_type": "stream",
     "text": [
      "There are 8687 entries in example.bam\n"
     ]
    }
   ],
   "source": [
    "count = bam_file.count()\n",
    "\n",
    "print(\"There are\", count, \"entries in example.bam\")\n",
    "\n",
    "# four array.arrays of the same length in order A C G T\n",
    "count_coverage = bam_file.count_coverage(\"1\", 1, 100000)"
   ]
  },
  {
   "cell_type": "markdown",
   "metadata": {},
   "source": [
    "CIGAR.\n",
    "\n",
    "The operations are:\n",
    "\n",
    "* M\tBAM_CMATCH\t0\n",
    "* I\tBAM_CINS\t1\n",
    "* D\tBAM_CDEL\t2\n",
    "* N\tBAM_CREF_SKIP\t3\n",
    "* S\tBAM_CSOFT_CLIP\t4\n",
    "* H\tBAM_CHARD_CLIP\t5\n",
    "* P\tBAM_CPAD\t6\n",
    "* =\tBAM_CEQUAL\t7\n",
    "* X\tBAM_CDIFF\t8\n",
    "* B\tBAM_CBACK\t9"
   ]
  },
  {
   "cell_type": "code",
   "execution_count": 4,
   "metadata": {},
   "outputs": [
    {
     "name": "stdout",
     "output_type": "stream",
     "text": [
      "CIGAR string = 7M20459N91M and cigartuples = [(0, 7), (3, 20459), (0, 91)]\n",
      "CIGAR string = 68M30S and cigartuples = [(0, 68), (4, 30)]\n",
      "CIGAR string = 98M and cigartuples = [(0, 98)]\n"
     ]
    }
   ],
   "source": [
    "for read in bam_file.fetch(\"1\", 1, 200000):\n",
    "    print(\"CIGAR string = %s and cigartuples = %s\" % (read.cigarstring, read.cigartuples))"
   ]
  },
  {
   "cell_type": "markdown",
   "metadata": {},
   "source": [
    "Close BAM file."
   ]
  },
  {
   "cell_type": "code",
   "execution_count": 5,
   "metadata": {},
   "outputs": [],
   "source": [
    "bam_file.close()"
   ]
  }
 ],
 "metadata": {
  "kernelspec": {
   "display_name": "Python 3",
   "language": "python",
   "name": "python3"
  },
  "language_info": {
   "codemirror_mode": {
    "name": "ipython",
    "version": 3
   },
   "file_extension": ".py",
   "mimetype": "text/x-python",
   "name": "python",
   "nbconvert_exporter": "python",
   "pygments_lexer": "ipython3",
   "version": "3.6.4"
  }
 },
 "nbformat": 4,
 "nbformat_minor": 2
}
