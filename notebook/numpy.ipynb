{
 "cells": [
  {
   "cell_type": "markdown",
   "metadata": {},
   "source": [
    "# NumPy"
   ]
  },
  {
   "cell_type": "markdown",
   "metadata": {},
   "source": [
    "[NumPy](https://docs.scipy.org/doc/numpy-1.10.0/index.html) is a library for the Python programming language, adding support for large, multi-dimensional arrays and matrices, along with a large collection of high-level mathematical functions to operate on these arrays. The ancestor of NumPy, Numeric, was originally created by Jim Hugunin with contributions from several other developers."
   ]
  },
  {
   "cell_type": "markdown",
   "metadata": {},
   "source": [
    "Use `import` to load NumPy."
   ]
  },
  {
   "cell_type": "code",
   "execution_count": 2,
   "metadata": {},
   "outputs": [
    {
     "name": "stdout",
     "output_type": "stream",
     "text": [
      "<class 'numpy.ndarray'>\n"
     ]
    }
   ],
   "source": [
    "import numpy as np\n",
    "\n",
    "number = np.array(list(range(11, 17)))\n",
    "print(type(number))"
   ]
  },
  {
   "cell_type": "markdown",
   "metadata": {},
   "source": [
    "Element-wise operations"
   ]
  },
  {
   "cell_type": "code",
   "execution_count": 7,
   "metadata": {},
   "outputs": [
    {
     "name": "stdout",
     "output_type": "stream",
     "text": [
      "[22 24 26 28 30 32]\n",
      "[22 24 26 28 30 32]\n"
     ]
    }
   ],
   "source": [
    "print(number * 2)\n",
    "\n",
    "print(number + number)"
   ]
  },
  {
   "cell_type": "markdown",
   "metadata": {},
   "source": [
    "Subsetting"
   ]
  },
  {
   "cell_type": "code",
   "execution_count": 16,
   "metadata": {},
   "outputs": [
    {
     "name": "stdout",
     "output_type": "stream",
     "text": [
      "15\n",
      "[12 13]\n",
      "[14 15 16]\n"
     ]
    }
   ],
   "source": [
    "print(number[4])\n",
    "print(number[1:3])\n",
    "print(number[number > 13])"
   ]
  },
  {
   "cell_type": "markdown",
   "metadata": {},
   "source": [
    "Subsetting using boolean operators"
   ]
  },
  {
   "cell_type": "code",
   "execution_count": 8,
   "metadata": {},
   "outputs": [
    {
     "name": "stdout",
     "output_type": "stream",
     "text": [
      "[False False False  True False False]\n",
      "[False False  True False False  True]\n",
      "[13 16]\n"
     ]
    }
   ],
   "source": [
    "print(np.logical_and(number > 13, number < 15))\n",
    "print(np.logical_or(number == 13, number > 15))\n",
    "\n",
    "print(number[np.logical_or(number == 13, number > 15)])"
   ]
  },
  {
   "cell_type": "markdown",
   "metadata": {},
   "source": [
    "Coercion"
   ]
  },
  {
   "cell_type": "code",
   "execution_count": 15,
   "metadata": {},
   "outputs": [
    {
     "name": "stdout",
     "output_type": "stream",
     "text": [
      "['True' 'string' '1']\n",
      "<class 'numpy.str_'>\n",
      "[1 0 1]\n",
      "<class 'numpy.int64'>\n"
     ]
    }
   ],
   "source": [
    "test = np.array([True, \"string\", 1])\n",
    "\n",
    "# all types coerced into type string\n",
    "print(test)\n",
    "print(type(test[0]))\n",
    "\n",
    "# coerced into intergers\n",
    "test2 = np.array([True, False, 1])\n",
    "print(test2)\n",
    "print(type(test2[0]))"
   ]
  },
  {
   "cell_type": "markdown",
   "metadata": {},
   "source": [
    "N-dimensional arrays"
   ]
  },
  {
   "cell_type": "code",
   "execution_count": 9,
   "metadata": {},
   "outputs": [
    {
     "name": "stdout",
     "output_type": "stream",
     "text": [
      "[[1 2 3]\n",
      " [4 5 6]]\n",
      "<class 'numpy.ndarray'>\n",
      "[1 2 3]\n",
      "[2 5]\n",
      "(2, 3)\n",
      "5\n",
      "5\n"
     ]
    }
   ],
   "source": [
    "test3 = np.array([[1, 2, 3],\n",
    "                 [4, 5, 6]])\n",
    "\n",
    "print(test3)\n",
    "print(type(test3))\n",
    "print(test3[0,:])\n",
    "print(test3[:,1])\n",
    "print(test3.shape)\n",
    "print(test3[1][1])\n",
    "print(test3[1, 1])"
   ]
  },
  {
   "cell_type": "markdown",
   "metadata": {},
   "source": [
    "Looping over n-dimensional arrays"
   ]
  },
  {
   "cell_type": "code",
   "execution_count": 10,
   "metadata": {},
   "outputs": [
    {
     "name": "stdout",
     "output_type": "stream",
     "text": [
      "1\n",
      "2\n",
      "3\n",
      "4\n",
      "5\n",
      "6\n"
     ]
    }
   ],
   "source": [
    "for x in np.nditer(test3):\n",
    "    print(x)"
   ]
  },
  {
   "cell_type": "markdown",
   "metadata": {},
   "source": [
    "Basic statistics using the famous iris dataset"
   ]
  },
  {
   "cell_type": "code",
   "execution_count": 42,
   "metadata": {},
   "outputs": [
    {
     "name": "stdout",
     "output_type": "stream",
     "text": [
      "<class 'sklearn.utils.Bunch'>\n",
      "[[5.1 3.5 1.4 0.2]\n",
      " [4.9 3.  1.4 0.2]\n",
      " [4.7 3.2 1.3 0.2]\n",
      " [4.6 3.1 1.5 0.2]\n",
      " [5.  3.6 1.4 0.2]\n",
      " [5.4 3.9 1.7 0.4]]\n",
      "(150, 4)\n",
      "<class 'numpy.ndarray'>\n",
      "5.843333333333334\n",
      "5.8\n",
      "876.5\n",
      "[[ 1.         -0.10936925]\n",
      " [-0.10936925  1.        ]]\n"
     ]
    }
   ],
   "source": [
    "from sklearn import datasets\n",
    "iris = datasets.load_iris()\n",
    "print(type(iris))\n",
    "\n",
    "# view first few rows\n",
    "print(iris.data[0:6,])\n",
    "\n",
    "# print dimension\n",
    "print(iris.data.shape)\n",
    "\n",
    "# type of column\n",
    "print(type(iris.data[:,0]))\n",
    "\n",
    "print(np.mean(iris.data[:, 0]))\n",
    "print(np.median(iris.data[:,0]))\n",
    "print(np.sum(iris.data[:,0]))\n",
    "print(np.corrcoef(iris.data[:,0], iris.data[:,1]))"
   ]
  },
  {
   "cell_type": "markdown",
   "metadata": {},
   "source": [
    "Random numbers using [numpy.random](https://docs.scipy.org/doc/numpy/reference/routines.random.html)"
   ]
  },
  {
   "cell_type": "code",
   "execution_count": 7,
   "metadata": {},
   "outputs": [
    {
     "name": "stdout",
     "output_type": "stream",
     "text": [
      "0.00875572949604042\n",
      "4\n"
     ]
    }
   ],
   "source": [
    "np.random.seed(1984)\n",
    "print(np.random.rand())\n",
    "\n",
    "# simulate a die\n",
    "print(np.random.randint(1,7))"
   ]
  }
 ],
 "metadata": {
  "kernelspec": {
   "display_name": "Python 3",
   "language": "python",
   "name": "python3"
  },
  "language_info": {
   "codemirror_mode": {
    "name": "ipython",
    "version": 3
   },
   "file_extension": ".py",
   "mimetype": "text/x-python",
   "name": "python",
   "nbconvert_exporter": "python",
   "pygments_lexer": "ipython3",
   "version": "3.6.4"
  }
 },
 "nbformat": 4,
 "nbformat_minor": 2
}
