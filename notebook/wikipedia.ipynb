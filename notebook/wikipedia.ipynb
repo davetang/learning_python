{
 "cells": [
  {
   "cell_type": "markdown",
   "id": "387de253-ed9d-4c39-8bb3-2c7bdd2acf49",
   "metadata": {},
   "source": [
    "[Using the wikipedia package](https://www.thepythoncode.com/article/access-wikipedia-python).\n",
    "\n",
    "Install by using `pip3 install wikipedia`."
   ]
  },
  {
   "cell_type": "code",
   "execution_count": 1,
   "id": "5c39b789-e4d1-4d66-bb7d-07c68ebd25e7",
   "metadata": {},
   "outputs": [
    {
     "name": "stdout",
     "output_type": "stream",
     "text": [
      "Requirement already satisfied: wikipedia in /opt/conda/lib/python3.10/site-packages (1.4.0)\n",
      "Requirement already satisfied: requests<3.0.0,>=2.0.0 in /opt/conda/lib/python3.10/site-packages (from wikipedia) (2.28.1)\n",
      "Requirement already satisfied: beautifulsoup4 in /opt/conda/lib/python3.10/site-packages (from wikipedia) (4.11.1)\n",
      "Requirement already satisfied: certifi>=2017.4.17 in /opt/conda/lib/python3.10/site-packages (from requests<3.0.0,>=2.0.0->wikipedia) (2022.6.15)\n",
      "Requirement already satisfied: charset-normalizer<3,>=2 in /opt/conda/lib/python3.10/site-packages (from requests<3.0.0,>=2.0.0->wikipedia) (2.1.0)\n",
      "Requirement already satisfied: urllib3<1.27,>=1.21.1 in /opt/conda/lib/python3.10/site-packages (from requests<3.0.0,>=2.0.0->wikipedia) (1.26.11)\n",
      "Requirement already satisfied: idna<4,>=2.5 in /opt/conda/lib/python3.10/site-packages (from requests<3.0.0,>=2.0.0->wikipedia) (3.3)\n",
      "Requirement already satisfied: soupsieve>1.2 in /opt/conda/lib/python3.10/site-packages (from beautifulsoup4->wikipedia) (2.3.2.post1)\n"
     ]
    }
   ],
   "source": [
    "import sys\n",
    "!{sys.executable} -m pip install wikipedia"
   ]
  },
  {
   "cell_type": "markdown",
   "id": "3eafe300-0c9f-4e7e-9337-a7ee87f72920",
   "metadata": {},
   "source": [
    "Get summary of an article."
   ]
  },
  {
   "cell_type": "code",
   "execution_count": 2,
   "id": "19c6e8ee-333d-4826-94ab-774f37059482",
   "metadata": {},
   "outputs": [
    {
     "name": "stdout",
     "output_type": "stream",
     "text": [
      "Monty Python (also collectively known as the Pythons) were a British comedy troupe formed in 1969 consisting of Graham Chapman, John Cleese, Terry Gilliam, Eric Idle, Terry Jones, and Michael Palin. The group came to prominence for the sketch comedy series Monty Python's Flying Circus (1969–1974). Their work then developed into a larger collection that included live shows, films, albums, books, and musicals; their influence on comedy has been compared to the Beatles' influence on music. Their sketch show has been called \"an important moment in the evolution of television comedy\".Monty Python's Flying Circus was loosely structured as a sketch show, but its innovative stream-of-consciousness approach and Gilliam's animation skills pushed the boundaries of what was acceptable in style and content. The Pythons had creative control which allowed them to experiment with form and content, discarding rules of television comedy. They followed their television work by making  the films Monty Python and the Holy Grail (1975), Life of Brian (1979), and The Meaning of Life (1983). Their influence on British comedy has been apparent for years, while it has coloured the work of the early editions of Saturday Night Live through to absurdist trends in television comedy.\n",
      "At the 41st British Academy Film Awards in 1988, Monty Python received the BAFTA Award for Outstanding British Contribution To Cinema. In 1998, they were awarded the AFI Star Award by the American Film Institute. Holy Grail and Life of Brian are frequently ranked on lists of the greatest comedy films. A 2005 poll asked more than 300 comedians, comedy writers, producers, and directors to name the greatest comedians of all time, and half of Monty Python's members made the top 50.\n"
     ]
    }
   ],
   "source": [
    "import wikipedia\n",
    "print(wikipedia.summary(\"Monty Python\"))"
   ]
  },
  {
   "cell_type": "markdown",
   "id": "dccd0e5e-8251-4665-96e6-a77bdf5aafa9",
   "metadata": {},
   "source": [
    "Limit to only two sentences."
   ]
  },
  {
   "cell_type": "code",
   "execution_count": 3,
   "id": "adfa3b02-f0e1-471d-b118-192bb7a4bbb7",
   "metadata": {},
   "outputs": [
    {
     "name": "stdout",
     "output_type": "stream",
     "text": [
      "Monty Python (also collectively known as the Pythons) were a British comedy troupe formed in 1969 consisting of Graham Chapman, John Cleese, Terry Gilliam, Eric Idle, Terry Jones, and Michael Palin. The group came to prominence for the sketch comedy series Monty Python's Flying Circus (1969–1974).\n"
     ]
    }
   ],
   "source": [
    "print(wikipedia.summary(\"Monty Python\", sentences = 2))"
   ]
  },
  {
   "cell_type": "markdown",
   "id": "da286a63-edfa-4604-b7ee-028dfbf8760e",
   "metadata": {},
   "source": [
    "Search Wikipedia."
   ]
  },
  {
   "cell_type": "code",
   "execution_count": 4,
   "id": "bc7d39ab-13bf-48a5-a717-3c792870928c",
   "metadata": {},
   "outputs": [
    {
     "name": "stdout",
     "output_type": "stream",
     "text": [
      "['Large language model', 'Language model', 'BERT (language model)', 'Foundation models', 'LLaMA', 'BLOOM (language model)', 'GPT-3', 'Generative pre-trained transformer', 'Stochastic parrot', 'Modeling language']\n"
     ]
    }
   ],
   "source": [
    "result = wikipedia.search(\"Large Language Models\")\n",
    "print(result)"
   ]
  },
  {
   "cell_type": "markdown",
   "id": "510f1e72-0b04-4566-9ac5-d44dbd6064ee",
   "metadata": {},
   "source": [
    "Get the whole page for the first title."
   ]
  },
  {
   "cell_type": "code",
   "execution_count": 5,
   "id": "072f69a6-f5a4-4906-9031-6b65a227f4b5",
   "metadata": {},
   "outputs": [
    {
     "name": "stdout",
     "output_type": "stream",
     "text": [
      "Large language model\n"
     ]
    }
   ],
   "source": [
    "first_result = wikipedia.page(result[0])\n",
    "print(first_result.title)"
   ]
  },
  {
   "cell_type": "markdown",
   "id": "372a6dd3-f5e0-426e-ac62-a04c110a2160",
   "metadata": {},
   "source": [
    "Output categories."
   ]
  },
  {
   "cell_type": "code",
   "execution_count": 6,
   "id": "138c8c86-58a6-4646-bd40-630aac0de083",
   "metadata": {},
   "outputs": [
    {
     "name": "stdout",
     "output_type": "stream",
     "text": [
      "['All articles with unsourced statements', 'Articles with short description', 'Articles with unsourced statements from May 2023', 'CS1: long volume value', 'CS1 errors: missing periodical', 'Deep learning', 'Large language models', 'Natural language processing', 'Short description is different from Wikidata']\n"
     ]
    }
   ],
   "source": [
    "print(first_result.categories)"
   ]
  },
  {
   "cell_type": "markdown",
   "id": "e2ab8369-273a-4acf-80ad-8c223b32b268",
   "metadata": {},
   "source": [
    "Page contents."
   ]
  },
  {
   "cell_type": "code",
   "execution_count": 7,
   "id": "a522b647-2d47-4a74-81e6-28c4132fe7e0",
   "metadata": {},
   "outputs": [],
   "source": [
    "# print(first_result.content)"
   ]
  },
  {
   "cell_type": "markdown",
   "id": "ad5b0e4f-a9df-4d18-ad99-5fed6cbef558",
   "metadata": {},
   "source": [
    "Other attributes."
   ]
  },
  {
   "cell_type": "code",
   "execution_count": 8,
   "id": "75043513-045a-4e3f-a4ee-d676b6b49616",
   "metadata": {},
   "outputs": [],
   "source": [
    "links = first_result.links\n",
    "references = first_result.references\n",
    "summary = first_result.summary"
   ]
  },
  {
   "cell_type": "markdown",
   "id": "e90a8032-566f-425f-aad7-0ca86ed97e2c",
   "metadata": {},
   "source": [
    "To change the language."
   ]
  },
  {
   "cell_type": "code",
   "execution_count": 9,
   "id": "548ccb15-fce3-45c4-8744-b7ea7004f5ca",
   "metadata": {},
   "outputs": [
    {
     "name": "stdout",
     "output_type": "stream",
     "text": [
      "モンティ・パイソン（Monty Python）は、イギリスを代表するコメディグループ。グレアム・チャップマン、ジョン・クリーズ、テリー・ギリアム、エリック・アイドル、テリー・ジョーンズ、マイケル・ペイリンの6人で構成される（ただし、ニール・イネスとキャロル・クリーヴランドを「7人目のパイソン」と表現することもある）。\n"
     ]
    }
   ],
   "source": [
    "wikipedia.set_lang('jp')\n",
    "print(wikipedia.summary(\"Monty Python\", sentences = 2))"
   ]
  },
  {
   "cell_type": "markdown",
   "id": "3d74fd3a-f2f6-4afb-81ac-b1406ece7435",
   "metadata": {},
   "source": [
    "Back to English."
   ]
  },
  {
   "cell_type": "code",
   "execution_count": 10,
   "id": "63506b71-5479-4cb3-ad65-9beb17501942",
   "metadata": {},
   "outputs": [
    {
     "name": "stdout",
     "output_type": "stream",
     "text": [
      "Monty Python (also collectively known as the Pythons) were a British comedy troupe formed in 1969 consisting of Graham Chapman, John Cleese, Terry Gilliam, Eric Idle, Terry Jones, and Michael Palin. The group came to prominence for the sketch comedy series Monty Python's Flying Circus (1969–1974).\n"
     ]
    }
   ],
   "source": [
    "wikipedia.set_lang('en')\n",
    "print(wikipedia.summary(\"Monty Python\", sentences = 2))"
   ]
  }
 ],
 "metadata": {
  "kernelspec": {
   "display_name": "Python 3 (ipykernel)",
   "language": "python",
   "name": "python3"
  },
  "language_info": {
   "codemirror_mode": {
    "name": "ipython",
    "version": 3
   },
   "file_extension": ".py",
   "mimetype": "text/x-python",
   "name": "python",
   "nbconvert_exporter": "python",
   "pygments_lexer": "ipython3",
   "version": "3.10.5"
  }
 },
 "nbformat": 4,
 "nbformat_minor": 5
}
