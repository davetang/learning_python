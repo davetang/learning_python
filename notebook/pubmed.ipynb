{
 "cells": [
  {
   "cell_type": "markdown",
   "id": "387de253-ed9d-4c39-8bb3-2c7bdd2acf49",
   "metadata": {},
   "source": [
    "Using the [metapub](https://pypi.org/project/metapub/) package to fetch PubMed data.\n",
    "\n",
    "Install using `pip`."
   ]
  },
  {
   "cell_type": "code",
   "execution_count": 1,
   "id": "5c39b789-e4d1-4d66-bb7d-07c68ebd25e7",
   "metadata": {},
   "outputs": [
    {
     "name": "stdout",
     "output_type": "stream",
     "text": [
      "Requirement already satisfied: metapub in /opt/conda/lib/python3.10/site-packages (0.5.5)\n",
      "Requirement already satisfied: unidecode in /opt/conda/lib/python3.10/site-packages (from metapub) (1.3.6)\n",
      "Requirement already satisfied: coloredlogs in /opt/conda/lib/python3.10/site-packages (from metapub) (15.0.1)\n",
      "Requirement already satisfied: eutils in /opt/conda/lib/python3.10/site-packages (from metapub) (0.6.0)\n",
      "Requirement already satisfied: lxml in /opt/conda/lib/python3.10/site-packages (from metapub) (4.9.2)\n",
      "Requirement already satisfied: tabulate in /opt/conda/lib/python3.10/site-packages (from metapub) (0.9.0)\n",
      "Requirement already satisfied: six in /opt/conda/lib/python3.10/site-packages (from metapub) (1.16.0)\n",
      "Requirement already satisfied: python-Levenshtein in /opt/conda/lib/python3.10/site-packages (from metapub) (0.21.0)\n",
      "Requirement already satisfied: pytest in /opt/conda/lib/python3.10/site-packages (from metapub) (7.3.1)\n",
      "Requirement already satisfied: cssselect in /opt/conda/lib/python3.10/site-packages (from metapub) (1.2.0)\n",
      "Requirement already satisfied: requests in /opt/conda/lib/python3.10/site-packages (from metapub) (2.28.1)\n",
      "Requirement already satisfied: tox in /opt/conda/lib/python3.10/site-packages (from metapub) (4.5.1)\n",
      "Requirement already satisfied: habanero in /opt/conda/lib/python3.10/site-packages (from metapub) (1.2.3)\n",
      "Requirement already satisfied: docopt in /opt/conda/lib/python3.10/site-packages (from metapub) (0.6.2)\n",
      "Requirement already satisfied: setuptools in /opt/conda/lib/python3.10/site-packages (from metapub) (63.2.0)\n",
      "Requirement already satisfied: humanfriendly>=9.1 in /opt/conda/lib/python3.10/site-packages (from coloredlogs->metapub) (10.0)\n",
      "Requirement already satisfied: pytz in /opt/conda/lib/python3.10/site-packages (from eutils->metapub) (2022.1)\n",
      "Requirement already satisfied: tqdm in /opt/conda/lib/python3.10/site-packages (from habanero->metapub) (4.64.0)\n",
      "Requirement already satisfied: certifi>=2017.4.17 in /opt/conda/lib/python3.10/site-packages (from requests->metapub) (2022.6.15)\n",
      "Requirement already satisfied: urllib3<1.27,>=1.21.1 in /opt/conda/lib/python3.10/site-packages (from requests->metapub) (1.26.11)\n",
      "Requirement already satisfied: idna<4,>=2.5 in /opt/conda/lib/python3.10/site-packages (from requests->metapub) (3.3)\n",
      "Requirement already satisfied: charset-normalizer<3,>=2 in /opt/conda/lib/python3.10/site-packages (from requests->metapub) (2.1.0)\n",
      "Requirement already satisfied: pluggy<2.0,>=0.12 in /opt/conda/lib/python3.10/site-packages (from pytest->metapub) (1.0.0)\n",
      "Requirement already satisfied: packaging in /opt/conda/lib/python3.10/site-packages (from pytest->metapub) (23.1)\n",
      "Requirement already satisfied: exceptiongroup>=1.0.0rc8 in /opt/conda/lib/python3.10/site-packages (from pytest->metapub) (1.1.1)\n",
      "Requirement already satisfied: iniconfig in /opt/conda/lib/python3.10/site-packages (from pytest->metapub) (2.0.0)\n",
      "Requirement already satisfied: tomli>=1.0.0 in /opt/conda/lib/python3.10/site-packages (from pytest->metapub) (2.0.1)\n",
      "Requirement already satisfied: Levenshtein==0.21.0 in /opt/conda/lib/python3.10/site-packages (from python-Levenshtein->metapub) (0.21.0)\n",
      "Requirement already satisfied: rapidfuzz<4.0.0,>=2.3.0 in /opt/conda/lib/python3.10/site-packages (from Levenshtein==0.21.0->python-Levenshtein->metapub) (3.0.0)\n",
      "Requirement already satisfied: colorama>=0.4.6 in /opt/conda/lib/python3.10/site-packages (from tox->metapub) (0.4.6)\n",
      "Requirement already satisfied: chardet>=5.1 in /opt/conda/lib/python3.10/site-packages (from tox->metapub) (5.1.0)\n",
      "Requirement already satisfied: filelock>=3.11 in /opt/conda/lib/python3.10/site-packages (from tox->metapub) (3.12.0)\n",
      "Requirement already satisfied: cachetools>=5.3 in /opt/conda/lib/python3.10/site-packages (from tox->metapub) (5.3.0)\n",
      "Requirement already satisfied: platformdirs>=3.2 in /opt/conda/lib/python3.10/site-packages (from tox->metapub) (3.5.1)\n",
      "Requirement already satisfied: virtualenv>=20.21 in /opt/conda/lib/python3.10/site-packages (from tox->metapub) (20.23.0)\n",
      "Requirement already satisfied: pyproject-api>=1.5.1 in /opt/conda/lib/python3.10/site-packages (from tox->metapub) (1.5.1)\n",
      "Requirement already satisfied: distlib<1,>=0.3.6 in /opt/conda/lib/python3.10/site-packages (from virtualenv>=20.21->tox->metapub) (0.3.6)\n"
     ]
    }
   ],
   "source": [
    "import sys\n",
    "!{sys.executable} -m pip install metapub"
   ]
  },
  {
   "cell_type": "markdown",
   "id": "5dbeffcb-da92-4310-9a2c-bf56ad24a611",
   "metadata": {},
   "source": [
    "Set NCBI API Key, which is optional but allows you to perform more queries."
   ]
  },
  {
   "cell_type": "code",
   "execution_count": 2,
   "id": "433ba4da-5ec1-4384-abfe-a6740e7997ce",
   "metadata": {},
   "outputs": [],
   "source": [
    "!export NCBI_API_KEY=\"b462c46b1bf5548e9d9d127e3c1b0121ba08\""
   ]
  },
  {
   "cell_type": "markdown",
   "id": "2b52093d-cec5-4a36-af58-9f1331ce1964",
   "metadata": {},
   "source": [
    "Fetch PubMed IDs."
   ]
  },
  {
   "cell_type": "code",
   "execution_count": 3,
   "id": "c32a46b7-505e-4f2d-864f-fe1c80643176",
   "metadata": {},
   "outputs": [
    {
     "name": "stderr",
     "output_type": "stream",
     "text": [
      "2023-05-18 02:40:55 b5d1332b8ba8 metapub.config[1248] WARNING NCBI_API_KEY was not set.\n"
     ]
    },
    {
     "name": "stdout",
     "output_type": "stream",
     "text": [
      "['37196065', '37195586', '37195459', '37195370', '37195298']\n"
     ]
    }
   ],
   "source": [
    "from metapub import PubMedFetcher\n",
    "fetch = PubMedFetcher()\n",
    "\n",
    "keyword=\"checkpoint inhibitor\"\n",
    "\n",
    "pmids = fetch.pmids_for_query(keyword, retmax=5)\n",
    "print(pmids)"
   ]
  },
  {
   "cell_type": "markdown",
   "id": "598d89c1-cf63-40ca-91b8-65f534bc36b1",
   "metadata": {},
   "source": [
    "Get articles."
   ]
  },
  {
   "cell_type": "code",
   "execution_count": 4,
   "id": "c13bd395-03e8-4a8a-a5bf-671ee430686a",
   "metadata": {},
   "outputs": [
    {
     "name": "stdout",
     "output_type": "stream",
     "text": [
      "<PubMedArticle 37196065> Lechner MG; Zhou Z; Hoang AT; Huang N; Ortega J; Scott LN; Chen HC; Patel AY; Yakhshi-Tafti R; Kim K; Hugo W; Famini P; Drakaki A; Ribas A; Angell TE; Su MA. Clonally expanded, thyrotoxic effector CD8<sup>+</sup> T cells driven by IL-21 contribute to checkpoint inhibitor thyroiditis.. Sci Transl Med. 2023. 15(696):eadg0675\n"
     ]
    }
   ],
   "source": [
    "articles = {}\n",
    "for pmid in pmids:\n",
    "    articles[pmid] = fetch.article_by_pmid(pmid)\n",
    "    \n",
    "print(articles[pmids[0]])"
   ]
  },
  {
   "cell_type": "markdown",
   "id": "9ef2a381-a9e8-45ad-837e-1f1a6917288e",
   "metadata": {},
   "source": [
    "Print attributes."
   ]
  },
  {
   "cell_type": "code",
   "execution_count": 5,
   "id": "b217893f-485b-46e7-b175-f58c8cf6db16",
   "metadata": {},
   "outputs": [
    {
     "name": "stdout",
     "output_type": "stream",
     "text": [
      "Title: Clonally expanded, thyrotoxic effector CD8<sup>+</sup> T cells driven by IL-21 contribute to checkpoint inhibitor thyroiditis.\n",
      "Abstract: Autoimmune toxicity occurs in up to 60% of patients treated with immune checkpoint inhibitor (ICI) therapy for cancer and represents an increasing clinical challenge for expanding the use of these treatments. To date, human immunopathogenic studies of immune-related adverse events (IRAEs) have relied on sampling of circulating peripheral blood cells rather than affected tissues. Here, we directly obtained thyroid specimens from individuals with ICI-thyroiditis, one of the most common IRAEs, and compared immune infiltrates with those from individuals with spontaneous autoimmune Hashimoto's thyroiditis (HT) or no thyroid disease. Single-cell RNA sequencing revealed a dominant, clonally expanded population of thyroid-infiltrating cytotoxic CXCR6\n",
      "Author/s: ['Lechner MG', 'Zhou Z', 'Hoang AT', 'Huang N', 'Ortega J', 'Scott LN', 'Chen HC', 'Patel AY', 'Yakhshi-Tafti R', 'Kim K', 'Hugo W', 'Famini P', 'Drakaki A', 'Ribas A', 'Angell TE', 'Su MA']\n",
      "Published: Sci Transl Med, 2023, 15, 696\n",
      "Citation: Lechner MG, et al. Clonally expanded, thyrotoxic effector CD8<sup>+</sup> T cells driven by IL-21 contribute to checkpoint inhibitor thyroiditis. Clonally expanded, thyrotoxic effector CD8<sup>+</sup> T cells driven by IL-21 contribute to checkpoint inhibitor thyroiditis. 2023; 15:eadg0675. doi: 10.1126/scitranslmed.adg0675\n"
     ]
    }
   ],
   "source": [
    "article = articles[pmids[0]]\n",
    "print(f\"Title: {article.title}\")\n",
    "print(f\"Abstract: {article.abstract}\")\n",
    "print(f\"Author/s: {article.authors}\")\n",
    "print(f\"Published: {article.journal}, {article.year}, {article.volume}, {article.issue}\")\n",
    "print(f\"Citation: {article.citation}\")"
   ]
  },
  {
   "cell_type": "markdown",
   "id": "d18c1fbf-512d-4ac8-b6a4-a51ea3c01516",
   "metadata": {},
   "source": [
    "Build link."
   ]
  },
  {
   "cell_type": "code",
   "execution_count": 6,
   "id": "1194ee30-c2bc-4514-9714-a783d32f2e2d",
   "metadata": {},
   "outputs": [
    {
     "data": {
      "text/plain": [
       "'https://pubmed.ncbi.nlm.nih.gov/37196065'"
      ]
     },
     "execution_count": 6,
     "metadata": {},
     "output_type": "execute_result"
    }
   ],
   "source": [
    "def pubmed_url(pmid):\n",
    "    return(\"https://pubmed.ncbi.nlm.nih.gov/\" + pmid)\n",
    "\n",
    "pubmed_url(pmids[0])"
   ]
  }
 ],
 "metadata": {
  "kernelspec": {
   "display_name": "Python 3 (ipykernel)",
   "language": "python",
   "name": "python3"
  },
  "language_info": {
   "codemirror_mode": {
    "name": "ipython",
    "version": 3
   },
   "file_extension": ".py",
   "mimetype": "text/x-python",
   "name": "python",
   "nbconvert_exporter": "python",
   "pygments_lexer": "ipython3",
   "version": "3.10.5"
  }
 },
 "nbformat": 4,
 "nbformat_minor": 5
}
