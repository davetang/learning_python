{
 "cells": [
  {
   "cell_type": "markdown",
   "id": "387de253-ed9d-4c39-8bb3-2c7bdd2acf49",
   "metadata": {},
   "source": [
    "Using the [metapub](https://pypi.org/project/metapub/) package to fetch PubMed data.\n",
    "\n",
    "Install using `pip`."
   ]
  },
  {
   "cell_type": "code",
   "execution_count": 1,
   "id": "5c39b789-e4d1-4d66-bb7d-07c68ebd25e7",
   "metadata": {},
   "outputs": [
    {
     "name": "stdout",
     "output_type": "stream",
     "text": [
      "Requirement already satisfied: metapub in /opt/conda/lib/python3.10/site-packages (0.5.5)\n",
      "Requirement already satisfied: lxml in /opt/conda/lib/python3.10/site-packages (from metapub) (4.9.2)\n",
      "Requirement already satisfied: eutils in /opt/conda/lib/python3.10/site-packages (from metapub) (0.6.0)\n",
      "Requirement already satisfied: pytest in /opt/conda/lib/python3.10/site-packages (from metapub) (7.3.1)\n",
      "Requirement already satisfied: requests in /opt/conda/lib/python3.10/site-packages (from metapub) (2.28.1)\n",
      "Requirement already satisfied: cssselect in /opt/conda/lib/python3.10/site-packages (from metapub) (1.2.0)\n",
      "Requirement already satisfied: six in /opt/conda/lib/python3.10/site-packages (from metapub) (1.16.0)\n",
      "Requirement already satisfied: coloredlogs in /opt/conda/lib/python3.10/site-packages (from metapub) (15.0.1)\n",
      "Requirement already satisfied: tabulate in /opt/conda/lib/python3.10/site-packages (from metapub) (0.9.0)\n",
      "Requirement already satisfied: unidecode in /opt/conda/lib/python3.10/site-packages (from metapub) (1.3.6)\n",
      "Requirement already satisfied: tox in /opt/conda/lib/python3.10/site-packages (from metapub) (4.5.1)\n",
      "Requirement already satisfied: habanero in /opt/conda/lib/python3.10/site-packages (from metapub) (1.2.3)\n",
      "Requirement already satisfied: python-Levenshtein in /opt/conda/lib/python3.10/site-packages (from metapub) (0.21.0)\n",
      "Requirement already satisfied: docopt in /opt/conda/lib/python3.10/site-packages (from metapub) (0.6.2)\n",
      "Requirement already satisfied: setuptools in /opt/conda/lib/python3.10/site-packages (from metapub) (63.2.0)\n",
      "Requirement already satisfied: humanfriendly>=9.1 in /opt/conda/lib/python3.10/site-packages (from coloredlogs->metapub) (10.0)\n",
      "Requirement already satisfied: pytz in /opt/conda/lib/python3.10/site-packages (from eutils->metapub) (2022.1)\n",
      "Requirement already satisfied: tqdm in /opt/conda/lib/python3.10/site-packages (from habanero->metapub) (4.64.0)\n",
      "Requirement already satisfied: urllib3<1.27,>=1.21.1 in /opt/conda/lib/python3.10/site-packages (from requests->metapub) (1.26.11)\n",
      "Requirement already satisfied: idna<4,>=2.5 in /opt/conda/lib/python3.10/site-packages (from requests->metapub) (3.3)\n",
      "Requirement already satisfied: certifi>=2017.4.17 in /opt/conda/lib/python3.10/site-packages (from requests->metapub) (2022.6.15)\n",
      "Requirement already satisfied: charset-normalizer<3,>=2 in /opt/conda/lib/python3.10/site-packages (from requests->metapub) (2.1.0)\n",
      "Requirement already satisfied: pluggy<2.0,>=0.12 in /opt/conda/lib/python3.10/site-packages (from pytest->metapub) (1.0.0)\n",
      "Requirement already satisfied: exceptiongroup>=1.0.0rc8 in /opt/conda/lib/python3.10/site-packages (from pytest->metapub) (1.1.1)\n",
      "Requirement already satisfied: tomli>=1.0.0 in /opt/conda/lib/python3.10/site-packages (from pytest->metapub) (2.0.1)\n",
      "Requirement already satisfied: iniconfig in /opt/conda/lib/python3.10/site-packages (from pytest->metapub) (2.0.0)\n",
      "Requirement already satisfied: packaging in /opt/conda/lib/python3.10/site-packages (from pytest->metapub) (23.1)\n",
      "Requirement already satisfied: Levenshtein==0.21.0 in /opt/conda/lib/python3.10/site-packages (from python-Levenshtein->metapub) (0.21.0)\n",
      "Requirement already satisfied: rapidfuzz<4.0.0,>=2.3.0 in /opt/conda/lib/python3.10/site-packages (from Levenshtein==0.21.0->python-Levenshtein->metapub) (3.0.0)\n",
      "Requirement already satisfied: platformdirs>=3.2 in /opt/conda/lib/python3.10/site-packages (from tox->metapub) (3.5.1)\n",
      "Requirement already satisfied: colorama>=0.4.6 in /opt/conda/lib/python3.10/site-packages (from tox->metapub) (0.4.6)\n",
      "Requirement already satisfied: filelock>=3.11 in /opt/conda/lib/python3.10/site-packages (from tox->metapub) (3.12.0)\n",
      "Requirement already satisfied: pyproject-api>=1.5.1 in /opt/conda/lib/python3.10/site-packages (from tox->metapub) (1.5.1)\n",
      "Requirement already satisfied: cachetools>=5.3 in /opt/conda/lib/python3.10/site-packages (from tox->metapub) (5.3.0)\n",
      "Requirement already satisfied: virtualenv>=20.21 in /opt/conda/lib/python3.10/site-packages (from tox->metapub) (20.23.0)\n",
      "Requirement already satisfied: chardet>=5.1 in /opt/conda/lib/python3.10/site-packages (from tox->metapub) (5.1.0)\n",
      "Requirement already satisfied: distlib<1,>=0.3.6 in /opt/conda/lib/python3.10/site-packages (from virtualenv>=20.21->tox->metapub) (0.3.6)\n"
     ]
    }
   ],
   "source": [
    "import sys\n",
    "!{sys.executable} -m pip install metapub"
   ]
  },
  {
   "cell_type": "markdown",
   "id": "5dbeffcb-da92-4310-9a2c-bf56ad24a611",
   "metadata": {},
   "source": [
    "Set NCBI API Key, which is optional but allows you to perform more queries per second (10 instead of 3)."
   ]
  },
  {
   "cell_type": "code",
   "execution_count": 2,
   "id": "433ba4da-5ec1-4384-abfe-a6740e7997ce",
   "metadata": {},
   "outputs": [],
   "source": [
    "!export NCBI_API_KEY=\"your_key\""
   ]
  },
  {
   "cell_type": "markdown",
   "id": "2b52093d-cec5-4a36-af58-9f1331ce1964",
   "metadata": {},
   "source": [
    "Fetch PubMed IDs (default is up to 250)."
   ]
  },
  {
   "cell_type": "code",
   "execution_count": 3,
   "id": "c32a46b7-505e-4f2d-864f-fe1c80643176",
   "metadata": {},
   "outputs": [
    {
     "name": "stderr",
     "output_type": "stream",
     "text": [
      "2023-05-19 05:01:12 d315a1023584 metapub.config[1404] WARNING NCBI_API_KEY was not set.\n"
     ]
    },
    {
     "name": "stdout",
     "output_type": "stream",
     "text": [
      "250\n"
     ]
    }
   ],
   "source": [
    "from metapub import PubMedFetcher\n",
    "fetch = PubMedFetcher()\n",
    "\n",
    "keyword=\"checkpoint inhibitor\"\n",
    "\n",
    "pmids = fetch.pmids_for_query(keyword)\n",
    "print(len(pmids))"
   ]
  },
  {
   "cell_type": "markdown",
   "id": "0ab0334d-cf32-4271-90c0-a2ef0756eead",
   "metadata": {},
   "source": [
    "Fetch PubMed IDs by specifying `retmax`."
   ]
  },
  {
   "cell_type": "code",
   "execution_count": 4,
   "id": "1a7483e7-69aa-4707-85e9-3b78d0a86a3d",
   "metadata": {},
   "outputs": [
    {
     "name": "stdout",
     "output_type": "stream",
     "text": [
      "9999\n"
     ]
    }
   ],
   "source": [
    "from metapub import PubMedFetcher\n",
    "fetch = PubMedFetcher()\n",
    "\n",
    "keyword=\"checkpoint inhibitor\"\n",
    "\n",
    "pmids = fetch.pmids_for_query(keyword, retmax=100000)\n",
    "print(len(pmids))"
   ]
  },
  {
   "cell_type": "markdown",
   "id": "8d51a130-7294-418f-82d6-f9faeb308597",
   "metadata": {},
   "source": [
    "9999 IDs is the maximum number that will be returned."
   ]
  },
  {
   "cell_type": "code",
   "execution_count": 5,
   "id": "9691bc5e-f84c-4bd3-8c0f-7edb3c9fa4e7",
   "metadata": {},
   "outputs": [
    {
     "name": "stdout",
     "output_type": "stream",
     "text": [
      "9999\n"
     ]
    }
   ],
   "source": [
    "from metapub import PubMedFetcher\n",
    "fetch = PubMedFetcher()\n",
    "\n",
    "keyword=\"bioinformatics\"\n",
    "\n",
    "pmids = fetch.pmids_for_query(keyword, retmax=100000)\n",
    "print(len(pmids))"
   ]
  },
  {
   "cell_type": "markdown",
   "id": "598d89c1-cf63-40ca-91b8-65f534bc36b1",
   "metadata": {},
   "source": [
    "Get articles. Note that without a NCBI API KEY, your queries will be automatically throttled to 3 queries per second."
   ]
  },
  {
   "cell_type": "code",
   "execution_count": 6,
   "id": "c13bd395-03e8-4a8a-a5bf-671ee430686a",
   "metadata": {},
   "outputs": [
    {
     "name": "stdout",
     "output_type": "stream",
     "text": [
      "37202831\n",
      "37202802\n",
      "37202796\n",
      "37202791\n",
      "37202739\n",
      "<PubMedArticle 37202831> Paskett ED; Kruse-Diehr AJ; Oliveri JM; Vanderpool RC; Gray DM; Pennell ML; Huang B; Young GS; Fickle D; Cromo M; Katz ML; Reiter PL; Rogers M; Gross DA; Fairchild V; Xu W; Carman A; Walunis JM; McAlearney AS; Huerta TR; Rahurkar S; Biederman E; Dignan M. Accelerating Colorectal Cancer Screening and Follow-up through Implementation Science (ACCSIS) in Appalachia: protocol for a group randomized, delayed intervention trial.. Transl Behav Med. 2023. None:None\n"
     ]
    }
   ],
   "source": [
    "articles = {}\n",
    "for pmid in pmids[0:5]:\n",
    "    print(pmid)\n",
    "    articles[pmid] = fetch.article_by_pmid(pmid)\n",
    "    \n",
    "print(articles[pmids[0]])"
   ]
  },
  {
   "cell_type": "markdown",
   "id": "9ef2a381-a9e8-45ad-837e-1f1a6917288e",
   "metadata": {},
   "source": [
    "Print attributes."
   ]
  },
  {
   "cell_type": "code",
   "execution_count": 7,
   "id": "b217893f-485b-46e7-b175-f58c8cf6db16",
   "metadata": {},
   "outputs": [
    {
     "name": "stdout",
     "output_type": "stream",
     "text": [
      "Title: Accelerating Colorectal Cancer Screening and Follow-up through Implementation Science (ACCSIS) in Appalachia: protocol for a group randomized, delayed intervention trial.\n",
      "Abstract: Appalachian regions of Kentucky and Ohio are hotspots for colorectal cancer (CRC) mortality in the USA. Screening reduces CRC incidence and mortality; however, screening uptake is needed, especially in these underserved geographic areas. Implementation science offers strategies to address this challenge. The aim of the current study was to conduct multi-site, transdisciplinary research to evaluate and improve CRC screening processes using implementation science strategies. The study consists of two phases (Planning and Implementation). In the Planning Phase, a multilevel assessment of 12 health centers (HC) (one HC from each of the 12 Appalachian counties) was conducted by interviewing key informants, creating community profiles, identifying HC and community champions, and performing HC data inventories. Two designated pilot HCs chose CRC evidence-based interventions to adapt and implement at each level (i.e., patient, provider, HC, and community) with evaluation relative to two matched control HCs. During the Implementation Phase, study staff will repeat the rollout process in HC and community settings in a randomized, staggered fashion in the remaining eight counties/HCs. Evaluation will include analyses of electronic health record data and provider and county surveys. Rural HCs have been reluctant to participate in research because of concerns about capacity; however, this project should demonstrate that research does not need to be burdensome and can adapt to local needs and HC abilities. If effective, this approach could be disseminated to HC and community partners throughout Appalachia to encourage the uptake of effective interventions to reduce the burden of CRC.\n",
      "Author/s: ['Paskett ED', 'Kruse-Diehr AJ', 'Oliveri JM', 'Vanderpool RC', 'Gray DM', 'Pennell ML', 'Huang B', 'Young GS', 'Fickle D', 'Cromo M', 'Katz ML', 'Reiter PL', 'Rogers M', 'Gross DA', 'Fairchild V', 'Xu W', 'Carman A', 'Walunis JM', 'McAlearney AS', 'Huerta TR', 'Rahurkar S', 'Biederman E', 'Dignan M']\n",
      "Published: Transl Behav Med, 2023, None, None\n",
      "Citation: Paskett ED, et al. Accelerating Colorectal Cancer Screening and Follow-up through Implementation Science (ACCSIS) in Appalachia: protocol for a group randomized, delayed intervention trial. Accelerating Colorectal Cancer Screening and Follow-up through Implementation Science (ACCSIS) in Appalachia: protocol for a group randomized, delayed intervention trial. 2023; (unknown volume):(unknown pages). doi: 10.1093/tbm/ibad017\n"
     ]
    }
   ],
   "source": [
    "article = articles[pmids[0]]\n",
    "print(f\"Title: {article.title}\")\n",
    "print(f\"Abstract: {article.abstract}\")\n",
    "print(f\"Author/s: {article.authors}\")\n",
    "print(f\"Published: {article.journal}, {article.year}, {article.volume}, {article.issue}\")\n",
    "print(f\"Citation: {article.citation}\")"
   ]
  },
  {
   "cell_type": "markdown",
   "id": "d18c1fbf-512d-4ac8-b6a4-a51ea3c01516",
   "metadata": {},
   "source": [
    "Build link."
   ]
  },
  {
   "cell_type": "code",
   "execution_count": 8,
   "id": "1194ee30-c2bc-4514-9714-a783d32f2e2d",
   "metadata": {},
   "outputs": [
    {
     "data": {
      "text/plain": [
       "'https://pubmed.ncbi.nlm.nih.gov/37202831'"
      ]
     },
     "execution_count": 8,
     "metadata": {},
     "output_type": "execute_result"
    }
   ],
   "source": [
    "def pubmed_url(pmid):\n",
    "    return(\"https://pubmed.ncbi.nlm.nih.gov/\" + pmid)\n",
    "\n",
    "pubmed_url(pmids[0])"
   ]
  }
 ],
 "metadata": {
  "kernelspec": {
   "display_name": "Python 3 (ipykernel)",
   "language": "python",
   "name": "python3"
  },
  "language_info": {
   "codemirror_mode": {
    "name": "ipython",
    "version": 3
   },
   "file_extension": ".py",
   "mimetype": "text/x-python",
   "name": "python",
   "nbconvert_exporter": "python",
   "pygments_lexer": "ipython3",
   "version": "3.10.5"
  }
 },
 "nbformat": 4,
 "nbformat_minor": 5
}
