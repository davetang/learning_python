{
 "cells": [
  {
   "cell_type": "markdown",
   "id": "387de253-ed9d-4c39-8bb3-2c7bdd2acf49",
   "metadata": {},
   "source": [
    "Using the [metapub](https://pypi.org/project/metapub/) package to fetch PubMed data.\n",
    "\n",
    "Install using `pip`."
   ]
  },
  {
   "cell_type": "code",
   "execution_count": 1,
   "id": "5c39b789-e4d1-4d66-bb7d-07c68ebd25e7",
   "metadata": {},
   "outputs": [
    {
     "name": "stdout",
     "output_type": "stream",
     "text": [
      "Collecting metapub\n",
      "  Downloading metapub-0.5.5.tar.gz (120 kB)\n",
      "\u001b[2K     \u001b[90m━━━━━━━━━━━━━━━━━━━━━━━━━━━━━━━━━━━━━━\u001b[0m \u001b[32m120.3/120.3 kB\u001b[0m \u001b[31m11.5 MB/s\u001b[0m eta \u001b[36m0:00:00\u001b[0m\n",
      "\u001b[?25h  Preparing metadata (setup.py) ... \u001b[?25ldone\n",
      "\u001b[?25hRequirement already satisfied: setuptools in /opt/conda/lib/python3.10/site-packages (from metapub) (63.2.0)\n",
      "Collecting lxml\n",
      "  Downloading lxml-4.9.2-cp310-cp310-manylinux_2_17_x86_64.manylinux2014_x86_64.manylinux_2_24_x86_64.whl (7.1 MB)\n",
      "\u001b[2K     \u001b[90m━━━━━━━━━━━━━━━━━━━━━━━━━━━━━━━━━━━━━━━━\u001b[0m \u001b[32m7.1/7.1 MB\u001b[0m \u001b[31m22.0 MB/s\u001b[0m eta \u001b[36m0:00:00\u001b[0m00:01\u001b[0m00:01\u001b[0m\n",
      "\u001b[?25hRequirement already satisfied: requests in /opt/conda/lib/python3.10/site-packages (from metapub) (2.28.1)\n",
      "Collecting eutils\n",
      "  Downloading eutils-0.6.0-py2.py3-none-any.whl (41 kB)\n",
      "\u001b[2K     \u001b[90m━━━━━━━━━━━━━━━━━━━━━━━━━━━━━━━━━━━━━━━━\u001b[0m \u001b[32m41.9/41.9 kB\u001b[0m \u001b[31m9.2 MB/s\u001b[0m eta \u001b[36m0:00:00\u001b[0m\n",
      "\u001b[?25hCollecting habanero\n",
      "  Downloading habanero-1.2.3-py2.py3-none-any.whl (30 kB)\n",
      "Collecting tabulate\n",
      "  Downloading tabulate-0.9.0-py3-none-any.whl (35 kB)\n",
      "Collecting cssselect\n",
      "  Downloading cssselect-1.2.0-py2.py3-none-any.whl (18 kB)\n",
      "Collecting unidecode\n",
      "  Downloading Unidecode-1.3.6-py3-none-any.whl (235 kB)\n",
      "\u001b[2K     \u001b[90m━━━━━━━━━━━━━━━━━━━━━━━━━━━━━━━━━━━━━━\u001b[0m \u001b[32m235.9/235.9 kB\u001b[0m \u001b[31m18.2 MB/s\u001b[0m eta \u001b[36m0:00:00\u001b[0m\n",
      "\u001b[?25hCollecting docopt\n",
      "  Downloading docopt-0.6.2.tar.gz (25 kB)\n",
      "  Preparing metadata (setup.py) ... \u001b[?25ldone\n",
      "\u001b[?25hRequirement already satisfied: six in /opt/conda/lib/python3.10/site-packages (from metapub) (1.16.0)\n",
      "Collecting tox\n",
      "  Downloading tox-4.5.1-py3-none-any.whl (148 kB)\n",
      "\u001b[2K     \u001b[90m━━━━━━━━━━━━━━━━━━━━━━━━━━━━━━━━━━━━━━\u001b[0m \u001b[32m149.0/149.0 kB\u001b[0m \u001b[31m31.4 MB/s\u001b[0m eta \u001b[36m0:00:00\u001b[0m\n",
      "\u001b[?25hCollecting pytest\n",
      "  Downloading pytest-7.3.1-py3-none-any.whl (320 kB)\n",
      "\u001b[2K     \u001b[90m━━━━━━━━━━━━━━━━━━━━━━━━━━━━━━━━━━━━━━\u001b[0m \u001b[32m320.5/320.5 kB\u001b[0m \u001b[31m23.3 MB/s\u001b[0m eta \u001b[36m0:00:00\u001b[0m\n",
      "\u001b[?25hCollecting coloredlogs\n",
      "  Downloading coloredlogs-15.0.1-py2.py3-none-any.whl (46 kB)\n",
      "\u001b[2K     \u001b[90m━━━━━━━━━━━━━━━━━━━━━━━━━━━━━━━━━━━━━━━━\u001b[0m \u001b[32m46.0/46.0 kB\u001b[0m \u001b[31m22.6 MB/s\u001b[0m eta \u001b[36m0:00:00\u001b[0m\n",
      "\u001b[?25hCollecting python-Levenshtein\n",
      "  Downloading python_Levenshtein-0.21.0-py3-none-any.whl (9.4 kB)\n",
      "Collecting humanfriendly>=9.1\n",
      "  Downloading humanfriendly-10.0-py2.py3-none-any.whl (86 kB)\n",
      "\u001b[2K     \u001b[90m━━━━━━━━━━━━━━━━━━━━━━━━━━━━━━━━━━━━━━━━\u001b[0m \u001b[32m86.8/86.8 kB\u001b[0m \u001b[31m18.5 MB/s\u001b[0m eta \u001b[36m0:00:00\u001b[0m\n",
      "\u001b[?25hRequirement already satisfied: pytz in /opt/conda/lib/python3.10/site-packages (from eutils->metapub) (2022.1)\n",
      "Requirement already satisfied: tqdm in /opt/conda/lib/python3.10/site-packages (from habanero->metapub) (4.64.0)\n",
      "Requirement already satisfied: idna<4,>=2.5 in /opt/conda/lib/python3.10/site-packages (from requests->metapub) (3.3)\n",
      "Requirement already satisfied: urllib3<1.27,>=1.21.1 in /opt/conda/lib/python3.10/site-packages (from requests->metapub) (1.26.11)\n",
      "Requirement already satisfied: charset-normalizer<3,>=2 in /opt/conda/lib/python3.10/site-packages (from requests->metapub) (2.1.0)\n",
      "Requirement already satisfied: certifi>=2017.4.17 in /opt/conda/lib/python3.10/site-packages (from requests->metapub) (2022.6.15)\n",
      "Collecting pluggy<2.0,>=0.12\n",
      "  Downloading pluggy-1.0.0-py2.py3-none-any.whl (13 kB)\n",
      "Collecting tomli>=1.0.0\n",
      "  Downloading tomli-2.0.1-py3-none-any.whl (12 kB)\n",
      "Requirement already satisfied: packaging in /opt/conda/lib/python3.10/site-packages (from pytest->metapub) (21.3)\n",
      "Collecting exceptiongroup>=1.0.0rc8\n",
      "  Downloading exceptiongroup-1.1.1-py3-none-any.whl (14 kB)\n",
      "Collecting iniconfig\n",
      "  Downloading iniconfig-2.0.0-py3-none-any.whl (5.9 kB)\n",
      "Collecting Levenshtein==0.21.0\n",
      "  Downloading Levenshtein-0.21.0-cp310-cp310-manylinux_2_17_x86_64.manylinux2014_x86_64.whl (174 kB)\n",
      "\u001b[2K     \u001b[90m━━━━━━━━━━━━━━━━━━━━━━━━━━━━━━━━━━━━━━\u001b[0m \u001b[32m174.1/174.1 kB\u001b[0m \u001b[31m32.1 MB/s\u001b[0m eta \u001b[36m0:00:00\u001b[0m\n",
      "\u001b[?25hCollecting rapidfuzz<4.0.0,>=2.3.0\n",
      "  Downloading rapidfuzz-3.0.0-cp310-cp310-manylinux_2_17_x86_64.manylinux2014_x86_64.whl (3.0 MB)\n",
      "\u001b[2K     \u001b[90m━━━━━━━━━━━━━━━━━━━━━━━━━━━━━━━━━━━━━━━━\u001b[0m \u001b[32m3.0/3.0 MB\u001b[0m \u001b[31m19.9 MB/s\u001b[0m eta \u001b[36m0:00:00\u001b[0m00:01\u001b[0m00:01\u001b[0m\n",
      "\u001b[?25hCollecting pyproject-api>=1.5.1\n",
      "  Downloading pyproject_api-1.5.1-py3-none-any.whl (12 kB)\n",
      "Collecting colorama>=0.4.6\n",
      "  Downloading colorama-0.4.6-py2.py3-none-any.whl (25 kB)\n",
      "Collecting virtualenv>=20.21\n",
      "  Downloading virtualenv-20.23.0-py3-none-any.whl (3.3 MB)\n",
      "\u001b[2K     \u001b[90m━━━━━━━━━━━━━━━━━━━━━━━━━━━━━━━━━━━━━━━━\u001b[0m \u001b[32m3.3/3.3 MB\u001b[0m \u001b[31m21.3 MB/s\u001b[0m eta \u001b[36m0:00:00\u001b[0m00:01\u001b[0m00:01\u001b[0m\n",
      "\u001b[?25hCollecting packaging\n",
      "  Downloading packaging-23.1-py3-none-any.whl (48 kB)\n",
      "\u001b[2K     \u001b[90m━━━━━━━━━━━━━━━━━━━━━━━━━━━━━━━━━━━━━━━━\u001b[0m \u001b[32m48.9/48.9 kB\u001b[0m \u001b[31m11.3 MB/s\u001b[0m eta \u001b[36m0:00:00\u001b[0m\n",
      "\u001b[?25hCollecting cachetools>=5.3\n",
      "  Downloading cachetools-5.3.0-py3-none-any.whl (9.3 kB)\n",
      "Collecting filelock>=3.11\n",
      "  Downloading filelock-3.12.0-py3-none-any.whl (10 kB)\n",
      "Collecting chardet>=5.1\n",
      "  Downloading chardet-5.1.0-py3-none-any.whl (199 kB)\n",
      "\u001b[2K     \u001b[90m━━━━━━━━━━━━━━━━━━━━━━━━━━━━━━━━━━━━━━\u001b[0m \u001b[32m199.1/199.1 kB\u001b[0m \u001b[31m19.1 MB/s\u001b[0m eta \u001b[36m0:00:00\u001b[0m\n",
      "\u001b[?25hCollecting platformdirs>=3.2\n",
      "  Downloading platformdirs-3.5.1-py3-none-any.whl (15 kB)\n",
      "Collecting distlib<1,>=0.3.6\n",
      "  Downloading distlib-0.3.6-py2.py3-none-any.whl (468 kB)\n",
      "\u001b[2K     \u001b[90m━━━━━━━━━━━━━━━━━━━━━━━━━━━━━━━━━━━━━━\u001b[0m \u001b[32m468.5/468.5 kB\u001b[0m \u001b[31m22.7 MB/s\u001b[0m eta \u001b[36m0:00:00\u001b[0m\n",
      "\u001b[?25hBuilding wheels for collected packages: metapub, docopt\n",
      "  Building wheel for metapub (setup.py) ... \u001b[?25ldone\n",
      "\u001b[?25h  Created wheel for metapub: filename=metapub-0.5.5-py3-none-any.whl size=135353 sha256=b29a9c8eea8efe246d274ae45aaf6b7d4849dd666b057159c671cb5a0522d678\n",
      "  Stored in directory: /home/jovyan/.cache/pip/wheels/14/2f/e7/b1df60d116db48f981dc3a8b320c9ba2d27d2526d5bad3579d\n",
      "  Building wheel for docopt (setup.py) ... \u001b[?25ldone\n",
      "\u001b[?25h  Created wheel for docopt: filename=docopt-0.6.2-py2.py3-none-any.whl size=13706 sha256=fa5a5d2327547608ca6a32ac74473f7dcfa6650cc9498decb1799d518bbe1ed0\n",
      "  Stored in directory: /home/jovyan/.cache/pip/wheels/fc/ab/d4/5da2067ac95b36618c629a5f93f809425700506f72c9732fac\n",
      "Successfully built metapub docopt\n",
      "Installing collected packages: docopt, distlib, unidecode, tomli, tabulate, rapidfuzz, pluggy, platformdirs, packaging, lxml, iniconfig, humanfriendly, filelock, exceptiongroup, cssselect, colorama, chardet, cachetools, virtualenv, pytest, pyproject-api, Levenshtein, habanero, eutils, coloredlogs, tox, python-Levenshtein, metapub\n",
      "  Attempting uninstall: packaging\n",
      "    Found existing installation: packaging 21.3\n",
      "    Uninstalling packaging-21.3:\n",
      "      Successfully uninstalled packaging-21.3\n",
      "  Attempting uninstall: colorama\n",
      "    Found existing installation: colorama 0.4.5\n",
      "    Uninstalling colorama-0.4.5:\n",
      "      Successfully uninstalled colorama-0.4.5\n",
      "  Attempting uninstall: cachetools\n",
      "    Found existing installation: cachetools 5.0.0\n",
      "    Uninstalling cachetools-5.0.0:\n",
      "      Successfully uninstalled cachetools-5.0.0\n",
      "Successfully installed Levenshtein-0.21.0 cachetools-5.3.0 chardet-5.1.0 colorama-0.4.6 coloredlogs-15.0.1 cssselect-1.2.0 distlib-0.3.6 docopt-0.6.2 eutils-0.6.0 exceptiongroup-1.1.1 filelock-3.12.0 habanero-1.2.3 humanfriendly-10.0 iniconfig-2.0.0 lxml-4.9.2 metapub-0.5.5 packaging-23.1 platformdirs-3.5.1 pluggy-1.0.0 pyproject-api-1.5.1 pytest-7.3.1 python-Levenshtein-0.21.0 rapidfuzz-3.0.0 tabulate-0.9.0 tomli-2.0.1 tox-4.5.1 unidecode-1.3.6 virtualenv-20.23.0\n"
     ]
    }
   ],
   "source": [
    "import sys\n",
    "!{sys.executable} -m pip install metapub"
   ]
  },
  {
   "cell_type": "markdown",
   "id": "5dbeffcb-da92-4310-9a2c-bf56ad24a611",
   "metadata": {},
   "source": [
    "Set NCBI API Key, which is optional but allows you to perform more queries."
   ]
  },
  {
   "cell_type": "code",
   "execution_count": 2,
   "id": "433ba4da-5ec1-4384-abfe-a6740e7997ce",
   "metadata": {},
   "outputs": [],
   "source": [
    "!export NCBI_API_KEY=\"your_key\""
   ]
  },
  {
   "cell_type": "markdown",
   "id": "2b52093d-cec5-4a36-af58-9f1331ce1964",
   "metadata": {},
   "source": [
    "Fetch PubMed IDs."
   ]
  },
  {
   "cell_type": "code",
   "execution_count": 3,
   "id": "c32a46b7-505e-4f2d-864f-fe1c80643176",
   "metadata": {},
   "outputs": [
    {
     "name": "stderr",
     "output_type": "stream",
     "text": [
      "2023-05-18 02:47:15 52ff4a63f87b metapub.config[127] WARNING NCBI_API_KEY was not set.\n"
     ]
    },
    {
     "name": "stdout",
     "output_type": "stream",
     "text": [
      "['37196065', '37195586', '37195459', '37195370', '37195298']\n"
     ]
    }
   ],
   "source": [
    "from metapub import PubMedFetcher\n",
    "fetch = PubMedFetcher()\n",
    "\n",
    "keyword=\"checkpoint inhibitor\"\n",
    "\n",
    "pmids = fetch.pmids_for_query(keyword, retmax=5)\n",
    "print(pmids)"
   ]
  },
  {
   "cell_type": "markdown",
   "id": "598d89c1-cf63-40ca-91b8-65f534bc36b1",
   "metadata": {},
   "source": [
    "Get articles."
   ]
  },
  {
   "cell_type": "code",
   "execution_count": 4,
   "id": "c13bd395-03e8-4a8a-a5bf-671ee430686a",
   "metadata": {},
   "outputs": [
    {
     "name": "stdout",
     "output_type": "stream",
     "text": [
      "<PubMedArticle 37196065> Lechner MG; Zhou Z; Hoang AT; Huang N; Ortega J; Scott LN; Chen HC; Patel AY; Yakhshi-Tafti R; Kim K; Hugo W; Famini P; Drakaki A; Ribas A; Angell TE; Su MA. Clonally expanded, thyrotoxic effector CD8<sup>+</sup> T cells driven by IL-21 contribute to checkpoint inhibitor thyroiditis.. Sci Transl Med. 2023. 15(696):eadg0675\n"
     ]
    }
   ],
   "source": [
    "articles = {}\n",
    "for pmid in pmids:\n",
    "    articles[pmid] = fetch.article_by_pmid(pmid)\n",
    "    \n",
    "print(articles[pmids[0]])"
   ]
  },
  {
   "cell_type": "markdown",
   "id": "9ef2a381-a9e8-45ad-837e-1f1a6917288e",
   "metadata": {},
   "source": [
    "Print attributes."
   ]
  },
  {
   "cell_type": "code",
   "execution_count": 5,
   "id": "b217893f-485b-46e7-b175-f58c8cf6db16",
   "metadata": {},
   "outputs": [
    {
     "name": "stdout",
     "output_type": "stream",
     "text": [
      "Title: Clonally expanded, thyrotoxic effector CD8<sup>+</sup> T cells driven by IL-21 contribute to checkpoint inhibitor thyroiditis.\n",
      "Abstract: Autoimmune toxicity occurs in up to 60% of patients treated with immune checkpoint inhibitor (ICI) therapy for cancer and represents an increasing clinical challenge for expanding the use of these treatments. To date, human immunopathogenic studies of immune-related adverse events (IRAEs) have relied on sampling of circulating peripheral blood cells rather than affected tissues. Here, we directly obtained thyroid specimens from individuals with ICI-thyroiditis, one of the most common IRAEs, and compared immune infiltrates with those from individuals with spontaneous autoimmune Hashimoto's thyroiditis (HT) or no thyroid disease. Single-cell RNA sequencing revealed a dominant, clonally expanded population of thyroid-infiltrating cytotoxic CXCR6\n",
      "Author/s: ['Lechner MG', 'Zhou Z', 'Hoang AT', 'Huang N', 'Ortega J', 'Scott LN', 'Chen HC', 'Patel AY', 'Yakhshi-Tafti R', 'Kim K', 'Hugo W', 'Famini P', 'Drakaki A', 'Ribas A', 'Angell TE', 'Su MA']\n",
      "Published: Sci Transl Med, 2023, 15, 696\n",
      "Citation: Lechner MG, et al. Clonally expanded, thyrotoxic effector CD8<sup>+</sup> T cells driven by IL-21 contribute to checkpoint inhibitor thyroiditis. Clonally expanded, thyrotoxic effector CD8<sup>+</sup> T cells driven by IL-21 contribute to checkpoint inhibitor thyroiditis. 2023; 15:eadg0675. doi: 10.1126/scitranslmed.adg0675\n"
     ]
    }
   ],
   "source": [
    "article = articles[pmids[0]]\n",
    "print(f\"Title: {article.title}\")\n",
    "print(f\"Abstract: {article.abstract}\")\n",
    "print(f\"Author/s: {article.authors}\")\n",
    "print(f\"Published: {article.journal}, {article.year}, {article.volume}, {article.issue}\")\n",
    "print(f\"Citation: {article.citation}\")"
   ]
  },
  {
   "cell_type": "markdown",
   "id": "d18c1fbf-512d-4ac8-b6a4-a51ea3c01516",
   "metadata": {},
   "source": [
    "Build link."
   ]
  },
  {
   "cell_type": "code",
   "execution_count": 6,
   "id": "1194ee30-c2bc-4514-9714-a783d32f2e2d",
   "metadata": {},
   "outputs": [
    {
     "data": {
      "text/plain": [
       "'https://pubmed.ncbi.nlm.nih.gov/37196065'"
      ]
     },
     "execution_count": 6,
     "metadata": {},
     "output_type": "execute_result"
    }
   ],
   "source": [
    "def pubmed_url(pmid):\n",
    "    return(\"https://pubmed.ncbi.nlm.nih.gov/\" + pmid)\n",
    "\n",
    "pubmed_url(pmids[0])"
   ]
  }
 ],
 "metadata": {
  "kernelspec": {
   "display_name": "Python 3 (ipykernel)",
   "language": "python",
   "name": "python3"
  },
  "language_info": {
   "codemirror_mode": {
    "name": "ipython",
    "version": 3
   },
   "file_extension": ".py",
   "mimetype": "text/x-python",
   "name": "python",
   "nbconvert_exporter": "python",
   "pygments_lexer": "ipython3",
   "version": "3.10.5"
  }
 },
 "nbformat": 4,
 "nbformat_minor": 5
}
