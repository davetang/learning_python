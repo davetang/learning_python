{
 "cells": [
  {
   "cell_type": "markdown",
   "id": "colonial-average",
   "metadata": {},
   "source": [
    "# Reference\n",
    "\n",
    "Reference guide for tasks that I am going to forget."
   ]
  },
  {
   "cell_type": "code",
   "execution_count": 23,
   "id": "appointed-foundation",
   "metadata": {},
   "outputs": [
    {
     "data": {
      "text/html": [
       "<style>\n",
       "   table {float: left}\n",
       "</style>\n"
      ],
      "text/plain": [
       "<IPython.core.display.HTML object>"
      ]
     },
     "metadata": {},
     "output_type": "display_data"
    }
   ],
   "source": [
    "%%html\n",
    "<style>\n",
    "   table {float: left}\n",
    "</style>"
   ]
  },
  {
   "cell_type": "markdown",
   "id": "moral-michael",
   "metadata": {},
   "source": [
    "## Read file line by line\n",
    "\n",
    "Use the [open](https://docs.python.org/3/library/functions.html#open) function with the file and the mode as arguments, where the mode is as follows:\n",
    "\n",
    "| Mode |    Description   |\n",
    "| ---- | ---------------- |\n",
    "|  r   |   reading        |\n",
    "|  w   |   writing        |\n",
    "|  a   |   appending      |\n",
    "|  rb  |   reading binary |\n",
    "|  wb  |   writing binary |"
   ]
  },
  {
   "cell_type": "code",
   "execution_count": 28,
   "id": "occasional-casting",
   "metadata": {},
   "outputs": [
    {
     "name": "stdout",
     "output_type": "stream",
     "text": [
      "Line 0: Sepal.Length,Sepal.Width,Petal.Length,Petal.Width,Species\n",
      "Line 1: 5.1,3.5,1.4,0.2,setosa\n",
      "Line 2: 4.9,3,1.4,0.2,setosa\n",
      "Line 3: 4.7,3.2,1.3,0.2,setosa\n"
     ]
    }
   ],
   "source": [
    "num_line = 5\n",
    "line_count = 1\n",
    "\n",
    "with open('../data/iris.csv') as f:\n",
    "    for index, line in enumerate(f):\n",
    "        if line_count == num_line:\n",
    "            break\n",
    "        print(\"Line {}: {}\".format(index, line.strip()))\n",
    "        line_count += 1"
   ]
  },
  {
   "cell_type": "markdown",
   "id": "cleared-luther",
   "metadata": {},
   "source": [
    "## Read gz file\n",
    "\n",
    "[Read lines from compressed text files](https://stackoverflow.com/questions/10566558/python-read-lines-from-compressed-text-files) using the `gzip` package."
   ]
  },
  {
   "cell_type": "code",
   "execution_count": 10,
   "id": "suitable-parent",
   "metadata": {},
   "outputs": [
    {
     "name": "stdout",
     "output_type": "stream",
     "text": [
      "Reading line number 1: ##fileformat=VCFv4.1\n",
      "\n",
      "Reading line number 2: ##FORMAT=<ID=AD,Number=.,Type=Integer,Description=\"Allelic depths for the ref and alt alleles in the order listed\">\n",
      "\n",
      "Reading line number 3: ##FORMAT=<ID=DP,Number=1,Type=Integer,Description=\"Approximate read depth (reads with MQ=255 or with bad mates are filtered)\">\n",
      "\n",
      "Reading line number 4: ##FORMAT=<ID=GQ,Number=1,Type=Float,Description=\"Genotype Quality\">\n",
      "\n"
     ]
    }
   ],
   "source": [
    "import gzip\n",
    "\n",
    "num_line = 5\n",
    "line_count = 1\n",
    "with gzip.open('../data/Pfeiffer.vcf.gz', 'rt') as f:\n",
    "    for line in f:\n",
    "        if line_count == num_line:\n",
    "            break\n",
    "        to_print = 'Reading line number {}: {}'\n",
    "        print(to_print.format(line_count, line))\n",
    "        line_count += 1"
   ]
  },
  {
   "cell_type": "markdown",
   "id": "portable-trustee",
   "metadata": {},
   "source": [
    "## Regular expressions\n",
    "\n",
    "Use the `re` package for regexes."
   ]
  },
  {
   "cell_type": "code",
   "execution_count": 13,
   "id": "large-desperate",
   "metadata": {},
   "outputs": [
    {
     "name": "stdout",
     "output_type": "stream",
     "text": [
      "#CHROM\tPOS\tID\tREF\tALT\tQUAL\tFILTER\tINFO\tFORMAT\tmanuel\n",
      "\n",
      "1\t866511\trs60722469\tC\tCCCCT\t258.62\tPASS\tAC=2;AF=1.00;AN=2;DB;DP=11;FS=0.000;HRun=0;HaplotypeScore=41.3338;MQ0=0;MQ=61.94;QD=23.51;set=variant\tGT:AD:DP:GQ:PL\t1/1:6,5:11:14.79:300,15,0\n",
      "\n",
      "1\t879317\trs7523549\tC\tT\t150.77\tPASS\tAC=1;AF=0.50;AN=2;BaseQRankSum=1.455;DB;DP=21;Dels=0.00;FS=1.984;HRun=0;HaplotypeScore=0.0000;MQ0=0;MQ=60.00;MQRankSum=-0.037;QD=7.18;ReadPosRankSum=0.112;set=variant2\tGT:AD:DP:GQ:PL\t0/1:14,7:21:99:181,0,367\n",
      "\n",
      "1\t879482\t.\tG\tC\t484.52\tPASS\tAC=1;AF=0.50;AN=2;BaseQRankSum=1.934;DP=48;Dels=0.00;FS=4.452;HRun=0;HaplotypeScore=0.5784;MQ0=0;MQ=59.13;MQRankSum=-0.240;QD=10.09;ReadPosRankSum=1.537;set=variant2\tGT:AD:DP:GQ:PL\t0/1:28,20:48:99:515,0,794\n",
      "\n"
     ]
    }
   ],
   "source": [
    "import gzip\n",
    "import re\n",
    "\n",
    "num_line = 5\n",
    "line_count = 1\n",
    "with gzip.open('../data/Pfeiffer.vcf.gz', 'rt') as f:\n",
    "    for line in f:\n",
    "        if re.search('^##', line):\n",
    "            continue\n",
    "        if line_count == num_line:\n",
    "            break\n",
    "        print(line)\n",
    "        line_count += 1"
   ]
  },
  {
   "cell_type": "markdown",
   "id": "eastern-feeding",
   "metadata": {},
   "source": [
    "## String splitting\n",
    "\n",
    "Use `string.split(separator, maxsplit)` where `maxsplit` specifies how many splits to perform (default is all occurrences)."
   ]
  },
  {
   "cell_type": "code",
   "execution_count": 21,
   "id": "ranking-macro",
   "metadata": {},
   "outputs": [
    {
     "name": "stdout",
     "output_type": "stream",
     "text": [
      "['1', '866511', 'rs60722469', 'C', 'CCCCT']\n",
      "['1', '879317', 'rs7523549', 'C', 'T']\n",
      "['1', '879482', '.', 'G', 'C']\n",
      "['1', '880390', 'rs3748593', 'C', 'A']\n"
     ]
    }
   ],
   "source": [
    "import gzip\n",
    "import re\n",
    "\n",
    "num_line = 5\n",
    "line_count = 1\n",
    "with gzip.open('../data/Pfeiffer.vcf.gz', 'rt') as f:\n",
    "    for line in f:\n",
    "        if re.search('^#', line):\n",
    "            continue\n",
    "        if line_count == num_line:\n",
    "            break\n",
    "        x = line.split(\"\\t\")\n",
    "        print(x[:5])\n",
    "        line_count += 1"
   ]
  }
 ],
 "metadata": {
  "kernelspec": {
   "display_name": "Python 3",
   "language": "python",
   "name": "python3"
  },
  "language_info": {
   "codemirror_mode": {
    "name": "ipython",
    "version": 3
   },
   "file_extension": ".py",
   "mimetype": "text/x-python",
   "name": "python",
   "nbconvert_exporter": "python",
   "pygments_lexer": "ipython3",
   "version": "3.8.8"
  }
 },
 "nbformat": 4,
 "nbformat_minor": 5
}
