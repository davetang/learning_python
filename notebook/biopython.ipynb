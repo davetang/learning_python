{
 "cells": [
  {
   "cell_type": "markdown",
   "id": "optimum-chapel",
   "metadata": {},
   "source": [
    "# Biopython\n",
    "\n",
    "The [Biopython Project](https://biopython.org/) is an international association of developers of freely available Python (https://www.python.org) tools for computational molecular biology.\n",
    "\n",
    "Install using `pip install biopython`."
   ]
  },
  {
   "cell_type": "code",
   "execution_count": 1,
   "id": "tight-expense",
   "metadata": {},
   "outputs": [
    {
     "name": "stdout",
     "output_type": "stream",
     "text": [
      "Requirement already satisfied: biopython in /opt/conda/lib/python3.8/site-packages (1.79)\n",
      "Requirement already satisfied: numpy in /opt/conda/lib/python3.8/site-packages (from biopython) (1.19.5)\n"
     ]
    }
   ],
   "source": [
    "import sys\n",
    "!{sys.executable} -m pip install biopython"
   ]
  },
  {
   "cell_type": "markdown",
   "id": "biblical-hanging",
   "metadata": {},
   "source": [
    "Biopython version."
   ]
  },
  {
   "cell_type": "code",
   "execution_count": 2,
   "id": "elegant-cannon",
   "metadata": {},
   "outputs": [
    {
     "name": "stdout",
     "output_type": "stream",
     "text": [
      "1.79\n"
     ]
    }
   ],
   "source": [
    "import Bio\n",
    "print(Bio.__version__)"
   ]
  },
  {
   "cell_type": "markdown",
   "id": "smaller-reduction",
   "metadata": {},
   "source": [
    "## Working with sequences\n",
    "\n",
    "The Biopython mechanisms for dealing with sequences is via the `Seq` object. Sequences are essentially strings of letters but the difference between `Seq` objects and standard Python strings is that they have different methods (although the `Seq` object supports many of the same methods as a plain string)."
   ]
  },
  {
   "cell_type": "code",
   "execution_count": 3,
   "id": "floppy-sunrise",
   "metadata": {},
   "outputs": [
    {
     "name": "stdout",
     "output_type": "stream",
     "text": [
      "AGTACACTGGT\n",
      "<class 'Bio.Seq.Seq'>\n"
     ]
    }
   ],
   "source": [
    "from Bio.Seq import Seq\n",
    "my_seq = Seq(\"AGTACACTGGT\")\n",
    "print(my_seq)\n",
    "print(type(my_seq))"
   ]
  },
  {
   "cell_type": "markdown",
   "id": "excellent-ratio",
   "metadata": {},
   "source": [
    "To convert to a plain string, use `str`."
   ]
  },
  {
   "cell_type": "code",
   "execution_count": 10,
   "id": "flying-harrison",
   "metadata": {},
   "outputs": [
    {
     "name": "stdout",
     "output_type": "stream",
     "text": [
      "<class 'str'>\n"
     ]
    }
   ],
   "source": [
    "print(type(str(my_seq)))"
   ]
  },
  {
   "cell_type": "markdown",
   "id": "round-affair",
   "metadata": {},
   "source": [
    "Treat `Seq` objects as normal Python strings."
   ]
  },
  {
   "cell_type": "code",
   "execution_count": 4,
   "id": "grand-flesh",
   "metadata": {},
   "outputs": [
    {
     "name": "stdout",
     "output_type": "stream",
     "text": [
      "0 G\n",
      "1 A\n",
      "2 T\n",
      "3 C\n",
      "4 G\n"
     ]
    }
   ],
   "source": [
    "from Bio.Seq import Seq\n",
    "my_seq = Seq(\"GATCG\")\n",
    "for index, letter in enumerate(my_seq):\n",
    "    print(\"%i %s\" % (index, letter))"
   ]
  },
  {
   "cell_type": "markdown",
   "id": "upper-seeker",
   "metadata": {},
   "source": [
    "Count occurrence of a substring."
   ]
  },
  {
   "cell_type": "code",
   "execution_count": 5,
   "id": "scenic-acoustic",
   "metadata": {},
   "outputs": [
    {
     "name": "stdout",
     "output_type": "stream",
     "text": [
      "3\n"
     ]
    }
   ],
   "source": [
    "from Bio.Seq import Seq\n",
    "print(Seq(\"AGTACACTAGTGGTAAAAAGTTTT\").count(\"AGT\"))"
   ]
  },
  {
   "cell_type": "markdown",
   "id": "exotic-tooth",
   "metadata": {},
   "source": [
    "Get the complement and reverse complement of `my_seq`."
   ]
  },
  {
   "cell_type": "code",
   "execution_count": 6,
   "id": "black-norway",
   "metadata": {},
   "outputs": [
    {
     "name": "stdout",
     "output_type": "stream",
     "text": [
      "GATCG\n",
      "CTAGC\n",
      "CGATC\n"
     ]
    }
   ],
   "source": [
    "print(my_seq)\n",
    "print(my_seq.complement())\n",
    "print(my_seq.reverse_complement())"
   ]
  },
  {
   "cell_type": "markdown",
   "id": "dutch-revelation",
   "metadata": {},
   "source": [
    "Calculate GC%."
   ]
  },
  {
   "cell_type": "code",
   "execution_count": 7,
   "id": "preceding-flower",
   "metadata": {},
   "outputs": [
    {
     "name": "stdout",
     "output_type": "stream",
     "text": [
      "46.875\n"
     ]
    }
   ],
   "source": [
    "from Bio.Seq import Seq\n",
    "from Bio.SeqUtils import GC\n",
    "my_seq = Seq(\"GATCGATGGGCCTATATAGGATCGAAAATCGC\")\n",
    "print(GC(my_seq))"
   ]
  },
  {
   "cell_type": "markdown",
   "id": "aboriginal-stuff",
   "metadata": {},
   "source": [
    "Transcription."
   ]
  },
  {
   "cell_type": "code",
   "execution_count": 13,
   "id": "civic-tamil",
   "metadata": {},
   "outputs": [
    {
     "name": "stdout",
     "output_type": "stream",
     "text": [
      "AUGGCCAUUGUAAUGGGCCGCUGAAAGGGUGCCCGAUAG\n",
      "AUGGCCAUUGUAAUGGGCCGCUGAAAGGGUGCCCGAUAG\n"
     ]
    }
   ],
   "source": [
    "from Bio.Seq import Seq\n",
    "coding_dna = Seq(\"ATGGCCATTGTAATGGGCCGCTGAAAGGGTGCCCGATAG\")\n",
    "template_dna = coding_dna.reverse_complement()\n",
    "messenger_rna = coding_dna.transcribe()\n",
    "print(messenger_rna)\n",
    "print(template_dna.reverse_complement().transcribe())"
   ]
  },
  {
   "cell_type": "markdown",
   "id": "imperial-output",
   "metadata": {},
   "source": [
    "Translation from coding DNA or from mRNA."
   ]
  },
  {
   "cell_type": "code",
   "execution_count": 18,
   "id": "structural-exclusion",
   "metadata": {},
   "outputs": [
    {
     "name": "stdout",
     "output_type": "stream",
     "text": [
      "MAIVMGR*KGAR*\n",
      "MAIVMGR*KGAR*\n"
     ]
    }
   ],
   "source": [
    "print(coding_dna.translate())\n",
    "print(messenger_rna.translate())"
   ]
  },
  {
   "cell_type": "markdown",
   "id": "dimensional-blood",
   "metadata": {},
   "source": [
    "Stop on occurrence of stop codon."
   ]
  },
  {
   "cell_type": "code",
   "execution_count": 19,
   "id": "israeli-threshold",
   "metadata": {},
   "outputs": [
    {
     "name": "stdout",
     "output_type": "stream",
     "text": [
      "MAIVMGR\n"
     ]
    }
   ],
   "source": [
    "print(coding_dna.translate(to_stop = True))"
   ]
  },
  {
   "cell_type": "markdown",
   "id": "favorite-toyota",
   "metadata": {},
   "source": [
    "Output codon table."
   ]
  },
  {
   "cell_type": "code",
   "execution_count": 20,
   "id": "sapphire-affiliate",
   "metadata": {},
   "outputs": [
    {
     "name": "stdout",
     "output_type": "stream",
     "text": [
      "Table 1 Standard, SGC0\n",
      "\n",
      "  |  T      |  C      |  A      |  G      |\n",
      "--+---------+---------+---------+---------+--\n",
      "T | TTT F   | TCT S   | TAT Y   | TGT C   | T\n",
      "T | TTC F   | TCC S   | TAC Y   | TGC C   | C\n",
      "T | TTA L   | TCA S   | TAA Stop| TGA Stop| A\n",
      "T | TTG L(s)| TCG S   | TAG Stop| TGG W   | G\n",
      "--+---------+---------+---------+---------+--\n",
      "C | CTT L   | CCT P   | CAT H   | CGT R   | T\n",
      "C | CTC L   | CCC P   | CAC H   | CGC R   | C\n",
      "C | CTA L   | CCA P   | CAA Q   | CGA R   | A\n",
      "C | CTG L(s)| CCG P   | CAG Q   | CGG R   | G\n",
      "--+---------+---------+---------+---------+--\n",
      "A | ATT I   | ACT T   | AAT N   | AGT S   | T\n",
      "A | ATC I   | ACC T   | AAC N   | AGC S   | C\n",
      "A | ATA I   | ACA T   | AAA K   | AGA R   | A\n",
      "A | ATG M(s)| ACG T   | AAG K   | AGG R   | G\n",
      "--+---------+---------+---------+---------+--\n",
      "G | GTT V   | GCT A   | GAT D   | GGT G   | T\n",
      "G | GTC V   | GCC A   | GAC D   | GGC G   | C\n",
      "G | GTA V   | GCA A   | GAA E   | GGA G   | A\n",
      "G | GTG V   | GCG A   | GAG E   | GGG G   | G\n",
      "--+---------+---------+---------+---------+--\n"
     ]
    }
   ],
   "source": [
    "from Bio.Data import CodonTable\n",
    "print(CodonTable.unambiguous_dna_by_name[\"Standard\"])"
   ]
  },
  {
   "cell_type": "markdown",
   "id": "successful-shame",
   "metadata": {},
   "source": [
    "### Parsing sequence file formats\n",
    "\n",
    "Most popular file formats have parsers integrated into `Bio.SeqIO` and/or `Bio.AlignIO`. Check the Wiki pages for [SeqIO](https://biopython.org/wiki/SeqIO) and [AlignIO](https://biopython.org/wiki/AlignIO), which should include an up to date list of supported file types.\n",
    "\n",
    "For more information on Sequence Records (`SeqRecord` class), see [Chapter 4 of the Biopython tutorial](https://biopython.org/DIST/docs/tutorial/Tutorial.html#sec32).\n",
    "\n",
    "The `Bio.SeqIO.parse()` function is used to read in sequence data as `SeqRecord` objects and expects two arguments:\n",
    "\n",
    "1. a _handle_ (a file opened for reading or output from a command line program) to read the data from or a filename.\n",
    "2. a lower case string specifying the sequence format.\n",
    "\n",
    "The `Bio.SeqIO.parse()` function returns an iterator, which gives `SeqRecord` objects.\n",
    "\n",
    "For example to parse a FASTA file (the `counter` is just for limiting the output for the notebook):"
   ]
  },
  {
   "cell_type": "code",
   "execution_count": 8,
   "id": "executed-musical",
   "metadata": {},
   "outputs": [
    {
     "name": "stdout",
     "output_type": "stream",
     "text": [
      "[ ID ] gi|2765658|emb|Z78533.1|CIZ78533\n",
      "[ Sequence ] Seq('CGTAACAAGGTTTCCGTAGGTGAACCTGCGGAAGGATCATTGATGAGACCGTGG...CGC')\n",
      "[ Sequence length ] 740 \n",
      "\n",
      "[ ID ] gi|2765657|emb|Z78532.1|CCZ78532\n",
      "[ Sequence ] Seq('CGTAACAAGGTTTCCGTAGGTGAACCTGCGGAAGGATCATTGTTGAGACAACAG...GGC')\n",
      "[ Sequence length ] 753 \n",
      "\n",
      "[ ID ] gi|2765656|emb|Z78531.1|CFZ78531\n",
      "[ Sequence ] Seq('CGTAACAAGGTTTCCGTAGGTGAACCTGCGGAAGGATCATTGTTGAGACAGCAG...TAA')\n",
      "[ Sequence length ] 748 \n",
      "\n"
     ]
    }
   ],
   "source": [
    "from Bio import SeqIO\n",
    "counter = 0\n",
    "for seq_record in SeqIO.parse(\"../data/ls_orchid.fasta\", \"fasta\"):\n",
    "    if counter == 3:\n",
    "        break\n",
    "    print(\"[ ID ]\", seq_record.id)\n",
    "    print(\"[ Sequence ]\", repr(seq_record.seq))\n",
    "    print(\"[ Sequence length ]\", len(seq_record), \"\\n\")\n",
    "    counter += 1"
   ]
  },
  {
   "cell_type": "markdown",
   "id": "union-preparation",
   "metadata": {},
   "source": [
    "Parse a gzipped FASTA."
   ]
  },
  {
   "cell_type": "code",
   "execution_count": 39,
   "id": "orange-component",
   "metadata": {},
   "outputs": [
    {
     "name": "stdout",
     "output_type": "stream",
     "text": [
      "[ ID ] gi|2765658|emb|Z78533.1|CIZ78533\n",
      "[ Sequence ] Seq('CGTAACAAGGTTTCCGTAGGTGAACCTGCGGAAGGATCATTGATGAGACCGTGG...CGC')\n",
      "[ Sequence length ] 740 \n",
      "\n",
      "[ ID ] gi|2765657|emb|Z78532.1|CCZ78532\n",
      "[ Sequence ] Seq('CGTAACAAGGTTTCCGTAGGTGAACCTGCGGAAGGATCATTGTTGAGACAACAG...GGC')\n",
      "[ Sequence length ] 753 \n",
      "\n",
      "[ ID ] gi|2765656|emb|Z78531.1|CFZ78531\n",
      "[ Sequence ] Seq('CGTAACAAGGTTTCCGTAGGTGAACCTGCGGAAGGATCATTGTTGAGACAGCAG...TAA')\n",
      "[ Sequence length ] 748 \n",
      "\n"
     ]
    }
   ],
   "source": [
    "import gzip\n",
    "from Bio import SeqIO\n",
    "my_handle = gzip.open(\"../data/ls_orchid.fasta.gz\", \"rt\")\n",
    "\n",
    "counter = 0\n",
    "for seq_record in SeqIO.parse(my_handle, \"fasta\"):\n",
    "    if counter == 3:\n",
    "        break\n",
    "    print(\"[ ID ]\", seq_record.id)\n",
    "    print(\"[ Sequence ]\", repr(seq_record.seq))\n",
    "    print(\"[ Sequence length ]\", len(seq_record), \"\\n\")\n",
    "    counter += 1"
   ]
  },
  {
   "cell_type": "markdown",
   "id": "taken-brunswick",
   "metadata": {},
   "source": [
    "Save identifiers using a [list comprehension](https://www.w3schools.com/python/python_lists_comprehension.asp) (create a new list based on an existing list):"
   ]
  },
  {
   "cell_type": "code",
   "execution_count": 29,
   "id": "speaking-traveler",
   "metadata": {},
   "outputs": [
    {
     "name": "stdout",
     "output_type": "stream",
     "text": [
      "['Z78532.1', 'Z78531.1', 'Z78530.1', 'Z78529.1', 'Z78527.1']\n"
     ]
    }
   ],
   "source": [
    "from Bio import SeqIO\n",
    "identifiers = [seq_record.id for seq_record in SeqIO.parse(\"../data/ls_orchid.gbk\", \"genbank\")]\n",
    "print(identifiers[1:6])"
   ]
  },
  {
   "cell_type": "markdown",
   "id": "central-michigan",
   "metadata": {},
   "source": [
    "Parse GenBank file."
   ]
  },
  {
   "cell_type": "code",
   "execution_count": 9,
   "id": "israeli-duncan",
   "metadata": {},
   "outputs": [
    {
     "name": "stdout",
     "output_type": "stream",
     "text": [
      "[ ID ] Z78533.1\n",
      "[ Sequence ] Seq('CGTAACAAGGTTTCCGTAGGTGAACCTGCGGAAGGATCATTGATGAGACCGTGG...CGC')\n",
      "[ Sequence length ] 740 \n",
      "\n",
      "[ ID ] Z78532.1\n",
      "[ Sequence ] Seq('CGTAACAAGGTTTCCGTAGGTGAACCTGCGGAAGGATCATTGTTGAGACAACAG...GGC')\n",
      "[ Sequence length ] 753 \n",
      "\n",
      "[ ID ] Z78531.1\n",
      "[ Sequence ] Seq('CGTAACAAGGTTTCCGTAGGTGAACCTGCGGAAGGATCATTGTTGAGACAGCAG...TAA')\n",
      "[ Sequence length ] 748 \n",
      "\n"
     ]
    }
   ],
   "source": [
    "from Bio import SeqIO\n",
    "counter = 0\n",
    "for seq_record in SeqIO.parse(\"../data/ls_orchid.gbk\", \"genbank\"):\n",
    "    if counter == 3:\n",
    "        break\n",
    "    print(\"[ ID ]\", seq_record.id)\n",
    "    print(\"[ Sequence ]\", repr(seq_record.seq))\n",
    "    print(\"[ Sequence length ]\", len(seq_record), \"\\n\")\n",
    "    counter += 1"
   ]
  },
  {
   "cell_type": "markdown",
   "id": "exotic-internship",
   "metadata": {},
   "source": [
    "## Useful links\n",
    "\n",
    "Biopython has two collections of cookbook recipes: the one included with the [Biopython tutorial](https://biopython.org/DIST/docs/tutorial/Tutorial.html#sec370) and the one available on the [Biopython Wiki](https://biopython.org/wiki/Category:Cookbook)."
   ]
  }
 ],
 "metadata": {
  "kernelspec": {
   "display_name": "Python 3",
   "language": "python",
   "name": "python3"
  },
  "language_info": {
   "codemirror_mode": {
    "name": "ipython",
    "version": 3
   },
   "file_extension": ".py",
   "mimetype": "text/x-python",
   "name": "python",
   "nbconvert_exporter": "python",
   "pygments_lexer": "ipython3",
   "version": "3.8.8"
  }
 },
 "nbformat": 4,
 "nbformat_minor": 5
}
