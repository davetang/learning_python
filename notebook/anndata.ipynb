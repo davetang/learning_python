{
 "cells": [
  {
   "cell_type": "markdown",
   "id": "7073385c-c431-436a-8817-badeac6e46f8",
   "metadata": {},
   "source": [
    "## Getting started with anndata\n",
    "\n",
    "Following the [official tutorial](https://anndata.readthedocs.io/en/latest/tutorials/notebooks/getting-started.html).\n",
    "\n",
    "`AnnData` is specifically designed for matrix-like data. By this we mean that we have $n$ observations, each of which can be represented as $d$-dimensional vectors, where each dimension corresponds to a variable or feature. Both the rows and columns of this $n \\times d$ matrix are special in the sense that they are indexed."
   ]
  },
  {
   "cell_type": "code",
   "execution_count": 1,
   "id": "452373ad-c9a6-45aa-8d9e-2c41ffad083b",
   "metadata": {},
   "outputs": [
    {
     "name": "stdout",
     "output_type": "stream",
     "text": [
      "0.10.7\n"
     ]
    }
   ],
   "source": [
    "import numpy as np\n",
    "import pandas as pd\n",
    "import anndata as ad\n",
    "from scipy.sparse import csr_matrix\n",
    "print(ad.__version__)"
   ]
  },
  {
   "cell_type": "markdown",
   "id": "d280d1ed-d26f-44a9-a63f-c1f65b6e57b3",
   "metadata": {},
   "source": [
    "Let’s start by building a basic AnnData object with some sparse count information, perhaps representing gene expression counts."
   ]
  },
  {
   "cell_type": "code",
   "execution_count": 2,
   "id": "86325af5-14d8-412d-b9f4-36e8248c2ac4",
   "metadata": {},
   "outputs": [
    {
     "data": {
      "text/plain": [
       "AnnData object with n_obs × n_vars = 100 × 2000"
      ]
     },
     "execution_count": 2,
     "metadata": {},
     "output_type": "execute_result"
    }
   ],
   "source": [
    "counts = csr_matrix(np.random.poisson(1, size=(100, 2000)), dtype=np.float32)\n",
    "adata = ad.AnnData(counts)\n",
    "adata"
   ]
  },
  {
   "cell_type": "markdown",
   "id": "df4a34f0-532c-468e-ab89-f9b560510770",
   "metadata": {},
   "source": [
    "The initial data we passed are accessible as a sparse matrix using `adata.X`."
   ]
  },
  {
   "cell_type": "code",
   "execution_count": 3,
   "id": "671b90f2-f20a-48fa-8a17-143aedd739e2",
   "metadata": {},
   "outputs": [
    {
     "data": {
      "text/plain": [
       "<100x2000 sparse matrix of type '<class 'numpy.float32'>'\n",
       "\twith 126320 stored elements in Compressed Sparse Row format>"
      ]
     },
     "execution_count": 3,
     "metadata": {},
     "output_type": "execute_result"
    }
   ],
   "source": [
    "adata.X"
   ]
  },
  {
   "cell_type": "markdown",
   "id": "d800cab0-058a-464b-b29c-95f3d09ca34b",
   "metadata": {},
   "source": [
    "Now, we provide the index to both the `obs` and `var` axes using `.obs_names` (resp. `.var_names`)."
   ]
  },
  {
   "cell_type": "code",
   "execution_count": 4,
   "id": "7bb41b84-1ec6-4206-b359-ab6f18583dd8",
   "metadata": {},
   "outputs": [
    {
     "name": "stdout",
     "output_type": "stream",
     "text": [
      "Index(['Cell_0', 'Cell_1', 'Cell_2', 'Cell_3', 'Cell_4', 'Cell_5', 'Cell_6',\n",
      "       'Cell_7', 'Cell_8', 'Cell_9'],\n",
      "      dtype='object')\n"
     ]
    }
   ],
   "source": [
    "adata.obs_names = [f\"Cell_{i:d}\" for i in range(adata.n_obs)]\n",
    "adata.var_names = [f\"Gene_{i:d}\" for i in range(adata.n_vars)]\n",
    "print(adata.obs_names[:10])"
   ]
  },
  {
   "cell_type": "markdown",
   "id": "c1c33471-c39d-4874-a9ac-2c943749e4b9",
   "metadata": {},
   "source": [
    "Subsetting."
   ]
  },
  {
   "cell_type": "code",
   "execution_count": 5,
   "id": "407c5701-5fc9-4b69-b9d9-4cbadfd614b4",
   "metadata": {},
   "outputs": [
    {
     "data": {
      "text/plain": [
       "View of AnnData object with n_obs × n_vars = 2 × 2"
      ]
     },
     "execution_count": 5,
     "metadata": {},
     "output_type": "execute_result"
    }
   ],
   "source": [
    "adata[[\"Cell_1\", \"Cell_10\"], [\"Gene_5\", \"Gene_1900\"]]"
   ]
  },
  {
   "cell_type": "markdown",
   "id": "36435b68-4be5-4937-b17c-5eef9d425b21",
   "metadata": {},
   "source": [
    "Add metadata."
   ]
  },
  {
   "cell_type": "code",
   "execution_count": 10,
   "id": "389b7caa-6f89-45a5-b907-cd7fdc55a1fa",
   "metadata": {},
   "outputs": [
    {
     "data": {
      "text/html": [
       "<div>\n",
       "<style scoped>\n",
       "    .dataframe tbody tr th:only-of-type {\n",
       "        vertical-align: middle;\n",
       "    }\n",
       "\n",
       "    .dataframe tbody tr th {\n",
       "        vertical-align: top;\n",
       "    }\n",
       "\n",
       "    .dataframe thead th {\n",
       "        text-align: right;\n",
       "    }\n",
       "</style>\n",
       "<table border=\"1\" class=\"dataframe\">\n",
       "  <thead>\n",
       "    <tr style=\"text-align: right;\">\n",
       "      <th></th>\n",
       "      <th>cell_type</th>\n",
       "    </tr>\n",
       "  </thead>\n",
       "  <tbody>\n",
       "    <tr>\n",
       "      <th>Cell_0</th>\n",
       "      <td>B</td>\n",
       "    </tr>\n",
       "    <tr>\n",
       "      <th>Cell_1</th>\n",
       "      <td>T</td>\n",
       "    </tr>\n",
       "    <tr>\n",
       "      <th>Cell_2</th>\n",
       "      <td>B</td>\n",
       "    </tr>\n",
       "    <tr>\n",
       "      <th>Cell_3</th>\n",
       "      <td>Monocyte</td>\n",
       "    </tr>\n",
       "    <tr>\n",
       "      <th>Cell_4</th>\n",
       "      <td>B</td>\n",
       "    </tr>\n",
       "    <tr>\n",
       "      <th>...</th>\n",
       "      <td>...</td>\n",
       "    </tr>\n",
       "    <tr>\n",
       "      <th>Cell_95</th>\n",
       "      <td>Monocyte</td>\n",
       "    </tr>\n",
       "    <tr>\n",
       "      <th>Cell_96</th>\n",
       "      <td>T</td>\n",
       "    </tr>\n",
       "    <tr>\n",
       "      <th>Cell_97</th>\n",
       "      <td>T</td>\n",
       "    </tr>\n",
       "    <tr>\n",
       "      <th>Cell_98</th>\n",
       "      <td>B</td>\n",
       "    </tr>\n",
       "    <tr>\n",
       "      <th>Cell_99</th>\n",
       "      <td>B</td>\n",
       "    </tr>\n",
       "  </tbody>\n",
       "</table>\n",
       "<p>100 rows × 1 columns</p>\n",
       "</div>"
      ],
      "text/plain": [
       "        cell_type\n",
       "Cell_0          B\n",
       "Cell_1          T\n",
       "Cell_2          B\n",
       "Cell_3   Monocyte\n",
       "Cell_4          B\n",
       "...           ...\n",
       "Cell_95  Monocyte\n",
       "Cell_96         T\n",
       "Cell_97         T\n",
       "Cell_98         B\n",
       "Cell_99         B\n",
       "\n",
       "[100 rows x 1 columns]"
      ]
     },
     "execution_count": 10,
     "metadata": {},
     "output_type": "execute_result"
    }
   ],
   "source": [
    "np.random.seed(1984)\n",
    "ct = np.random.choice([\"B\", \"T\", \"Monocyte\"], size=(adata.n_obs,))\n",
    "adata.obs[\"cell_type\"] = pd.Categorical(ct)  # Categoricals are preferred for efficiency\n",
    "adata.obs"
   ]
  },
  {
   "cell_type": "markdown",
   "id": "99c82b8e-99a1-4ac0-900a-eb8f9d08d9b4",
   "metadata": {},
   "source": [
    "Subsetting using metadata."
   ]
  },
  {
   "cell_type": "code",
   "execution_count": 11,
   "id": "289a18af-c8c1-4507-ac67-324824c6bb6f",
   "metadata": {},
   "outputs": [
    {
     "data": {
      "text/plain": [
       "View of AnnData object with n_obs × n_vars = 37 × 2000\n",
       "    obs: 'cell_type'"
      ]
     },
     "execution_count": 11,
     "metadata": {},
     "output_type": "execute_result"
    }
   ],
   "source": [
    "bdata = adata[adata.obs.cell_type == \"B\"]\n",
    "bdata"
   ]
  },
  {
   "cell_type": "markdown",
   "id": "1c671da0-2023-4cb5-a0e3-122c9fd6fa34",
   "metadata": {},
   "source": [
    "Randomly generated matrix that we can interpret as a UMAP embedding of the data we’d like to store, as well as some random gene-level metadata."
   ]
  },
  {
   "cell_type": "code",
   "execution_count": 12,
   "id": "64562a0a-e0e8-4c43-85e5-0eacfac32a6a",
   "metadata": {},
   "outputs": [
    {
     "data": {
      "text/plain": [
       "AxisArrays with keys: X_umap"
      ]
     },
     "execution_count": 12,
     "metadata": {},
     "output_type": "execute_result"
    }
   ],
   "source": [
    "np.random.seed(1984)\n",
    "adata.obsm[\"X_umap\"] = np.random.normal(0, 1, size=(adata.n_obs, 2))\n",
    "adata.varm[\"gene_stuff\"] = np.random.normal(0, 1, size=(adata.n_vars, 5))\n",
    "adata.obsm"
   ]
  },
  {
   "cell_type": "markdown",
   "id": "a2a915f3-6832-4ab0-91da-889f12f521d4",
   "metadata": {},
   "source": [
    "AnnData has `.uns`, which allows for any unstructured metadata. This can be anything, like a list or a dictionary with some general information that was useful in the analysis of our data."
   ]
  },
  {
   "cell_type": "code",
   "execution_count": 13,
   "id": "6f5e00a5-6628-4286-aca5-130482ff213a",
   "metadata": {},
   "outputs": [
    {
     "data": {
      "text/plain": [
       "OrderedDict([('random', [1, 2, 3])])"
      ]
     },
     "execution_count": 13,
     "metadata": {},
     "output_type": "execute_result"
    }
   ],
   "source": [
    "adata.uns[\"random\"] = [1, 2, 3]\n",
    "adata.uns"
   ]
  },
  {
   "cell_type": "markdown",
   "id": "0f12a842-4042-4e48-bb01-47b60bab1b03",
   "metadata": {},
   "source": [
    "Finally, we may have different forms of our original core data, perhaps one that is normalised and one that is not. These can be stored in different layers in `AnnData`. For example, let’s log transform the original data and store it in a layer."
   ]
  },
  {
   "cell_type": "code",
   "execution_count": 14,
   "id": "c60ed499-ba08-4bc9-b3ee-6aea83e173eb",
   "metadata": {},
   "outputs": [
    {
     "data": {
      "text/plain": [
       "AnnData object with n_obs × n_vars = 100 × 2000\n",
       "    obs: 'cell_type'\n",
       "    uns: 'random'\n",
       "    obsm: 'X_umap'\n",
       "    varm: 'gene_stuff'\n",
       "    layers: 'log_transformed'"
      ]
     },
     "execution_count": 14,
     "metadata": {},
     "output_type": "execute_result"
    }
   ],
   "source": [
    "adata.layers[\"log_transformed\"] = np.log1p(adata.X)\n",
    "adata"
   ]
  },
  {
   "cell_type": "markdown",
   "id": "f3486531-0909-4d4f-bb26-648493cbd05f",
   "metadata": {},
   "source": [
    "Convert to DataFrames."
   ]
  },
  {
   "cell_type": "code",
   "execution_count": 15,
   "id": "1a2fa25d-f681-44f7-868f-1d7a51057827",
   "metadata": {},
   "outputs": [
    {
     "data": {
      "text/html": [
       "<div>\n",
       "<style scoped>\n",
       "    .dataframe tbody tr th:only-of-type {\n",
       "        vertical-align: middle;\n",
       "    }\n",
       "\n",
       "    .dataframe tbody tr th {\n",
       "        vertical-align: top;\n",
       "    }\n",
       "\n",
       "    .dataframe thead th {\n",
       "        text-align: right;\n",
       "    }\n",
       "</style>\n",
       "<table border=\"1\" class=\"dataframe\">\n",
       "  <thead>\n",
       "    <tr style=\"text-align: right;\">\n",
       "      <th></th>\n",
       "      <th>Gene_0</th>\n",
       "      <th>Gene_1</th>\n",
       "      <th>Gene_2</th>\n",
       "      <th>Gene_3</th>\n",
       "      <th>Gene_4</th>\n",
       "      <th>Gene_5</th>\n",
       "      <th>Gene_6</th>\n",
       "      <th>Gene_7</th>\n",
       "      <th>Gene_8</th>\n",
       "      <th>Gene_9</th>\n",
       "      <th>...</th>\n",
       "      <th>Gene_1990</th>\n",
       "      <th>Gene_1991</th>\n",
       "      <th>Gene_1992</th>\n",
       "      <th>Gene_1993</th>\n",
       "      <th>Gene_1994</th>\n",
       "      <th>Gene_1995</th>\n",
       "      <th>Gene_1996</th>\n",
       "      <th>Gene_1997</th>\n",
       "      <th>Gene_1998</th>\n",
       "      <th>Gene_1999</th>\n",
       "    </tr>\n",
       "  </thead>\n",
       "  <tbody>\n",
       "    <tr>\n",
       "      <th>Cell_0</th>\n",
       "      <td>0.693147</td>\n",
       "      <td>1.098612</td>\n",
       "      <td>0.693147</td>\n",
       "      <td>0.693147</td>\n",
       "      <td>0.000000</td>\n",
       "      <td>0.693147</td>\n",
       "      <td>0.693147</td>\n",
       "      <td>1.098612</td>\n",
       "      <td>0.693147</td>\n",
       "      <td>0.693147</td>\n",
       "      <td>...</td>\n",
       "      <td>0.000000</td>\n",
       "      <td>0.000000</td>\n",
       "      <td>0.693147</td>\n",
       "      <td>1.098612</td>\n",
       "      <td>0.693147</td>\n",
       "      <td>0.000000</td>\n",
       "      <td>0.693147</td>\n",
       "      <td>1.098612</td>\n",
       "      <td>0.693147</td>\n",
       "      <td>0.693147</td>\n",
       "    </tr>\n",
       "    <tr>\n",
       "      <th>Cell_1</th>\n",
       "      <td>0.000000</td>\n",
       "      <td>0.000000</td>\n",
       "      <td>0.693147</td>\n",
       "      <td>1.098612</td>\n",
       "      <td>0.693147</td>\n",
       "      <td>0.693147</td>\n",
       "      <td>0.000000</td>\n",
       "      <td>1.098612</td>\n",
       "      <td>0.693147</td>\n",
       "      <td>1.098612</td>\n",
       "      <td>...</td>\n",
       "      <td>0.693147</td>\n",
       "      <td>0.693147</td>\n",
       "      <td>0.000000</td>\n",
       "      <td>1.386294</td>\n",
       "      <td>1.098612</td>\n",
       "      <td>0.693147</td>\n",
       "      <td>0.000000</td>\n",
       "      <td>0.000000</td>\n",
       "      <td>0.000000</td>\n",
       "      <td>1.098612</td>\n",
       "    </tr>\n",
       "    <tr>\n",
       "      <th>Cell_2</th>\n",
       "      <td>1.386294</td>\n",
       "      <td>1.609438</td>\n",
       "      <td>0.693147</td>\n",
       "      <td>1.098612</td>\n",
       "      <td>0.000000</td>\n",
       "      <td>0.000000</td>\n",
       "      <td>0.000000</td>\n",
       "      <td>1.386294</td>\n",
       "      <td>0.000000</td>\n",
       "      <td>0.000000</td>\n",
       "      <td>...</td>\n",
       "      <td>0.000000</td>\n",
       "      <td>0.000000</td>\n",
       "      <td>1.386294</td>\n",
       "      <td>0.000000</td>\n",
       "      <td>0.693147</td>\n",
       "      <td>0.693147</td>\n",
       "      <td>0.000000</td>\n",
       "      <td>0.000000</td>\n",
       "      <td>1.098612</td>\n",
       "      <td>0.000000</td>\n",
       "    </tr>\n",
       "    <tr>\n",
       "      <th>Cell_3</th>\n",
       "      <td>0.693147</td>\n",
       "      <td>0.000000</td>\n",
       "      <td>1.098612</td>\n",
       "      <td>0.693147</td>\n",
       "      <td>0.693147</td>\n",
       "      <td>0.000000</td>\n",
       "      <td>0.693147</td>\n",
       "      <td>1.609438</td>\n",
       "      <td>0.000000</td>\n",
       "      <td>0.000000</td>\n",
       "      <td>...</td>\n",
       "      <td>0.000000</td>\n",
       "      <td>0.693147</td>\n",
       "      <td>1.098612</td>\n",
       "      <td>0.693147</td>\n",
       "      <td>0.000000</td>\n",
       "      <td>0.000000</td>\n",
       "      <td>0.000000</td>\n",
       "      <td>1.098612</td>\n",
       "      <td>1.386294</td>\n",
       "      <td>0.693147</td>\n",
       "    </tr>\n",
       "    <tr>\n",
       "      <th>Cell_4</th>\n",
       "      <td>1.098612</td>\n",
       "      <td>0.693147</td>\n",
       "      <td>1.098612</td>\n",
       "      <td>1.386294</td>\n",
       "      <td>1.098612</td>\n",
       "      <td>0.000000</td>\n",
       "      <td>0.693147</td>\n",
       "      <td>1.098612</td>\n",
       "      <td>0.693147</td>\n",
       "      <td>1.098612</td>\n",
       "      <td>...</td>\n",
       "      <td>0.693147</td>\n",
       "      <td>0.000000</td>\n",
       "      <td>0.693147</td>\n",
       "      <td>0.693147</td>\n",
       "      <td>1.098612</td>\n",
       "      <td>0.693147</td>\n",
       "      <td>0.000000</td>\n",
       "      <td>0.000000</td>\n",
       "      <td>0.693147</td>\n",
       "      <td>1.098612</td>\n",
       "    </tr>\n",
       "    <tr>\n",
       "      <th>...</th>\n",
       "      <td>...</td>\n",
       "      <td>...</td>\n",
       "      <td>...</td>\n",
       "      <td>...</td>\n",
       "      <td>...</td>\n",
       "      <td>...</td>\n",
       "      <td>...</td>\n",
       "      <td>...</td>\n",
       "      <td>...</td>\n",
       "      <td>...</td>\n",
       "      <td>...</td>\n",
       "      <td>...</td>\n",
       "      <td>...</td>\n",
       "      <td>...</td>\n",
       "      <td>...</td>\n",
       "      <td>...</td>\n",
       "      <td>...</td>\n",
       "      <td>...</td>\n",
       "      <td>...</td>\n",
       "      <td>...</td>\n",
       "      <td>...</td>\n",
       "    </tr>\n",
       "    <tr>\n",
       "      <th>Cell_95</th>\n",
       "      <td>0.000000</td>\n",
       "      <td>1.609438</td>\n",
       "      <td>0.693147</td>\n",
       "      <td>1.098612</td>\n",
       "      <td>0.000000</td>\n",
       "      <td>1.098612</td>\n",
       "      <td>0.693147</td>\n",
       "      <td>0.000000</td>\n",
       "      <td>0.693147</td>\n",
       "      <td>0.693147</td>\n",
       "      <td>...</td>\n",
       "      <td>1.098612</td>\n",
       "      <td>0.000000</td>\n",
       "      <td>1.609438</td>\n",
       "      <td>0.693147</td>\n",
       "      <td>1.609438</td>\n",
       "      <td>0.000000</td>\n",
       "      <td>0.693147</td>\n",
       "      <td>0.693147</td>\n",
       "      <td>0.693147</td>\n",
       "      <td>1.386294</td>\n",
       "    </tr>\n",
       "    <tr>\n",
       "      <th>Cell_96</th>\n",
       "      <td>0.000000</td>\n",
       "      <td>1.386294</td>\n",
       "      <td>1.386294</td>\n",
       "      <td>0.693147</td>\n",
       "      <td>0.000000</td>\n",
       "      <td>1.098612</td>\n",
       "      <td>0.693147</td>\n",
       "      <td>1.098612</td>\n",
       "      <td>0.000000</td>\n",
       "      <td>0.693147</td>\n",
       "      <td>...</td>\n",
       "      <td>1.098612</td>\n",
       "      <td>1.386294</td>\n",
       "      <td>1.098612</td>\n",
       "      <td>1.098612</td>\n",
       "      <td>0.693147</td>\n",
       "      <td>0.693147</td>\n",
       "      <td>1.098612</td>\n",
       "      <td>1.098612</td>\n",
       "      <td>0.000000</td>\n",
       "      <td>1.098612</td>\n",
       "    </tr>\n",
       "    <tr>\n",
       "      <th>Cell_97</th>\n",
       "      <td>1.098612</td>\n",
       "      <td>0.693147</td>\n",
       "      <td>0.000000</td>\n",
       "      <td>0.693147</td>\n",
       "      <td>0.693147</td>\n",
       "      <td>0.693147</td>\n",
       "      <td>0.693147</td>\n",
       "      <td>0.693147</td>\n",
       "      <td>1.098612</td>\n",
       "      <td>1.386294</td>\n",
       "      <td>...</td>\n",
       "      <td>1.098612</td>\n",
       "      <td>1.386294</td>\n",
       "      <td>0.693147</td>\n",
       "      <td>1.386294</td>\n",
       "      <td>0.000000</td>\n",
       "      <td>1.098612</td>\n",
       "      <td>0.693147</td>\n",
       "      <td>0.693147</td>\n",
       "      <td>0.693147</td>\n",
       "      <td>1.098612</td>\n",
       "    </tr>\n",
       "    <tr>\n",
       "      <th>Cell_98</th>\n",
       "      <td>1.386294</td>\n",
       "      <td>0.693147</td>\n",
       "      <td>0.000000</td>\n",
       "      <td>0.693147</td>\n",
       "      <td>0.000000</td>\n",
       "      <td>0.000000</td>\n",
       "      <td>0.000000</td>\n",
       "      <td>0.000000</td>\n",
       "      <td>0.000000</td>\n",
       "      <td>0.693147</td>\n",
       "      <td>...</td>\n",
       "      <td>0.693147</td>\n",
       "      <td>0.000000</td>\n",
       "      <td>0.693147</td>\n",
       "      <td>0.000000</td>\n",
       "      <td>0.000000</td>\n",
       "      <td>0.693147</td>\n",
       "      <td>1.609438</td>\n",
       "      <td>0.693147</td>\n",
       "      <td>0.000000</td>\n",
       "      <td>0.693147</td>\n",
       "    </tr>\n",
       "    <tr>\n",
       "      <th>Cell_99</th>\n",
       "      <td>0.000000</td>\n",
       "      <td>1.098612</td>\n",
       "      <td>0.000000</td>\n",
       "      <td>1.098612</td>\n",
       "      <td>0.000000</td>\n",
       "      <td>0.693147</td>\n",
       "      <td>0.000000</td>\n",
       "      <td>0.000000</td>\n",
       "      <td>1.098612</td>\n",
       "      <td>0.693147</td>\n",
       "      <td>...</td>\n",
       "      <td>0.693147</td>\n",
       "      <td>0.693147</td>\n",
       "      <td>1.098612</td>\n",
       "      <td>1.098612</td>\n",
       "      <td>0.693147</td>\n",
       "      <td>1.609438</td>\n",
       "      <td>0.000000</td>\n",
       "      <td>0.000000</td>\n",
       "      <td>0.693147</td>\n",
       "      <td>1.098612</td>\n",
       "    </tr>\n",
       "  </tbody>\n",
       "</table>\n",
       "<p>100 rows × 2000 columns</p>\n",
       "</div>"
      ],
      "text/plain": [
       "           Gene_0    Gene_1    Gene_2    Gene_3    Gene_4    Gene_5    Gene_6  \\\n",
       "Cell_0   0.693147  1.098612  0.693147  0.693147  0.000000  0.693147  0.693147   \n",
       "Cell_1   0.000000  0.000000  0.693147  1.098612  0.693147  0.693147  0.000000   \n",
       "Cell_2   1.386294  1.609438  0.693147  1.098612  0.000000  0.000000  0.000000   \n",
       "Cell_3   0.693147  0.000000  1.098612  0.693147  0.693147  0.000000  0.693147   \n",
       "Cell_4   1.098612  0.693147  1.098612  1.386294  1.098612  0.000000  0.693147   \n",
       "...           ...       ...       ...       ...       ...       ...       ...   \n",
       "Cell_95  0.000000  1.609438  0.693147  1.098612  0.000000  1.098612  0.693147   \n",
       "Cell_96  0.000000  1.386294  1.386294  0.693147  0.000000  1.098612  0.693147   \n",
       "Cell_97  1.098612  0.693147  0.000000  0.693147  0.693147  0.693147  0.693147   \n",
       "Cell_98  1.386294  0.693147  0.000000  0.693147  0.000000  0.000000  0.000000   \n",
       "Cell_99  0.000000  1.098612  0.000000  1.098612  0.000000  0.693147  0.000000   \n",
       "\n",
       "           Gene_7    Gene_8    Gene_9  ...  Gene_1990  Gene_1991  Gene_1992  \\\n",
       "Cell_0   1.098612  0.693147  0.693147  ...   0.000000   0.000000   0.693147   \n",
       "Cell_1   1.098612  0.693147  1.098612  ...   0.693147   0.693147   0.000000   \n",
       "Cell_2   1.386294  0.000000  0.000000  ...   0.000000   0.000000   1.386294   \n",
       "Cell_3   1.609438  0.000000  0.000000  ...   0.000000   0.693147   1.098612   \n",
       "Cell_4   1.098612  0.693147  1.098612  ...   0.693147   0.000000   0.693147   \n",
       "...           ...       ...       ...  ...        ...        ...        ...   \n",
       "Cell_95  0.000000  0.693147  0.693147  ...   1.098612   0.000000   1.609438   \n",
       "Cell_96  1.098612  0.000000  0.693147  ...   1.098612   1.386294   1.098612   \n",
       "Cell_97  0.693147  1.098612  1.386294  ...   1.098612   1.386294   0.693147   \n",
       "Cell_98  0.000000  0.000000  0.693147  ...   0.693147   0.000000   0.693147   \n",
       "Cell_99  0.000000  1.098612  0.693147  ...   0.693147   0.693147   1.098612   \n",
       "\n",
       "         Gene_1993  Gene_1994  Gene_1995  Gene_1996  Gene_1997  Gene_1998  \\\n",
       "Cell_0    1.098612   0.693147   0.000000   0.693147   1.098612   0.693147   \n",
       "Cell_1    1.386294   1.098612   0.693147   0.000000   0.000000   0.000000   \n",
       "Cell_2    0.000000   0.693147   0.693147   0.000000   0.000000   1.098612   \n",
       "Cell_3    0.693147   0.000000   0.000000   0.000000   1.098612   1.386294   \n",
       "Cell_4    0.693147   1.098612   0.693147   0.000000   0.000000   0.693147   \n",
       "...            ...        ...        ...        ...        ...        ...   \n",
       "Cell_95   0.693147   1.609438   0.000000   0.693147   0.693147   0.693147   \n",
       "Cell_96   1.098612   0.693147   0.693147   1.098612   1.098612   0.000000   \n",
       "Cell_97   1.386294   0.000000   1.098612   0.693147   0.693147   0.693147   \n",
       "Cell_98   0.000000   0.000000   0.693147   1.609438   0.693147   0.000000   \n",
       "Cell_99   1.098612   0.693147   1.609438   0.000000   0.000000   0.693147   \n",
       "\n",
       "         Gene_1999  \n",
       "Cell_0    0.693147  \n",
       "Cell_1    1.098612  \n",
       "Cell_2    0.000000  \n",
       "Cell_3    0.693147  \n",
       "Cell_4    1.098612  \n",
       "...            ...  \n",
       "Cell_95   1.386294  \n",
       "Cell_96   1.098612  \n",
       "Cell_97   1.098612  \n",
       "Cell_98   0.693147  \n",
       "Cell_99   1.098612  \n",
       "\n",
       "[100 rows x 2000 columns]"
      ]
     },
     "execution_count": 15,
     "metadata": {},
     "output_type": "execute_result"
    }
   ],
   "source": [
    "adata.to_df(layer=\"log_transformed\")"
   ]
  },
  {
   "cell_type": "markdown",
   "id": "23a4f7fc-67f8-4cd0-a5ac-3dfd13951533",
   "metadata": {},
   "source": [
    "`AnnData` comes with its own persistent HDF5-based file format: `h5ad`. If string columns with small number of categories aren't yet categoricals, `AnnData` will auto-transform to categoricals."
   ]
  },
  {
   "cell_type": "code",
   "execution_count": null,
   "id": "96b7b736-3d7c-4ebb-953b-94b8724d2658",
   "metadata": {},
   "outputs": [],
   "source": [
    "adata.write('my_results.h5ad', compression=\"gzip\")"
   ]
  },
  {
   "cell_type": "markdown",
   "id": "dcc782fc-3ca3-48f9-b528-5d99ba1bd820",
   "metadata": {},
   "source": [
    "`AnnData` has become the standard for single-cell analysis in Python and for good reason – it's straightforward to use and faciliatates more reproducible analyses with it's key-based storage. It's even becoming easier to convert to the popular R-based formats for single-cell analysis."
   ]
  }
 ],
 "metadata": {
  "kernelspec": {
   "display_name": "Python 3 (ipykernel)",
   "language": "python",
   "name": "python3"
  },
  "language_info": {
   "codemirror_mode": {
    "name": "ipython",
    "version": 3
   },
   "file_extension": ".py",
   "mimetype": "text/x-python",
   "name": "python",
   "nbconvert_exporter": "python",
   "pygments_lexer": "ipython3",
   "version": "3.11.9"
  }
 },
 "nbformat": 4,
 "nbformat_minor": 5
}
