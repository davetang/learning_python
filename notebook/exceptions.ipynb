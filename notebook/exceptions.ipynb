{
 "cells": [
  {
   "cell_type": "markdown",
   "id": "b1983726-976f-4689-81a1-25ed081787f2",
   "metadata": {},
   "source": [
    "## Exceptions\n",
    "\n",
    "Exceptions are events that can modify the flow of control through a program. Exceptions are triggered automatically on errors, and they can be triggered and intercepted by your code. They are processed by these statements:\n",
    "\n",
    "* try/except - catch and recover from exceptions raised by Python, or by you.\n",
    "* try/finally - perform cleanup actions, whether exceptions occur or not.\n",
    "* raise - trigger an exception manually in your code.\n",
    "* assert - conditionally trigger an exception in your code.\n",
    "* with/as - implement context managers\n",
    "\n",
    "One way to think of an exception is as a structured \"super go to\" statement. An _exception handler_ (try statement) leaves a marker and executes some code.\n",
    "\n",
    "### Exception roles\n",
    "\n",
    "Exceptions are typically used for a variety of purposes:\n",
    "\n",
    "* Error handling - Python raises exceptions whenever it detects errors in programs at runtime. You can catch and respond to the errors in your code, or ignore the exceptions that are raised. If an error is ignored, Python's default exception-handling behaviour kicks in: it stops the program and prints an error message. Use a try statement to avoid this default behaviour by catching and recovering from the exception - Python will jump to your try handler when the error is detected and your program will resume execution after the try.\n",
    "\n",
    "* Event notification - exceptions can also be used to signal valid conditions without you having to pass result flags around a program or test them explicitly. For instance, a search routine might raise an exception on failure, rather than returning an integer result code.\n",
    "\n",
    "* Special-case handling - sometimes a condition may occur so rarely that it's hard to justify convoluting your code to handle it. An `assert` can be used to check that conditions are as expected during development.\n",
    "\n",
    "* Termination actions - the `try/finally` statement allows you to guarantee that required closing-time operations will be performed, regardless of the presence or absence of exceptions in your programs. The `with` statement offers an alternative way to achieve this for objects that support `with`.\n",
    "\n",
    "* Unusual control flows - exceptions are like high-level and structured \"go to\" statements and can be used as the basis for implementing exotic control flows."
   ]
  },
  {
   "cell_type": "markdown",
   "id": "710f92eb-df72-4a40-9642-982e1dba9e7e",
   "metadata": {},
   "source": [
    "### An example\n",
    "\n",
    "Given the following function:"
   ]
  },
  {
   "cell_type": "code",
   "execution_count": 1,
   "id": "fa8e07df-2a24-48df-b005-c69e112f6e38",
   "metadata": {},
   "outputs": [
    {
     "data": {
      "text/plain": [
       "'m'"
      ]
     },
     "execution_count": 1,
     "metadata": {},
     "output_type": "execute_result"
    }
   ],
   "source": [
    "def fetcher(obj, index):\n",
    "    return obj[index]\n",
    "\n",
    "x = 'spam'\n",
    "fetcher(x, 3)"
   ]
  },
  {
   "cell_type": "markdown",
   "id": "dedbf206-672b-4374-bbee-94c61221dbca",
   "metadata": {},
   "source": [
    "If we use this function with an out of bounds index, Python detects this and reports it by raising (i.e. triggering) the built-in `IndexError` exception:"
   ]
  },
  {
   "cell_type": "code",
   "execution_count": 2,
   "id": "09fe81c4-17e2-4f19-913c-467ca7065d98",
   "metadata": {},
   "outputs": [
    {
     "ename": "IndexError",
     "evalue": "string index out of range",
     "output_type": "error",
     "traceback": [
      "\u001b[0;31m---------------------------------------------------------------------------\u001b[0m",
      "\u001b[0;31mIndexError\u001b[0m                                Traceback (most recent call last)",
      "Input \u001b[0;32mIn [2]\u001b[0m, in \u001b[0;36m<cell line: 2>\u001b[0;34m()\u001b[0m\n\u001b[1;32m      1\u001b[0m x \u001b[38;5;241m=\u001b[39m \u001b[38;5;124m'\u001b[39m\u001b[38;5;124mspam\u001b[39m\u001b[38;5;124m'\u001b[39m\n\u001b[0;32m----> 2\u001b[0m \u001b[43mfetcher\u001b[49m\u001b[43m(\u001b[49m\u001b[43mx\u001b[49m\u001b[43m,\u001b[49m\u001b[43m \u001b[49m\u001b[38;5;241;43m4\u001b[39;49m\u001b[43m)\u001b[49m\n",
      "Input \u001b[0;32mIn [1]\u001b[0m, in \u001b[0;36mfetcher\u001b[0;34m(obj, index)\u001b[0m\n\u001b[1;32m      1\u001b[0m \u001b[38;5;28;01mdef\u001b[39;00m \u001b[38;5;21mfetcher\u001b[39m(obj, index):\n\u001b[0;32m----> 2\u001b[0m     \u001b[38;5;28;01mreturn\u001b[39;00m \u001b[43mobj\u001b[49m\u001b[43m[\u001b[49m\u001b[43mindex\u001b[49m\u001b[43m]\u001b[49m\n",
      "\u001b[0;31mIndexError\u001b[0m: string index out of range"
     ]
    }
   ],
   "source": [
    "x = 'spam'\n",
    "fetcher(x, 4)"
   ]
  },
  {
   "cell_type": "markdown",
   "id": "97802d15-58ea-4689-b6b1-7c51188b1205",
   "metadata": {},
   "source": [
    "Since the function does not explicitly catch this exception, it filters back up to the top level of the program and invokes the _default exception handler_, which simply prints the standard error message and includes the exception that was raised and the stack trace (a list of all the lines and functions that were active when the exception occurred)."
   ]
  },
  {
   "cell_type": "markdown",
   "id": "f748f424-fe37-44c7-bfe3-6eb37da38f68",
   "metadata": {},
   "source": [
    "We can catch exceptions ourselves instead of using the default exception."
   ]
  },
  {
   "cell_type": "code",
   "execution_count": 3,
   "id": "1d1c89f8-d6fb-499c-a07f-ecdfe2168455",
   "metadata": {},
   "outputs": [
    {
     "name": "stdout",
     "output_type": "stream",
     "text": [
      "Index error\n",
      "Continuing\n"
     ]
    }
   ],
   "source": [
    "x = 'spam'\n",
    "def catcher(x):\n",
    "    try:\n",
    "        fetcher(x, 4)\n",
    "    except IndexError:\n",
    "        print(\"Index error\")\n",
    "    print(\"Continuing\")\n",
    "\n",
    "catcher(x)"
   ]
  },
  {
   "cell_type": "markdown",
   "id": "15a706a0-2b02-4f14-8720-d96b65b2f5f2",
   "metadata": {},
   "source": [
    "We can raise our own exceptions, using the `raise` statement. User-triggered exceptions are caught the same way as exceptions raised by Python."
   ]
  },
  {
   "cell_type": "code",
   "execution_count": 4,
   "id": "f2ff3a95-dbc6-41dd-9c34-9f40471ab433",
   "metadata": {},
   "outputs": [
    {
     "name": "stdout",
     "output_type": "stream",
     "text": [
      "Index error\n"
     ]
    }
   ],
   "source": [
    "try:\n",
    "    # trigger exception manually\n",
    "    raise IndexError\n",
    "except IndexError:\n",
    "    print(\"Index error\")"
   ]
  },
  {
   "cell_type": "markdown",
   "id": "a4024bf1-6609-4aa2-8b17-90ed65137522",
   "metadata": {},
   "source": [
    "The `assert` statement can also be used to trigger exceptions and is a conditional `raise` that is mostly used for debugging purposes during development."
   ]
  },
  {
   "cell_type": "code",
   "execution_count": 5,
   "id": "dd9385d5-28c6-437a-9937-507cf1683af9",
   "metadata": {},
   "outputs": [
    {
     "ename": "AssertionError",
     "evalue": "Nobody excepts the Spanish Inquisition!",
     "output_type": "error",
     "traceback": [
      "\u001b[0;31m---------------------------------------------------------------------------\u001b[0m",
      "\u001b[0;31mAssertionError\u001b[0m                            Traceback (most recent call last)",
      "Input \u001b[0;32mIn [5]\u001b[0m, in \u001b[0;36m<cell line: 1>\u001b[0;34m()\u001b[0m\n\u001b[0;32m----> 1\u001b[0m \u001b[38;5;28;01massert\u001b[39;00m \u001b[38;5;28;01mFalse\u001b[39;00m, \u001b[38;5;124m\"\u001b[39m\u001b[38;5;124mNobody excepts the Spanish Inquisition!\u001b[39m\u001b[38;5;124m\"\u001b[39m\n",
      "\u001b[0;31mAssertionError\u001b[0m: Nobody excepts the Spanish Inquisition!"
     ]
    }
   ],
   "source": [
    "assert False, \"Nobody excepts the Spanish Inquisition!\""
   ]
  },
  {
   "cell_type": "markdown",
   "id": "4bcc5288-2351-4ef9-bf5f-c2e65f5a2651",
   "metadata": {},
   "source": [
    "The `raise` statement raises a _built-in_ exception defined in Python's built-in scope. You can also define new exceptions of your own and user-defined exceptions are coded with classes, which inherit from a built-in exception class, usually the class named `Exception`."
   ]
  },
  {
   "cell_type": "code",
   "execution_count": 6,
   "id": "9b5b8fbe-a671-4e83-8137-9c6d4296a6f9",
   "metadata": {},
   "outputs": [
    {
     "name": "stdout",
     "output_type": "stream",
     "text": [
      "I told em we already got one\n"
     ]
    }
   ],
   "source": [
    "class AlreadyGotOne(Exception):\n",
    "    pass\n",
    "\n",
    "def grail():\n",
    "    raise AlreadyGotOne()\n",
    "\n",
    "try:\n",
    "    grail()\n",
    "except AlreadyGotOne:\n",
    "    print(\"I told em we already got one\")"
   ]
  },
  {
   "cell_type": "markdown",
   "id": "f2bdd895-fb23-4509-9c1f-c0ba5d687486",
   "metadata": {},
   "source": [
    "The `finally` block specifies termination actions that always execute \"on the way out\", regardless of whether an exception occurs or not."
   ]
  },
  {
   "cell_type": "code",
   "execution_count": 7,
   "id": "c33d75e5-cfc5-42e5-a988-3ebc2ca0d262",
   "metadata": {},
   "outputs": [
    {
     "name": "stdout",
     "output_type": "stream",
     "text": [
      "This always executes\n"
     ]
    },
    {
     "ename": "IndexError",
     "evalue": "string index out of range",
     "output_type": "error",
     "traceback": [
      "\u001b[0;31m---------------------------------------------------------------------------\u001b[0m",
      "\u001b[0;31mIndexError\u001b[0m                                Traceback (most recent call last)",
      "Input \u001b[0;32mIn [7]\u001b[0m, in \u001b[0;36m<cell line: 1>\u001b[0;34m()\u001b[0m\n\u001b[1;32m      1\u001b[0m \u001b[38;5;28;01mtry\u001b[39;00m:\n\u001b[0;32m----> 2\u001b[0m     \u001b[43mfetcher\u001b[49m\u001b[43m(\u001b[49m\u001b[43mx\u001b[49m\u001b[43m,\u001b[49m\u001b[43m \u001b[49m\u001b[38;5;241;43m4\u001b[39;49m\u001b[43m)\u001b[49m\n\u001b[1;32m      3\u001b[0m \u001b[38;5;28;01mfinally\u001b[39;00m:\n\u001b[1;32m      4\u001b[0m     \u001b[38;5;28mprint\u001b[39m(\u001b[38;5;124m\"\u001b[39m\u001b[38;5;124mThis always executes\u001b[39m\u001b[38;5;124m\"\u001b[39m)\n",
      "Input \u001b[0;32mIn [1]\u001b[0m, in \u001b[0;36mfetcher\u001b[0;34m(obj, index)\u001b[0m\n\u001b[1;32m      1\u001b[0m \u001b[38;5;28;01mdef\u001b[39;00m \u001b[38;5;21mfetcher\u001b[39m(obj, index):\n\u001b[0;32m----> 2\u001b[0m     \u001b[38;5;28;01mreturn\u001b[39;00m \u001b[43mobj\u001b[49m\u001b[43m[\u001b[49m\u001b[43mindex\u001b[49m\u001b[43m]\u001b[49m\n",
      "\u001b[0;31mIndexError\u001b[0m: string index out of range"
     ]
    }
   ],
   "source": [
    "try:\n",
    "    fetcher(x, 4)\n",
    "finally:\n",
    "    print(\"This always executes\")"
   ]
  },
  {
   "cell_type": "markdown",
   "id": "b660ef05-a67d-4e26-9d79-42abc1cdf679",
   "metadata": {},
   "source": [
    "In practice, `try/except` combinations are useful for catching and recovering from exceptions, and `try/finally` combinations come in handy to guarantee that termination actions will execute regardless of exceptions."
   ]
  },
  {
   "cell_type": "markdown",
   "id": "55959a1b-2fea-46c3-bfc3-b7f8b633708b",
   "metadata": {},
   "source": [
    "In summary, Python exceptions are a high-level control flow device. Exceptions can be raised by Python or via using `raise`. Exceptions are caught using `try` statements, which come in two logical formats (that can be mixed as of Python 2.5). Finally, we can also define our own exception class by inheriting from the `Exception` class."
   ]
  },
  {
   "cell_type": "markdown",
   "id": "8ea6658a-01ef-4a2a-b8a2-64db08c0c4dd",
   "metadata": {},
   "source": [
    "### Try\n",
    "\n",
    "`try` is a compound and multipart statement that starts with a `try` header followed by a block of indented statements and then by one or more except clauses that identify exceptions to be caught and the respective blocks to process them. An `else` clause and block can be included at the end and will execute if no exception was raised during the `try` block.\n",
    "\n",
    "The block under the `try` header represents the _main action_ of the statement, i.e. the code you are trying to run and wrap in error processing logic. The `except` clauses define _handlers_ for exceptions raised during the `try` block and the `else` clause provides a handler to be run if **no exceptions** occur."
   ]
  },
  {
   "cell_type": "code",
   "execution_count": 10,
   "id": "ef9ad6ee-d6a8-4853-b88d-288207219a83",
   "metadata": {},
   "outputs": [
    {
     "name": "stdout",
     "output_type": "stream",
     "text": [
      "No exceptions were raised\n"
     ]
    }
   ],
   "source": [
    "try:\n",
    "    True\n",
    "except IndexError:\n",
    "    pass\n",
    "# all other exceptions\n",
    "except:\n",
    "    pass\n",
    "else:\n",
    "    print(\"No exceptions were raised\")"
   ]
  },
  {
   "cell_type": "markdown",
   "id": "c00362bd-f433-4231-a55d-38ef68f017be",
   "metadata": {},
   "source": [
    "Note that the `except` clauses are _focused_ exception handlers and they catch exceptions that occur only within the statements in the associated `try` block. However, as the `try` block's statements can call functions coded elsewhere in a program, the source of an exception may be outside the `try` statement."
   ]
  }
 ],
 "metadata": {
  "kernelspec": {
   "display_name": "Python 3 (ipykernel)",
   "language": "python",
   "name": "python3"
  },
  "language_info": {
   "codemirror_mode": {
    "name": "ipython",
    "version": 3
   },
   "file_extension": ".py",
   "mimetype": "text/x-python",
   "name": "python",
   "nbconvert_exporter": "python",
   "pygments_lexer": "ipython3",
   "version": "3.10.5"
  }
 },
 "nbformat": 4,
 "nbformat_minor": 5
}
