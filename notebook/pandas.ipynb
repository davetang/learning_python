{
 "cells": [
  {
   "cell_type": "markdown",
   "metadata": {},
   "source": [
    "# Pandas\n",
    "\n",
    "[Pandas](https://pandas.pydata.org/) is an open source, BSD-licensed library providing high-performance, easy-to-use data structures and data analysis tools for the Python programming language. It was developed mainly for working with relational or labeled data and provides two data structures, Series and DataFrame, for manipulating data.\n",
    "\n",
    "Pandas Series is a one-dimensional labeled array that can store data of any type and has axis labels called indexes. Pandas DataFrame is a two-dimensional array (rows and columns) that is mutable and can store different data types."
   ]
  },
  {
   "cell_type": "markdown",
   "metadata": {},
   "source": [
    "Use `import` to load pandas using `pd` as an alias."
   ]
  },
  {
   "cell_type": "code",
   "execution_count": 1,
   "metadata": {},
   "outputs": [],
   "source": [
    "import pandas as pd"
   ]
  },
  {
   "cell_type": "markdown",
   "metadata": {},
   "source": [
    "Create three lists and a dictionary `d`."
   ]
  },
  {
   "cell_type": "code",
   "execution_count": 2,
   "metadata": {},
   "outputs": [
    {
     "name": "stdout",
     "output_type": "stream",
     "text": [
      "<class 'dict'>\n"
     ]
    }
   ],
   "source": [
    "col1 = list(range(1,6))\n",
    "col2 = list(range(7, 12))\n",
    "col3 = list(range(13, 18))\n",
    "\n",
    "d = {\n",
    "    'col1' : col1,\n",
    "    'col2' : col2,\n",
    "    'col3' : col3\n",
    "}\n",
    "\n",
    "print(type(d))"
   ]
  },
  {
   "cell_type": "markdown",
   "metadata": {},
   "source": [
    "Create a data frame `df`."
   ]
  },
  {
   "cell_type": "code",
   "execution_count": 3,
   "metadata": {},
   "outputs": [
    {
     "name": "stdout",
     "output_type": "stream",
     "text": [
      "<class 'pandas.core.frame.DataFrame'>\n",
      "   col1  col2  col3\n",
      "0     1     7    13\n",
      "1     2     8    14\n",
      "2     3     9    15\n",
      "3     4    10    16\n",
      "4     5    11    17\n"
     ]
    }
   ],
   "source": [
    "df = pd.DataFrame(d)\n",
    "print(type(df))\n",
    "print(df)"
   ]
  },
  {
   "cell_type": "markdown",
   "metadata": {},
   "source": [
    "Name the rows. (Rows are called index and columns are called columns.)"
   ]
  },
  {
   "cell_type": "code",
   "execution_count": 4,
   "metadata": {},
   "outputs": [
    {
     "name": "stdout",
     "output_type": "stream",
     "text": [
      "       col1  col2  col3\n",
      "one       1     7    13\n",
      "two       2     8    14\n",
      "three     3     9    15\n",
      "four      4    10    16\n",
      "five      5    11    17\n"
     ]
    }
   ],
   "source": [
    "df.index = ['one', 'two', 'three', 'four', 'five']\n",
    "print(df)"
   ]
  },
  {
   "cell_type": "markdown",
   "metadata": {},
   "source": [
    "Read from a CSV file and print first three rows."
   ]
  },
  {
   "cell_type": "code",
   "execution_count": 5,
   "metadata": {},
   "outputs": [
    {
     "name": "stdout",
     "output_type": "stream",
     "text": [
      "   Sepal.Length  Sepal.Width  Petal.Length  Petal.Width Species\n",
      "0           5.1          3.5           1.4          0.2  setosa\n",
      "1           4.9          3.0           1.4          0.2  setosa\n",
      "2           4.7          3.2           1.3          0.2  setosa\n"
     ]
    }
   ],
   "source": [
    "iris = pd.read_csv(\"../data/iris.csv\")\n",
    "print(iris[0:3])"
   ]
  },
  {
   "cell_type": "markdown",
   "metadata": {},
   "source": [
    "Use [loc](https://pandas.pydata.org/docs/reference/api/pandas.DataFrame.loc.html) to access a group of rows and columns using labels or a boolean array. The example below uses the row names to access specific rows."
   ]
  },
  {
   "cell_type": "code",
   "execution_count": 6,
   "metadata": {},
   "outputs": [
    {
     "name": "stdout",
     "output_type": "stream",
     "text": [
      "   Sepal.Length  Sepal.Width  Petal.Length  Petal.Width Species\n",
      "1           4.9          3.0           1.4          0.2  setosa\n",
      "3           4.6          3.1           1.5          0.2  setosa\n",
      "5           5.4          3.9           1.7          0.4  setosa\n"
     ]
    }
   ],
   "source": [
    "print(iris.loc[[1, 3, 5]])"
   ]
  },
  {
   "cell_type": "markdown",
   "metadata": {},
   "source": [
    "Access specific rows and columns."
   ]
  },
  {
   "cell_type": "code",
   "execution_count": 7,
   "metadata": {},
   "outputs": [
    {
     "name": "stdout",
     "output_type": "stream",
     "text": [
      "   Sepal.Width  Sepal.Length\n",
      "0          3.5           5.1\n",
      "1          3.0           4.9\n",
      "2          3.2           4.7\n"
     ]
    }
   ],
   "source": [
    "print(\n",
    "    iris.loc[\n",
    "        range(0,3),\n",
    "        ['Sepal.Width', 'Sepal.Length']\n",
    "    ]\n",
    ")"
   ]
  },
  {
   "cell_type": "markdown",
   "metadata": {},
   "source": [
    "Use `iloc` to access rows and columns by integer position(s)."
   ]
  },
  {
   "cell_type": "code",
   "execution_count": 8,
   "metadata": {},
   "outputs": [
    {
     "name": "stdout",
     "output_type": "stream",
     "text": [
      "   Sepal.Width  Sepal.Length\n",
      "0          3.5           5.1\n",
      "1          3.0           4.9\n",
      "2          3.2           4.7\n"
     ]
    }
   ],
   "source": [
    "print(\n",
    "    iris.iloc[\n",
    "        [0, 1, 2],\n",
    "        [1, 0]\n",
    "    ]\n",
    ")"
   ]
  },
  {
   "cell_type": "markdown",
   "metadata": {},
   "source": [
    "Note that there is a difference between a single square brackets (pandas Series) and a double square brackets (pandas DataFrame) when accessing columns. A pandas Series is necessary for subsetting a pandas DataFrame."
   ]
  },
  {
   "cell_type": "code",
   "execution_count": 9,
   "metadata": {},
   "outputs": [
    {
     "name": "stdout",
     "output_type": "stream",
     "text": [
      "<class 'pandas.core.series.Series'>\n",
      "0      5.1\n",
      "1      4.9\n",
      "2      4.7\n",
      "3      4.6\n",
      "4      5.0\n",
      "      ... \n",
      "145    6.7\n",
      "146    6.3\n",
      "147    6.5\n",
      "148    6.2\n",
      "149    5.9\n",
      "Name: Sepal.Length, Length: 150, dtype: float64\n"
     ]
    }
   ],
   "source": [
    "print(type(iris[\"Sepal.Length\"]))\n",
    "print(iris[\"Sepal.Length\"])"
   ]
  },
  {
   "cell_type": "markdown",
   "metadata": {},
   "source": [
    "DataFrame."
   ]
  },
  {
   "cell_type": "code",
   "execution_count": 10,
   "metadata": {},
   "outputs": [
    {
     "name": "stdout",
     "output_type": "stream",
     "text": [
      "<class 'pandas.core.frame.DataFrame'>\n",
      "     Sepal.Length\n",
      "0             5.1\n",
      "1             4.9\n",
      "2             4.7\n",
      "3             4.6\n",
      "4             5.0\n",
      "..            ...\n",
      "145           6.7\n",
      "146           6.3\n",
      "147           6.5\n",
      "148           6.2\n",
      "149           5.9\n",
      "\n",
      "[150 rows x 1 columns]\n"
     ]
    }
   ],
   "source": [
    "print(type(iris[[\"Sepal.Length\"]]))\n",
    "print(iris[[\"Sepal.Length\"]])"
   ]
  },
  {
   "cell_type": "markdown",
   "metadata": {},
   "source": [
    "Subsetting using a Series."
   ]
  },
  {
   "cell_type": "code",
   "execution_count": 11,
   "metadata": {},
   "outputs": [
    {
     "name": "stdout",
     "output_type": "stream",
     "text": [
      "<class 'pandas.core.series.Series'>\n",
      "     Sepal.Length  Sepal.Width  Petal.Length  Petal.Width    Species\n",
      "105           7.6          3.0           6.6          2.1  virginica\n",
      "117           7.7          3.8           6.7          2.2  virginica\n",
      "118           7.7          2.6           6.9          2.3  virginica\n",
      "122           7.7          2.8           6.7          2.0  virginica\n",
      "131           7.9          3.8           6.4          2.0  virginica\n",
      "135           7.7          3.0           6.1          2.3  virginica\n"
     ]
    }
   ],
   "source": [
    "long_sepal = iris[\"Sepal.Length\"] > 7.5\n",
    "print(type(long_sepal))\n",
    "print(iris[long_sepal])"
   ]
  },
  {
   "cell_type": "markdown",
   "metadata": {},
   "source": [
    "Since pandas is built on NumPy, we can also use NumPy booleans for subsetting."
   ]
  },
  {
   "cell_type": "code",
   "execution_count": 12,
   "metadata": {},
   "outputs": [
    {
     "name": "stdout",
     "output_type": "stream",
     "text": [
      "     Sepal.Length  Sepal.Width  Petal.Length  Petal.Width    Species\n",
      "118           7.7          2.6           6.9          2.3  virginica\n"
     ]
    }
   ],
   "source": [
    "import numpy as np\n",
    "\n",
    "wanted = np.logical_and(\n",
    "    iris[\"Sepal.Length\"] > 7.5,\n",
    "    iris[\"Petal.Length\"] > 6.8\n",
    ")\n",
    "\n",
    "print(iris[wanted])"
   ]
  },
  {
   "cell_type": "markdown",
   "metadata": {},
   "source": [
    "Use [apply](https://pandas.pydata.org/docs/reference/api/pandas.DataFrame.apply.html) to apply a function along an axis of a DataFrame. The example below applys the [str.upper](https://pandas.pydata.org/docs/reference/api/pandas.Series.str.upper.html) function (convert strings to uppercase) to the `Species` Series and creates a new column called `SPECIES`."
   ]
  },
  {
   "cell_type": "code",
   "execution_count": 13,
   "metadata": {},
   "outputs": [
    {
     "data": {
      "text/html": [
       "<div>\n",
       "<style scoped>\n",
       "    .dataframe tbody tr th:only-of-type {\n",
       "        vertical-align: middle;\n",
       "    }\n",
       "\n",
       "    .dataframe tbody tr th {\n",
       "        vertical-align: top;\n",
       "    }\n",
       "\n",
       "    .dataframe thead th {\n",
       "        text-align: right;\n",
       "    }\n",
       "</style>\n",
       "<table border=\"1\" class=\"dataframe\">\n",
       "  <thead>\n",
       "    <tr style=\"text-align: right;\">\n",
       "      <th></th>\n",
       "      <th>Species</th>\n",
       "      <th>SPECIES</th>\n",
       "    </tr>\n",
       "  </thead>\n",
       "  <tbody>\n",
       "    <tr>\n",
       "      <th>0</th>\n",
       "      <td>setosa</td>\n",
       "      <td>SETOSA</td>\n",
       "    </tr>\n",
       "    <tr>\n",
       "      <th>1</th>\n",
       "      <td>setosa</td>\n",
       "      <td>SETOSA</td>\n",
       "    </tr>\n",
       "    <tr>\n",
       "      <th>2</th>\n",
       "      <td>setosa</td>\n",
       "      <td>SETOSA</td>\n",
       "    </tr>\n",
       "  </tbody>\n",
       "</table>\n",
       "</div>"
      ],
      "text/plain": [
       "  Species SPECIES\n",
       "0  setosa  SETOSA\n",
       "1  setosa  SETOSA\n",
       "2  setosa  SETOSA"
      ]
     },
     "execution_count": 13,
     "metadata": {},
     "output_type": "execute_result"
    }
   ],
   "source": [
    "iris[\"SPECIES\"] = iris[\"Species\"].apply(str.upper)\n",
    "iris.loc[[0, 1, 2], [\"Species\", \"SPECIES\"]]"
   ]
  }
 ],
 "metadata": {
  "kernelspec": {
   "display_name": "Python 3",
   "language": "python",
   "name": "python3"
  },
  "language_info": {
   "codemirror_mode": {
    "name": "ipython",
    "version": 3
   },
   "file_extension": ".py",
   "mimetype": "text/x-python",
   "name": "python",
   "nbconvert_exporter": "python",
   "pygments_lexer": "ipython3",
   "version": "3.8.8"
  }
 },
 "nbformat": 4,
 "nbformat_minor": 2
}
