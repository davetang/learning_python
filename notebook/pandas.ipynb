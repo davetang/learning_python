{
 "cells": [
  {
   "cell_type": "markdown",
   "metadata": {},
   "source": [
    "# Pandas\n",
    "\n",
    "[Pandas](https://pandas.pydata.org/) is an open source, BSD-licensed library providing high-performance, easy-to-use data structures and data analysis tools for the Python programming language. It was developed mainly for working with relational or labeled data and provides two data structures, Series and DataFrame, for manipulating data.\n",
    "\n",
    "Pandas Series is a one-dimensional labeled array that can store data of any type and has axis labels called indexes. Pandas DataFrame is a two-dimensional array (rows and columns) that is mutable and can store different data types.\n",
    "\n",
    "The [10 minutes to pandas](https://pandas.pydata.org/docs/user_guide/10min.html) guide provides a short introduction to pandas and was written mainly for new users."
   ]
  },
  {
   "cell_type": "markdown",
   "metadata": {},
   "source": [
    "Use `import` to load pandas using `pd` as an alias."
   ]
  },
  {
   "cell_type": "code",
   "execution_count": 1,
   "metadata": {},
   "outputs": [],
   "source": [
    "import pandas as pd\n",
    "import numpy as np"
   ]
  },
  {
   "cell_type": "markdown",
   "metadata": {},
   "source": [
    "Create a `Series` by passing a list of values."
   ]
  },
  {
   "cell_type": "code",
   "execution_count": 2,
   "metadata": {},
   "outputs": [
    {
     "data": {
      "text/plain": [
       "0    1.0\n",
       "1    3.0\n",
       "2    5.0\n",
       "3    NaN\n",
       "4    6.0\n",
       "5    8.0\n",
       "dtype: float64"
      ]
     },
     "execution_count": 2,
     "metadata": {},
     "output_type": "execute_result"
    }
   ],
   "source": [
    "s = pd.Series(\n",
    "    [1, 3, 5, np.nan, 6, 8]\n",
    ")\n",
    "s"
   ]
  },
  {
   "cell_type": "markdown",
   "metadata": {},
   "source": [
    "Create a `DataFrame` by passing a `NumPy` array, with a datetime index and labelled columns."
   ]
  },
  {
   "cell_type": "code",
   "execution_count": 3,
   "metadata": {},
   "outputs": [
    {
     "data": {
      "text/html": [
       "<div>\n",
       "<style scoped>\n",
       "    .dataframe tbody tr th:only-of-type {\n",
       "        vertical-align: middle;\n",
       "    }\n",
       "\n",
       "    .dataframe tbody tr th {\n",
       "        vertical-align: top;\n",
       "    }\n",
       "\n",
       "    .dataframe thead th {\n",
       "        text-align: right;\n",
       "    }\n",
       "</style>\n",
       "<table border=\"1\" class=\"dataframe\">\n",
       "  <thead>\n",
       "    <tr style=\"text-align: right;\">\n",
       "      <th></th>\n",
       "      <th>A</th>\n",
       "      <th>B</th>\n",
       "      <th>C</th>\n",
       "      <th>D</th>\n",
       "    </tr>\n",
       "  </thead>\n",
       "  <tbody>\n",
       "    <tr>\n",
       "      <th>2013-01-01</th>\n",
       "      <td>-0.053142</td>\n",
       "      <td>0.124200</td>\n",
       "      <td>-0.484236</td>\n",
       "      <td>-0.386821</td>\n",
       "    </tr>\n",
       "    <tr>\n",
       "      <th>2013-01-02</th>\n",
       "      <td>-0.451988</td>\n",
       "      <td>-0.593405</td>\n",
       "      <td>0.046765</td>\n",
       "      <td>-0.742244</td>\n",
       "    </tr>\n",
       "    <tr>\n",
       "      <th>2013-01-03</th>\n",
       "      <td>-0.222496</td>\n",
       "      <td>-0.416618</td>\n",
       "      <td>-1.246067</td>\n",
       "      <td>1.881277</td>\n",
       "    </tr>\n",
       "    <tr>\n",
       "      <th>2013-01-04</th>\n",
       "      <td>-0.671998</td>\n",
       "      <td>0.429872</td>\n",
       "      <td>0.522599</td>\n",
       "      <td>-0.640678</td>\n",
       "    </tr>\n",
       "    <tr>\n",
       "      <th>2013-01-05</th>\n",
       "      <td>0.607753</td>\n",
       "      <td>-0.164967</td>\n",
       "      <td>-1.313926</td>\n",
       "      <td>0.205464</td>\n",
       "    </tr>\n",
       "    <tr>\n",
       "      <th>2013-01-06</th>\n",
       "      <td>-1.391812</td>\n",
       "      <td>-0.797469</td>\n",
       "      <td>-1.155706</td>\n",
       "      <td>1.368963</td>\n",
       "    </tr>\n",
       "  </tbody>\n",
       "</table>\n",
       "</div>"
      ],
      "text/plain": [
       "                   A         B         C         D\n",
       "2013-01-01 -0.053142  0.124200 -0.484236 -0.386821\n",
       "2013-01-02 -0.451988 -0.593405  0.046765 -0.742244\n",
       "2013-01-03 -0.222496 -0.416618 -1.246067  1.881277\n",
       "2013-01-04 -0.671998  0.429872  0.522599 -0.640678\n",
       "2013-01-05  0.607753 -0.164967 -1.313926  0.205464\n",
       "2013-01-06 -1.391812 -0.797469 -1.155706  1.368963"
      ]
     },
     "execution_count": 3,
     "metadata": {},
     "output_type": "execute_result"
    }
   ],
   "source": [
    "dates = pd.date_range(\"20130101\", periods = 6)\n",
    "\n",
    "df = pd.DataFrame(\n",
    "    np.random.randn(6, 4),\n",
    "    index = dates,\n",
    "    columns = list(\"ABCD\")\n",
    ")\n",
    "df"
   ]
  },
  {
   "cell_type": "markdown",
   "metadata": {},
   "source": [
    "Create three lists and a dictionary `d`."
   ]
  },
  {
   "cell_type": "code",
   "execution_count": 4,
   "metadata": {},
   "outputs": [
    {
     "name": "stdout",
     "output_type": "stream",
     "text": [
      "<class 'dict'>\n"
     ]
    }
   ],
   "source": [
    "col1 = list(range(1,6))\n",
    "col2 = list(range(7, 12))\n",
    "col3 = list(range(13, 18))\n",
    "\n",
    "d = {\n",
    "    'col1' : col1,\n",
    "    'col2' : col2,\n",
    "    'col3' : col3\n",
    "}\n",
    "\n",
    "print(type(d))"
   ]
  },
  {
   "cell_type": "markdown",
   "metadata": {},
   "source": [
    "Create a data frame `df`."
   ]
  },
  {
   "cell_type": "code",
   "execution_count": 5,
   "metadata": {},
   "outputs": [
    {
     "name": "stdout",
     "output_type": "stream",
     "text": [
      "<class 'pandas.core.frame.DataFrame'>\n",
      "   col1  col2  col3\n",
      "0     1     7    13\n",
      "1     2     8    14\n",
      "2     3     9    15\n",
      "3     4    10    16\n",
      "4     5    11    17\n"
     ]
    }
   ],
   "source": [
    "df = pd.DataFrame(d)\n",
    "print(type(df))\n",
    "print(df)"
   ]
  },
  {
   "cell_type": "markdown",
   "metadata": {},
   "source": [
    "Name the rows. (Rows are called index and columns are called columns.)"
   ]
  },
  {
   "cell_type": "code",
   "execution_count": 6,
   "metadata": {},
   "outputs": [
    {
     "name": "stdout",
     "output_type": "stream",
     "text": [
      "       col1  col2  col3\n",
      "one       1     7    13\n",
      "two       2     8    14\n",
      "three     3     9    15\n",
      "four      4    10    16\n",
      "five      5    11    17\n"
     ]
    }
   ],
   "source": [
    "df.index = ['one', 'two', 'three', 'four', 'five']\n",
    "print(df)"
   ]
  },
  {
   "cell_type": "markdown",
   "metadata": {},
   "source": [
    "Read from a CSV file and print first three rows."
   ]
  },
  {
   "cell_type": "code",
   "execution_count": 7,
   "metadata": {},
   "outputs": [
    {
     "name": "stdout",
     "output_type": "stream",
     "text": [
      "   Sepal.Length  Sepal.Width  Petal.Length  Petal.Width Species\n",
      "0           5.1          3.5           1.4          0.2  setosa\n",
      "1           4.9          3.0           1.4          0.2  setosa\n",
      "2           4.7          3.2           1.3          0.2  setosa\n"
     ]
    }
   ],
   "source": [
    "iris = pd.read_csv(\"../data/iris.csv\")\n",
    "print(iris[0:3])"
   ]
  },
  {
   "cell_type": "markdown",
   "metadata": {},
   "source": [
    "Use [loc](https://pandas.pydata.org/docs/reference/api/pandas.DataFrame.loc.html) to access a group of rows and columns using labels or a boolean array. The example below uses the row names to access specific rows."
   ]
  },
  {
   "cell_type": "code",
   "execution_count": 8,
   "metadata": {},
   "outputs": [
    {
     "name": "stdout",
     "output_type": "stream",
     "text": [
      "   Sepal.Length  Sepal.Width  Petal.Length  Petal.Width Species\n",
      "1           4.9          3.0           1.4          0.2  setosa\n",
      "3           4.6          3.1           1.5          0.2  setosa\n",
      "5           5.4          3.9           1.7          0.4  setosa\n"
     ]
    }
   ],
   "source": [
    "print(iris.loc[[1, 3, 5]])"
   ]
  },
  {
   "cell_type": "markdown",
   "metadata": {},
   "source": [
    "All rows but specific columns."
   ]
  },
  {
   "cell_type": "code",
   "execution_count": 9,
   "metadata": {},
   "outputs": [
    {
     "data": {
      "text/html": [
       "<div>\n",
       "<style scoped>\n",
       "    .dataframe tbody tr th:only-of-type {\n",
       "        vertical-align: middle;\n",
       "    }\n",
       "\n",
       "    .dataframe tbody tr th {\n",
       "        vertical-align: top;\n",
       "    }\n",
       "\n",
       "    .dataframe thead th {\n",
       "        text-align: right;\n",
       "    }\n",
       "</style>\n",
       "<table border=\"1\" class=\"dataframe\">\n",
       "  <thead>\n",
       "    <tr style=\"text-align: right;\">\n",
       "      <th></th>\n",
       "      <th>Sepal.Length</th>\n",
       "      <th>Petal.Length</th>\n",
       "    </tr>\n",
       "  </thead>\n",
       "  <tbody>\n",
       "    <tr>\n",
       "      <th>0</th>\n",
       "      <td>5.1</td>\n",
       "      <td>1.4</td>\n",
       "    </tr>\n",
       "    <tr>\n",
       "      <th>1</th>\n",
       "      <td>4.9</td>\n",
       "      <td>1.4</td>\n",
       "    </tr>\n",
       "    <tr>\n",
       "      <th>2</th>\n",
       "      <td>4.7</td>\n",
       "      <td>1.3</td>\n",
       "    </tr>\n",
       "    <tr>\n",
       "      <th>3</th>\n",
       "      <td>4.6</td>\n",
       "      <td>1.5</td>\n",
       "    </tr>\n",
       "    <tr>\n",
       "      <th>4</th>\n",
       "      <td>5.0</td>\n",
       "      <td>1.4</td>\n",
       "    </tr>\n",
       "    <tr>\n",
       "      <th>...</th>\n",
       "      <td>...</td>\n",
       "      <td>...</td>\n",
       "    </tr>\n",
       "    <tr>\n",
       "      <th>145</th>\n",
       "      <td>6.7</td>\n",
       "      <td>5.2</td>\n",
       "    </tr>\n",
       "    <tr>\n",
       "      <th>146</th>\n",
       "      <td>6.3</td>\n",
       "      <td>5.0</td>\n",
       "    </tr>\n",
       "    <tr>\n",
       "      <th>147</th>\n",
       "      <td>6.5</td>\n",
       "      <td>5.2</td>\n",
       "    </tr>\n",
       "    <tr>\n",
       "      <th>148</th>\n",
       "      <td>6.2</td>\n",
       "      <td>5.4</td>\n",
       "    </tr>\n",
       "    <tr>\n",
       "      <th>149</th>\n",
       "      <td>5.9</td>\n",
       "      <td>5.1</td>\n",
       "    </tr>\n",
       "  </tbody>\n",
       "</table>\n",
       "<p>150 rows × 2 columns</p>\n",
       "</div>"
      ],
      "text/plain": [
       "     Sepal.Length  Petal.Length\n",
       "0             5.1           1.4\n",
       "1             4.9           1.4\n",
       "2             4.7           1.3\n",
       "3             4.6           1.5\n",
       "4             5.0           1.4\n",
       "..            ...           ...\n",
       "145           6.7           5.2\n",
       "146           6.3           5.0\n",
       "147           6.5           5.2\n",
       "148           6.2           5.4\n",
       "149           5.9           5.1\n",
       "\n",
       "[150 rows x 2 columns]"
      ]
     },
     "execution_count": 9,
     "metadata": {},
     "output_type": "execute_result"
    }
   ],
   "source": [
    "iris.loc[:, [\"Sepal.Length\", \"Petal.Length\"]]"
   ]
  },
  {
   "cell_type": "markdown",
   "metadata": {},
   "source": [
    "Access specific rows and columns."
   ]
  },
  {
   "cell_type": "code",
   "execution_count": 10,
   "metadata": {},
   "outputs": [
    {
     "name": "stdout",
     "output_type": "stream",
     "text": [
      "   Sepal.Width  Sepal.Length\n",
      "0          3.5           5.1\n",
      "1          3.0           4.9\n",
      "2          3.2           4.7\n"
     ]
    }
   ],
   "source": [
    "print(\n",
    "    iris.loc[\n",
    "        range(0,3),\n",
    "        ['Sepal.Width', 'Sepal.Length']\n",
    "    ]\n",
    ")"
   ]
  },
  {
   "cell_type": "markdown",
   "metadata": {},
   "source": [
    "Use `iloc` to access rows and columns by integer position(s)."
   ]
  },
  {
   "cell_type": "code",
   "execution_count": 11,
   "metadata": {},
   "outputs": [
    {
     "name": "stdout",
     "output_type": "stream",
     "text": [
      "   Sepal.Width  Sepal.Length\n",
      "0          3.5           5.1\n",
      "1          3.0           4.9\n",
      "2          3.2           4.7\n"
     ]
    }
   ],
   "source": [
    "print(\n",
    "    iris.iloc[\n",
    "        [0, 1, 2],\n",
    "        [1, 0]\n",
    "    ]\n",
    ")"
   ]
  },
  {
   "cell_type": "markdown",
   "metadata": {},
   "source": [
    "Note that there is a difference between a single square brackets (`Series`) and a double square brackets (`DataFrame`) when accessing columns. A `Series` is necessary for subsetting a `DataFrame`."
   ]
  },
  {
   "cell_type": "code",
   "execution_count": 12,
   "metadata": {},
   "outputs": [
    {
     "name": "stdout",
     "output_type": "stream",
     "text": [
      "<class 'pandas.core.series.Series'>\n",
      "0      5.1\n",
      "1      4.9\n",
      "2      4.7\n",
      "3      4.6\n",
      "4      5.0\n",
      "      ... \n",
      "145    6.7\n",
      "146    6.3\n",
      "147    6.5\n",
      "148    6.2\n",
      "149    5.9\n",
      "Name: Sepal.Length, Length: 150, dtype: float64\n"
     ]
    }
   ],
   "source": [
    "print(type(iris[\"Sepal.Length\"]))\n",
    "print(iris[\"Sepal.Length\"])"
   ]
  },
  {
   "cell_type": "markdown",
   "metadata": {},
   "source": [
    "DataFrame."
   ]
  },
  {
   "cell_type": "code",
   "execution_count": 13,
   "metadata": {},
   "outputs": [
    {
     "name": "stdout",
     "output_type": "stream",
     "text": [
      "<class 'pandas.core.frame.DataFrame'>\n",
      "     Sepal.Length\n",
      "0             5.1\n",
      "1             4.9\n",
      "2             4.7\n",
      "3             4.6\n",
      "4             5.0\n",
      "..            ...\n",
      "145           6.7\n",
      "146           6.3\n",
      "147           6.5\n",
      "148           6.2\n",
      "149           5.9\n",
      "\n",
      "[150 rows x 1 columns]\n"
     ]
    }
   ],
   "source": [
    "print(type(iris[[\"Sepal.Length\"]]))\n",
    "print(iris[[\"Sepal.Length\"]])"
   ]
  },
  {
   "cell_type": "markdown",
   "metadata": {},
   "source": [
    "Subsetting using a Series."
   ]
  },
  {
   "cell_type": "code",
   "execution_count": 14,
   "metadata": {},
   "outputs": [
    {
     "name": "stdout",
     "output_type": "stream",
     "text": [
      "<class 'pandas.core.series.Series'>\n",
      "     Sepal.Length  Sepal.Width  Petal.Length  Petal.Width    Species\n",
      "105           7.6          3.0           6.6          2.1  virginica\n",
      "117           7.7          3.8           6.7          2.2  virginica\n",
      "118           7.7          2.6           6.9          2.3  virginica\n",
      "122           7.7          2.8           6.7          2.0  virginica\n",
      "131           7.9          3.8           6.4          2.0  virginica\n",
      "135           7.7          3.0           6.1          2.3  virginica\n"
     ]
    }
   ],
   "source": [
    "long_sepal = iris[\"Sepal.Length\"] > 7.5\n",
    "print(type(long_sepal))\n",
    "print(iris[long_sepal])"
   ]
  },
  {
   "cell_type": "markdown",
   "metadata": {},
   "source": [
    "Read a VCF file, which is really just a TSV file by using `read_csv` but using a tab separator."
   ]
  },
  {
   "cell_type": "code",
   "execution_count": 15,
   "metadata": {},
   "outputs": [
    {
     "data": {
      "text/html": [
       "<div>\n",
       "<style scoped>\n",
       "    .dataframe tbody tr th:only-of-type {\n",
       "        vertical-align: middle;\n",
       "    }\n",
       "\n",
       "    .dataframe tbody tr th {\n",
       "        vertical-align: top;\n",
       "    }\n",
       "\n",
       "    .dataframe thead th {\n",
       "        text-align: right;\n",
       "    }\n",
       "</style>\n",
       "<table border=\"1\" class=\"dataframe\">\n",
       "  <thead>\n",
       "    <tr style=\"text-align: right;\">\n",
       "      <th></th>\n",
       "      <th>0</th>\n",
       "      <th>1</th>\n",
       "      <th>2</th>\n",
       "      <th>3</th>\n",
       "      <th>4</th>\n",
       "      <th>5</th>\n",
       "      <th>6</th>\n",
       "      <th>7</th>\n",
       "      <th>8</th>\n",
       "      <th>9</th>\n",
       "    </tr>\n",
       "  </thead>\n",
       "  <tbody>\n",
       "    <tr>\n",
       "      <th>0</th>\n",
       "      <td>1</td>\n",
       "      <td>866511</td>\n",
       "      <td>rs60722469</td>\n",
       "      <td>C</td>\n",
       "      <td>CCCCT</td>\n",
       "      <td>258.62</td>\n",
       "      <td>PASS</td>\n",
       "      <td>AC=2;AF=1.00;AN=2;DB;DP=11;FS=0.000;HRun=0;Hap...</td>\n",
       "      <td>GT:AD:DP:GQ:PL</td>\n",
       "      <td>1/1:6,5:11:14.79:300,15,0</td>\n",
       "    </tr>\n",
       "    <tr>\n",
       "      <th>1</th>\n",
       "      <td>1</td>\n",
       "      <td>879317</td>\n",
       "      <td>rs7523549</td>\n",
       "      <td>C</td>\n",
       "      <td>T</td>\n",
       "      <td>150.77</td>\n",
       "      <td>PASS</td>\n",
       "      <td>AC=1;AF=0.50;AN=2;BaseQRankSum=1.455;DB;DP=21;...</td>\n",
       "      <td>GT:AD:DP:GQ:PL</td>\n",
       "      <td>0/1:14,7:21:99:181,0,367</td>\n",
       "    </tr>\n",
       "    <tr>\n",
       "      <th>2</th>\n",
       "      <td>1</td>\n",
       "      <td>879482</td>\n",
       "      <td>.</td>\n",
       "      <td>G</td>\n",
       "      <td>C</td>\n",
       "      <td>484.52</td>\n",
       "      <td>PASS</td>\n",
       "      <td>AC=1;AF=0.50;AN=2;BaseQRankSum=1.934;DP=48;Del...</td>\n",
       "      <td>GT:AD:DP:GQ:PL</td>\n",
       "      <td>0/1:28,20:48:99:515,0,794</td>\n",
       "    </tr>\n",
       "    <tr>\n",
       "      <th>3</th>\n",
       "      <td>1</td>\n",
       "      <td>880390</td>\n",
       "      <td>rs3748593</td>\n",
       "      <td>C</td>\n",
       "      <td>A</td>\n",
       "      <td>288.44</td>\n",
       "      <td>PASS</td>\n",
       "      <td>AC=1;AF=0.50;AN=2;BaseQRankSum=-4.517;DB;DP=29...</td>\n",
       "      <td>GT:AD:DP:GQ:PL</td>\n",
       "      <td>0/1:14,15:29:99:318,0,399</td>\n",
       "    </tr>\n",
       "    <tr>\n",
       "      <th>4</th>\n",
       "      <td>1</td>\n",
       "      <td>881627</td>\n",
       "      <td>rs2272757</td>\n",
       "      <td>G</td>\n",
       "      <td>A</td>\n",
       "      <td>486.24</td>\n",
       "      <td>PASS</td>\n",
       "      <td>AC=1;AF=0.50;AN=2;BaseQRankSum=0.199;DB;DP=33;...</td>\n",
       "      <td>GT:AD:DP:GQ:PL</td>\n",
       "      <td>0/1:15,18:33:99:516,0,420</td>\n",
       "    </tr>\n",
       "    <tr>\n",
       "      <th>...</th>\n",
       "      <td>...</td>\n",
       "      <td>...</td>\n",
       "      <td>...</td>\n",
       "      <td>...</td>\n",
       "      <td>...</td>\n",
       "      <td>...</td>\n",
       "      <td>...</td>\n",
       "      <td>...</td>\n",
       "      <td>...</td>\n",
       "      <td>...</td>\n",
       "    </tr>\n",
       "    <tr>\n",
       "      <th>37704</th>\n",
       "      <td>GL000225.1</td>\n",
       "      <td>90427</td>\n",
       "      <td>.</td>\n",
       "      <td>C</td>\n",
       "      <td>T</td>\n",
       "      <td>138.38</td>\n",
       "      <td>PASS</td>\n",
       "      <td>AC=1;AF=0.50;AN=2;BaseQRankSum=-0.382;DP=11;De...</td>\n",
       "      <td>GT:AD:DP:GQ:PL</td>\n",
       "      <td>0/1:3,8:11:45.83:168,0,46</td>\n",
       "    </tr>\n",
       "    <tr>\n",
       "      <th>37705</th>\n",
       "      <td>GL000192.1</td>\n",
       "      <td>101228</td>\n",
       "      <td>.</td>\n",
       "      <td>T</td>\n",
       "      <td>C</td>\n",
       "      <td>84.50</td>\n",
       "      <td>PASS</td>\n",
       "      <td>AC=1;AF=0.50;AN=2;BaseQRankSum=1.133;DP=10;Del...</td>\n",
       "      <td>GT:AD:DP:GQ:PL</td>\n",
       "      <td>0/1:6,4:10:99:114,0,180</td>\n",
       "    </tr>\n",
       "    <tr>\n",
       "      <th>37706</th>\n",
       "      <td>GL000192.1</td>\n",
       "      <td>101317</td>\n",
       "      <td>.</td>\n",
       "      <td>A</td>\n",
       "      <td>C</td>\n",
       "      <td>168.56</td>\n",
       "      <td>PASS</td>\n",
       "      <td>AC=1;AF=0.50;AN=2;BaseQRankSum=1.678;DP=18;Del...</td>\n",
       "      <td>GT:AD:DP:GQ:PL</td>\n",
       "      <td>0/1:9,9:18:99:199,0,214</td>\n",
       "    </tr>\n",
       "    <tr>\n",
       "      <th>37707</th>\n",
       "      <td>GL000192.1</td>\n",
       "      <td>139953</td>\n",
       "      <td>.</td>\n",
       "      <td>CTG</td>\n",
       "      <td>C</td>\n",
       "      <td>585.64</td>\n",
       "      <td>PASS</td>\n",
       "      <td>AC=2;AF=1.00;AN=2;DP=22;FS=0.000;HRun=0;Haplot...</td>\n",
       "      <td>GT:AD:DP:GQ:PL</td>\n",
       "      <td>1/1:10,18:22:59.82:628,60,0</td>\n",
       "    </tr>\n",
       "    <tr>\n",
       "      <th>37708</th>\n",
       "      <td>10</td>\n",
       "      <td>123256215</td>\n",
       "      <td>.</td>\n",
       "      <td>T</td>\n",
       "      <td>G</td>\n",
       "      <td>100.00</td>\n",
       "      <td>PASS</td>\n",
       "      <td>GENE=FGFR2;INHERITANCE=AD;MIM=101600</td>\n",
       "      <td>GT:DS:GL</td>\n",
       "      <td>1|0:2.000:-5.00,-1.10,-0.04</td>\n",
       "    </tr>\n",
       "  </tbody>\n",
       "</table>\n",
       "<p>37709 rows × 10 columns</p>\n",
       "</div>"
      ],
      "text/plain": [
       "                0          1           2    3      4       5     6  \\\n",
       "0               1     866511  rs60722469    C  CCCCT  258.62  PASS   \n",
       "1               1     879317   rs7523549    C      T  150.77  PASS   \n",
       "2               1     879482           .    G      C  484.52  PASS   \n",
       "3               1     880390   rs3748593    C      A  288.44  PASS   \n",
       "4               1     881627   rs2272757    G      A  486.24  PASS   \n",
       "...           ...        ...         ...  ...    ...     ...   ...   \n",
       "37704  GL000225.1      90427           .    C      T  138.38  PASS   \n",
       "37705  GL000192.1     101228           .    T      C   84.50  PASS   \n",
       "37706  GL000192.1     101317           .    A      C  168.56  PASS   \n",
       "37707  GL000192.1     139953           .  CTG      C  585.64  PASS   \n",
       "37708          10  123256215           .    T      G  100.00  PASS   \n",
       "\n",
       "                                                       7               8  \\\n",
       "0      AC=2;AF=1.00;AN=2;DB;DP=11;FS=0.000;HRun=0;Hap...  GT:AD:DP:GQ:PL   \n",
       "1      AC=1;AF=0.50;AN=2;BaseQRankSum=1.455;DB;DP=21;...  GT:AD:DP:GQ:PL   \n",
       "2      AC=1;AF=0.50;AN=2;BaseQRankSum=1.934;DP=48;Del...  GT:AD:DP:GQ:PL   \n",
       "3      AC=1;AF=0.50;AN=2;BaseQRankSum=-4.517;DB;DP=29...  GT:AD:DP:GQ:PL   \n",
       "4      AC=1;AF=0.50;AN=2;BaseQRankSum=0.199;DB;DP=33;...  GT:AD:DP:GQ:PL   \n",
       "...                                                  ...             ...   \n",
       "37704  AC=1;AF=0.50;AN=2;BaseQRankSum=-0.382;DP=11;De...  GT:AD:DP:GQ:PL   \n",
       "37705  AC=1;AF=0.50;AN=2;BaseQRankSum=1.133;DP=10;Del...  GT:AD:DP:GQ:PL   \n",
       "37706  AC=1;AF=0.50;AN=2;BaseQRankSum=1.678;DP=18;Del...  GT:AD:DP:GQ:PL   \n",
       "37707  AC=2;AF=1.00;AN=2;DP=22;FS=0.000;HRun=0;Haplot...  GT:AD:DP:GQ:PL   \n",
       "37708               GENE=FGFR2;INHERITANCE=AD;MIM=101600        GT:DS:GL   \n",
       "\n",
       "                                 9  \n",
       "0        1/1:6,5:11:14.79:300,15,0  \n",
       "1         0/1:14,7:21:99:181,0,367  \n",
       "2        0/1:28,20:48:99:515,0,794  \n",
       "3        0/1:14,15:29:99:318,0,399  \n",
       "4        0/1:15,18:33:99:516,0,420  \n",
       "...                            ...  \n",
       "37704    0/1:3,8:11:45.83:168,0,46  \n",
       "37705      0/1:6,4:10:99:114,0,180  \n",
       "37706      0/1:9,9:18:99:199,0,214  \n",
       "37707  1/1:10,18:22:59.82:628,60,0  \n",
       "37708  1|0:2.000:-5.00,-1.10,-0.04  \n",
       "\n",
       "[37709 rows x 10 columns]"
      ]
     },
     "execution_count": 15,
     "metadata": {},
     "output_type": "execute_result"
    }
   ],
   "source": [
    "vcf = pd.read_csv(\"../data/Pfeiffer.vcf.gz\", sep=\"\\t\", comment=\"#\", header=None)\n",
    "vcf"
   ]
  },
  {
   "cell_type": "markdown",
   "metadata": {},
   "source": [
    "Rename columns."
   ]
  },
  {
   "cell_type": "code",
   "execution_count": 16,
   "metadata": {},
   "outputs": [
    {
     "data": {
      "text/html": [
       "<div>\n",
       "<style scoped>\n",
       "    .dataframe tbody tr th:only-of-type {\n",
       "        vertical-align: middle;\n",
       "    }\n",
       "\n",
       "    .dataframe tbody tr th {\n",
       "        vertical-align: top;\n",
       "    }\n",
       "\n",
       "    .dataframe thead th {\n",
       "        text-align: right;\n",
       "    }\n",
       "</style>\n",
       "<table border=\"1\" class=\"dataframe\">\n",
       "  <thead>\n",
       "    <tr style=\"text-align: right;\">\n",
       "      <th></th>\n",
       "      <th>CHROM</th>\n",
       "      <th>POS</th>\n",
       "      <th>VARIANT_ID</th>\n",
       "      <th>REF</th>\n",
       "      <th>ALT</th>\n",
       "      <th>QUAL</th>\n",
       "      <th>FILTER</th>\n",
       "      <th>INFO</th>\n",
       "      <th>FORMAT</th>\n",
       "      <th>SAMPLE</th>\n",
       "    </tr>\n",
       "  </thead>\n",
       "  <tbody>\n",
       "    <tr>\n",
       "      <th>0</th>\n",
       "      <td>1</td>\n",
       "      <td>866511</td>\n",
       "      <td>rs60722469</td>\n",
       "      <td>C</td>\n",
       "      <td>CCCCT</td>\n",
       "      <td>258.62</td>\n",
       "      <td>PASS</td>\n",
       "      <td>AC=2;AF=1.00;AN=2;DB;DP=11;FS=0.000;HRun=0;Hap...</td>\n",
       "      <td>GT:AD:DP:GQ:PL</td>\n",
       "      <td>1/1:6,5:11:14.79:300,15,0</td>\n",
       "    </tr>\n",
       "    <tr>\n",
       "      <th>1</th>\n",
       "      <td>1</td>\n",
       "      <td>879317</td>\n",
       "      <td>rs7523549</td>\n",
       "      <td>C</td>\n",
       "      <td>T</td>\n",
       "      <td>150.77</td>\n",
       "      <td>PASS</td>\n",
       "      <td>AC=1;AF=0.50;AN=2;BaseQRankSum=1.455;DB;DP=21;...</td>\n",
       "      <td>GT:AD:DP:GQ:PL</td>\n",
       "      <td>0/1:14,7:21:99:181,0,367</td>\n",
       "    </tr>\n",
       "    <tr>\n",
       "      <th>2</th>\n",
       "      <td>1</td>\n",
       "      <td>879482</td>\n",
       "      <td>.</td>\n",
       "      <td>G</td>\n",
       "      <td>C</td>\n",
       "      <td>484.52</td>\n",
       "      <td>PASS</td>\n",
       "      <td>AC=1;AF=0.50;AN=2;BaseQRankSum=1.934;DP=48;Del...</td>\n",
       "      <td>GT:AD:DP:GQ:PL</td>\n",
       "      <td>0/1:28,20:48:99:515,0,794</td>\n",
       "    </tr>\n",
       "    <tr>\n",
       "      <th>3</th>\n",
       "      <td>1</td>\n",
       "      <td>880390</td>\n",
       "      <td>rs3748593</td>\n",
       "      <td>C</td>\n",
       "      <td>A</td>\n",
       "      <td>288.44</td>\n",
       "      <td>PASS</td>\n",
       "      <td>AC=1;AF=0.50;AN=2;BaseQRankSum=-4.517;DB;DP=29...</td>\n",
       "      <td>GT:AD:DP:GQ:PL</td>\n",
       "      <td>0/1:14,15:29:99:318,0,399</td>\n",
       "    </tr>\n",
       "    <tr>\n",
       "      <th>4</th>\n",
       "      <td>1</td>\n",
       "      <td>881627</td>\n",
       "      <td>rs2272757</td>\n",
       "      <td>G</td>\n",
       "      <td>A</td>\n",
       "      <td>486.24</td>\n",
       "      <td>PASS</td>\n",
       "      <td>AC=1;AF=0.50;AN=2;BaseQRankSum=0.199;DB;DP=33;...</td>\n",
       "      <td>GT:AD:DP:GQ:PL</td>\n",
       "      <td>0/1:15,18:33:99:516,0,420</td>\n",
       "    </tr>\n",
       "    <tr>\n",
       "      <th>...</th>\n",
       "      <td>...</td>\n",
       "      <td>...</td>\n",
       "      <td>...</td>\n",
       "      <td>...</td>\n",
       "      <td>...</td>\n",
       "      <td>...</td>\n",
       "      <td>...</td>\n",
       "      <td>...</td>\n",
       "      <td>...</td>\n",
       "      <td>...</td>\n",
       "    </tr>\n",
       "    <tr>\n",
       "      <th>37704</th>\n",
       "      <td>GL000225.1</td>\n",
       "      <td>90427</td>\n",
       "      <td>.</td>\n",
       "      <td>C</td>\n",
       "      <td>T</td>\n",
       "      <td>138.38</td>\n",
       "      <td>PASS</td>\n",
       "      <td>AC=1;AF=0.50;AN=2;BaseQRankSum=-0.382;DP=11;De...</td>\n",
       "      <td>GT:AD:DP:GQ:PL</td>\n",
       "      <td>0/1:3,8:11:45.83:168,0,46</td>\n",
       "    </tr>\n",
       "    <tr>\n",
       "      <th>37705</th>\n",
       "      <td>GL000192.1</td>\n",
       "      <td>101228</td>\n",
       "      <td>.</td>\n",
       "      <td>T</td>\n",
       "      <td>C</td>\n",
       "      <td>84.50</td>\n",
       "      <td>PASS</td>\n",
       "      <td>AC=1;AF=0.50;AN=2;BaseQRankSum=1.133;DP=10;Del...</td>\n",
       "      <td>GT:AD:DP:GQ:PL</td>\n",
       "      <td>0/1:6,4:10:99:114,0,180</td>\n",
       "    </tr>\n",
       "    <tr>\n",
       "      <th>37706</th>\n",
       "      <td>GL000192.1</td>\n",
       "      <td>101317</td>\n",
       "      <td>.</td>\n",
       "      <td>A</td>\n",
       "      <td>C</td>\n",
       "      <td>168.56</td>\n",
       "      <td>PASS</td>\n",
       "      <td>AC=1;AF=0.50;AN=2;BaseQRankSum=1.678;DP=18;Del...</td>\n",
       "      <td>GT:AD:DP:GQ:PL</td>\n",
       "      <td>0/1:9,9:18:99:199,0,214</td>\n",
       "    </tr>\n",
       "    <tr>\n",
       "      <th>37707</th>\n",
       "      <td>GL000192.1</td>\n",
       "      <td>139953</td>\n",
       "      <td>.</td>\n",
       "      <td>CTG</td>\n",
       "      <td>C</td>\n",
       "      <td>585.64</td>\n",
       "      <td>PASS</td>\n",
       "      <td>AC=2;AF=1.00;AN=2;DP=22;FS=0.000;HRun=0;Haplot...</td>\n",
       "      <td>GT:AD:DP:GQ:PL</td>\n",
       "      <td>1/1:10,18:22:59.82:628,60,0</td>\n",
       "    </tr>\n",
       "    <tr>\n",
       "      <th>37708</th>\n",
       "      <td>10</td>\n",
       "      <td>123256215</td>\n",
       "      <td>.</td>\n",
       "      <td>T</td>\n",
       "      <td>G</td>\n",
       "      <td>100.00</td>\n",
       "      <td>PASS</td>\n",
       "      <td>GENE=FGFR2;INHERITANCE=AD;MIM=101600</td>\n",
       "      <td>GT:DS:GL</td>\n",
       "      <td>1|0:2.000:-5.00,-1.10,-0.04</td>\n",
       "    </tr>\n",
       "  </tbody>\n",
       "</table>\n",
       "<p>37709 rows × 10 columns</p>\n",
       "</div>"
      ],
      "text/plain": [
       "            CHROM        POS  VARIANT_ID  REF    ALT    QUAL FILTER  \\\n",
       "0               1     866511  rs60722469    C  CCCCT  258.62   PASS   \n",
       "1               1     879317   rs7523549    C      T  150.77   PASS   \n",
       "2               1     879482           .    G      C  484.52   PASS   \n",
       "3               1     880390   rs3748593    C      A  288.44   PASS   \n",
       "4               1     881627   rs2272757    G      A  486.24   PASS   \n",
       "...           ...        ...         ...  ...    ...     ...    ...   \n",
       "37704  GL000225.1      90427           .    C      T  138.38   PASS   \n",
       "37705  GL000192.1     101228           .    T      C   84.50   PASS   \n",
       "37706  GL000192.1     101317           .    A      C  168.56   PASS   \n",
       "37707  GL000192.1     139953           .  CTG      C  585.64   PASS   \n",
       "37708          10  123256215           .    T      G  100.00   PASS   \n",
       "\n",
       "                                                    INFO          FORMAT  \\\n",
       "0      AC=2;AF=1.00;AN=2;DB;DP=11;FS=0.000;HRun=0;Hap...  GT:AD:DP:GQ:PL   \n",
       "1      AC=1;AF=0.50;AN=2;BaseQRankSum=1.455;DB;DP=21;...  GT:AD:DP:GQ:PL   \n",
       "2      AC=1;AF=0.50;AN=2;BaseQRankSum=1.934;DP=48;Del...  GT:AD:DP:GQ:PL   \n",
       "3      AC=1;AF=0.50;AN=2;BaseQRankSum=-4.517;DB;DP=29...  GT:AD:DP:GQ:PL   \n",
       "4      AC=1;AF=0.50;AN=2;BaseQRankSum=0.199;DB;DP=33;...  GT:AD:DP:GQ:PL   \n",
       "...                                                  ...             ...   \n",
       "37704  AC=1;AF=0.50;AN=2;BaseQRankSum=-0.382;DP=11;De...  GT:AD:DP:GQ:PL   \n",
       "37705  AC=1;AF=0.50;AN=2;BaseQRankSum=1.133;DP=10;Del...  GT:AD:DP:GQ:PL   \n",
       "37706  AC=1;AF=0.50;AN=2;BaseQRankSum=1.678;DP=18;Del...  GT:AD:DP:GQ:PL   \n",
       "37707  AC=2;AF=1.00;AN=2;DP=22;FS=0.000;HRun=0;Haplot...  GT:AD:DP:GQ:PL   \n",
       "37708               GENE=FGFR2;INHERITANCE=AD;MIM=101600        GT:DS:GL   \n",
       "\n",
       "                            SAMPLE  \n",
       "0        1/1:6,5:11:14.79:300,15,0  \n",
       "1         0/1:14,7:21:99:181,0,367  \n",
       "2        0/1:28,20:48:99:515,0,794  \n",
       "3        0/1:14,15:29:99:318,0,399  \n",
       "4        0/1:15,18:33:99:516,0,420  \n",
       "...                            ...  \n",
       "37704    0/1:3,8:11:45.83:168,0,46  \n",
       "37705      0/1:6,4:10:99:114,0,180  \n",
       "37706      0/1:9,9:18:99:199,0,214  \n",
       "37707  1/1:10,18:22:59.82:628,60,0  \n",
       "37708  1|0:2.000:-5.00,-1.10,-0.04  \n",
       "\n",
       "[37709 rows x 10 columns]"
      ]
     },
     "execution_count": 16,
     "metadata": {},
     "output_type": "execute_result"
    }
   ],
   "source": [
    "vcf = vcf.set_axis(['CHROM','POS','VARIANT_ID','REF','ALT','QUAL','FILTER','INFO','FORMAT','SAMPLE'], axis='columns')\n",
    "vcf"
   ]
  },
  {
   "cell_type": "markdown",
   "metadata": {},
   "source": [
    "Write out using `to_csv` using `index=False` to remove row names."
   ]
  },
  {
   "cell_type": "code",
   "execution_count": 17,
   "metadata": {},
   "outputs": [],
   "source": [
    "vcf.to_csv('/tmp/out.tsv', sep=\"\\t\", index=False)"
   ]
  },
  {
   "cell_type": "markdown",
   "metadata": {},
   "source": [
    "Since pandas is built on NumPy, we can also use NumPy booleans for subsetting."
   ]
  },
  {
   "cell_type": "code",
   "execution_count": 18,
   "metadata": {},
   "outputs": [
    {
     "name": "stdout",
     "output_type": "stream",
     "text": [
      "     Sepal.Length  Sepal.Width  Petal.Length  Petal.Width    Species\n",
      "118           7.7          2.6           6.9          2.3  virginica\n"
     ]
    }
   ],
   "source": [
    "import numpy as np\n",
    "\n",
    "wanted = np.logical_and(\n",
    "    iris[\"Sepal.Length\"] > 7.5,\n",
    "    iris[\"Petal.Length\"] > 6.8\n",
    ")\n",
    "\n",
    "print(iris[wanted])"
   ]
  },
  {
   "cell_type": "markdown",
   "metadata": {},
   "source": [
    "Using the `isin()` method for filtering."
   ]
  },
  {
   "cell_type": "code",
   "execution_count": 19,
   "metadata": {},
   "outputs": [
    {
     "data": {
      "text/html": [
       "<div>\n",
       "<style scoped>\n",
       "    .dataframe tbody tr th:only-of-type {\n",
       "        vertical-align: middle;\n",
       "    }\n",
       "\n",
       "    .dataframe tbody tr th {\n",
       "        vertical-align: top;\n",
       "    }\n",
       "\n",
       "    .dataframe thead th {\n",
       "        text-align: right;\n",
       "    }\n",
       "</style>\n",
       "<table border=\"1\" class=\"dataframe\">\n",
       "  <thead>\n",
       "    <tr style=\"text-align: right;\">\n",
       "      <th></th>\n",
       "      <th>Sepal.Length</th>\n",
       "      <th>Sepal.Width</th>\n",
       "      <th>Petal.Length</th>\n",
       "      <th>Petal.Width</th>\n",
       "      <th>Species</th>\n",
       "    </tr>\n",
       "  </thead>\n",
       "  <tbody>\n",
       "    <tr>\n",
       "      <th>47</th>\n",
       "      <td>4.6</td>\n",
       "      <td>3.2</td>\n",
       "      <td>1.4</td>\n",
       "      <td>0.2</td>\n",
       "      <td>setosa</td>\n",
       "    </tr>\n",
       "    <tr>\n",
       "      <th>48</th>\n",
       "      <td>5.3</td>\n",
       "      <td>3.7</td>\n",
       "      <td>1.5</td>\n",
       "      <td>0.2</td>\n",
       "      <td>setosa</td>\n",
       "    </tr>\n",
       "    <tr>\n",
       "      <th>49</th>\n",
       "      <td>5.0</td>\n",
       "      <td>3.3</td>\n",
       "      <td>1.4</td>\n",
       "      <td>0.2</td>\n",
       "      <td>setosa</td>\n",
       "    </tr>\n",
       "  </tbody>\n",
       "</table>\n",
       "</div>"
      ],
      "text/plain": [
       "    Sepal.Length  Sepal.Width  Petal.Length  Petal.Width Species\n",
       "47           4.6          3.2           1.4          0.2  setosa\n",
       "48           5.3          3.7           1.5          0.2  setosa\n",
       "49           5.0          3.3           1.4          0.2  setosa"
      ]
     },
     "execution_count": 19,
     "metadata": {},
     "output_type": "execute_result"
    }
   ],
   "source": [
    "iris[\n",
    "    iris[\"Species\"].isin([\"setosa\"])\n",
    "].tail(3)"
   ]
  },
  {
   "cell_type": "markdown",
   "metadata": {},
   "source": [
    "Use [apply](https://pandas.pydata.org/docs/reference/api/pandas.DataFrame.apply.html) to apply a function along an axis of a DataFrame. The example below applys the [str.upper](https://pandas.pydata.org/docs/reference/api/pandas.Series.str.upper.html) function (convert strings to uppercase) to the `Species` Series and creates a new column called `SPECIES`."
   ]
  },
  {
   "cell_type": "code",
   "execution_count": 20,
   "metadata": {},
   "outputs": [
    {
     "data": {
      "text/html": [
       "<div>\n",
       "<style scoped>\n",
       "    .dataframe tbody tr th:only-of-type {\n",
       "        vertical-align: middle;\n",
       "    }\n",
       "\n",
       "    .dataframe tbody tr th {\n",
       "        vertical-align: top;\n",
       "    }\n",
       "\n",
       "    .dataframe thead th {\n",
       "        text-align: right;\n",
       "    }\n",
       "</style>\n",
       "<table border=\"1\" class=\"dataframe\">\n",
       "  <thead>\n",
       "    <tr style=\"text-align: right;\">\n",
       "      <th></th>\n",
       "      <th>Species</th>\n",
       "      <th>SPECIES</th>\n",
       "    </tr>\n",
       "  </thead>\n",
       "  <tbody>\n",
       "    <tr>\n",
       "      <th>0</th>\n",
       "      <td>setosa</td>\n",
       "      <td>SETOSA</td>\n",
       "    </tr>\n",
       "    <tr>\n",
       "      <th>1</th>\n",
       "      <td>setosa</td>\n",
       "      <td>SETOSA</td>\n",
       "    </tr>\n",
       "    <tr>\n",
       "      <th>2</th>\n",
       "      <td>setosa</td>\n",
       "      <td>SETOSA</td>\n",
       "    </tr>\n",
       "  </tbody>\n",
       "</table>\n",
       "</div>"
      ],
      "text/plain": [
       "  Species SPECIES\n",
       "0  setosa  SETOSA\n",
       "1  setosa  SETOSA\n",
       "2  setosa  SETOSA"
      ]
     },
     "execution_count": 20,
     "metadata": {},
     "output_type": "execute_result"
    }
   ],
   "source": [
    "iris[\"SPECIES\"] = iris[\"Species\"].apply(str.upper)\n",
    "iris.loc[[0, 1, 2], [\"Species\", \"SPECIES\"]]"
   ]
  },
  {
   "cell_type": "markdown",
   "metadata": {},
   "source": [
    "Head of `DataFrame`."
   ]
  },
  {
   "cell_type": "code",
   "execution_count": 21,
   "metadata": {},
   "outputs": [
    {
     "data": {
      "text/html": [
       "<div>\n",
       "<style scoped>\n",
       "    .dataframe tbody tr th:only-of-type {\n",
       "        vertical-align: middle;\n",
       "    }\n",
       "\n",
       "    .dataframe tbody tr th {\n",
       "        vertical-align: top;\n",
       "    }\n",
       "\n",
       "    .dataframe thead th {\n",
       "        text-align: right;\n",
       "    }\n",
       "</style>\n",
       "<table border=\"1\" class=\"dataframe\">\n",
       "  <thead>\n",
       "    <tr style=\"text-align: right;\">\n",
       "      <th></th>\n",
       "      <th>Sepal.Length</th>\n",
       "      <th>Sepal.Width</th>\n",
       "      <th>Petal.Length</th>\n",
       "      <th>Petal.Width</th>\n",
       "      <th>Species</th>\n",
       "      <th>SPECIES</th>\n",
       "    </tr>\n",
       "  </thead>\n",
       "  <tbody>\n",
       "    <tr>\n",
       "      <th>0</th>\n",
       "      <td>5.1</td>\n",
       "      <td>3.5</td>\n",
       "      <td>1.4</td>\n",
       "      <td>0.2</td>\n",
       "      <td>setosa</td>\n",
       "      <td>SETOSA</td>\n",
       "    </tr>\n",
       "    <tr>\n",
       "      <th>1</th>\n",
       "      <td>4.9</td>\n",
       "      <td>3.0</td>\n",
       "      <td>1.4</td>\n",
       "      <td>0.2</td>\n",
       "      <td>setosa</td>\n",
       "      <td>SETOSA</td>\n",
       "    </tr>\n",
       "    <tr>\n",
       "      <th>2</th>\n",
       "      <td>4.7</td>\n",
       "      <td>3.2</td>\n",
       "      <td>1.3</td>\n",
       "      <td>0.2</td>\n",
       "      <td>setosa</td>\n",
       "      <td>SETOSA</td>\n",
       "    </tr>\n",
       "    <tr>\n",
       "      <th>3</th>\n",
       "      <td>4.6</td>\n",
       "      <td>3.1</td>\n",
       "      <td>1.5</td>\n",
       "      <td>0.2</td>\n",
       "      <td>setosa</td>\n",
       "      <td>SETOSA</td>\n",
       "    </tr>\n",
       "    <tr>\n",
       "      <th>4</th>\n",
       "      <td>5.0</td>\n",
       "      <td>3.6</td>\n",
       "      <td>1.4</td>\n",
       "      <td>0.2</td>\n",
       "      <td>setosa</td>\n",
       "      <td>SETOSA</td>\n",
       "    </tr>\n",
       "  </tbody>\n",
       "</table>\n",
       "</div>"
      ],
      "text/plain": [
       "   Sepal.Length  Sepal.Width  Petal.Length  Petal.Width Species SPECIES\n",
       "0           5.1          3.5           1.4          0.2  setosa  SETOSA\n",
       "1           4.9          3.0           1.4          0.2  setosa  SETOSA\n",
       "2           4.7          3.2           1.3          0.2  setosa  SETOSA\n",
       "3           4.6          3.1           1.5          0.2  setosa  SETOSA\n",
       "4           5.0          3.6           1.4          0.2  setosa  SETOSA"
      ]
     },
     "execution_count": 21,
     "metadata": {},
     "output_type": "execute_result"
    }
   ],
   "source": [
    "iris.head()"
   ]
  },
  {
   "cell_type": "markdown",
   "metadata": {},
   "source": [
    "Tail of `DataFrame`."
   ]
  },
  {
   "cell_type": "code",
   "execution_count": 22,
   "metadata": {},
   "outputs": [
    {
     "data": {
      "text/html": [
       "<div>\n",
       "<style scoped>\n",
       "    .dataframe tbody tr th:only-of-type {\n",
       "        vertical-align: middle;\n",
       "    }\n",
       "\n",
       "    .dataframe tbody tr th {\n",
       "        vertical-align: top;\n",
       "    }\n",
       "\n",
       "    .dataframe thead th {\n",
       "        text-align: right;\n",
       "    }\n",
       "</style>\n",
       "<table border=\"1\" class=\"dataframe\">\n",
       "  <thead>\n",
       "    <tr style=\"text-align: right;\">\n",
       "      <th></th>\n",
       "      <th>Sepal.Length</th>\n",
       "      <th>Sepal.Width</th>\n",
       "      <th>Petal.Length</th>\n",
       "      <th>Petal.Width</th>\n",
       "      <th>Species</th>\n",
       "      <th>SPECIES</th>\n",
       "    </tr>\n",
       "  </thead>\n",
       "  <tbody>\n",
       "    <tr>\n",
       "      <th>147</th>\n",
       "      <td>6.5</td>\n",
       "      <td>3.0</td>\n",
       "      <td>5.2</td>\n",
       "      <td>2.0</td>\n",
       "      <td>virginica</td>\n",
       "      <td>VIRGINICA</td>\n",
       "    </tr>\n",
       "    <tr>\n",
       "      <th>148</th>\n",
       "      <td>6.2</td>\n",
       "      <td>3.4</td>\n",
       "      <td>5.4</td>\n",
       "      <td>2.3</td>\n",
       "      <td>virginica</td>\n",
       "      <td>VIRGINICA</td>\n",
       "    </tr>\n",
       "    <tr>\n",
       "      <th>149</th>\n",
       "      <td>5.9</td>\n",
       "      <td>3.0</td>\n",
       "      <td>5.1</td>\n",
       "      <td>1.8</td>\n",
       "      <td>virginica</td>\n",
       "      <td>VIRGINICA</td>\n",
       "    </tr>\n",
       "  </tbody>\n",
       "</table>\n",
       "</div>"
      ],
      "text/plain": [
       "     Sepal.Length  Sepal.Width  Petal.Length  Petal.Width    Species  \\\n",
       "147           6.5          3.0           5.2          2.0  virginica   \n",
       "148           6.2          3.4           5.4          2.3  virginica   \n",
       "149           5.9          3.0           5.1          1.8  virginica   \n",
       "\n",
       "       SPECIES  \n",
       "147  VIRGINICA  \n",
       "148  VIRGINICA  \n",
       "149  VIRGINICA  "
      ]
     },
     "execution_count": 22,
     "metadata": {},
     "output_type": "execute_result"
    }
   ],
   "source": [
    "iris.tail(3)"
   ]
  },
  {
   "cell_type": "markdown",
   "metadata": {},
   "source": [
    "Display the index (row names):"
   ]
  },
  {
   "cell_type": "code",
   "execution_count": 23,
   "metadata": {},
   "outputs": [
    {
     "data": {
      "text/plain": [
       "RangeIndex(start=0, stop=150, step=1)"
      ]
     },
     "execution_count": 23,
     "metadata": {},
     "output_type": "execute_result"
    }
   ],
   "source": [
    "iris.index"
   ]
  },
  {
   "cell_type": "markdown",
   "metadata": {},
   "source": [
    "Display columns:"
   ]
  },
  {
   "cell_type": "code",
   "execution_count": 24,
   "metadata": {},
   "outputs": [
    {
     "data": {
      "text/plain": [
       "Index(['Sepal.Length', 'Sepal.Width', 'Petal.Length', 'Petal.Width', 'Species',\n",
       "       'SPECIES'],\n",
       "      dtype='object')"
      ]
     },
     "execution_count": 24,
     "metadata": {},
     "output_type": "execute_result"
    }
   ],
   "source": [
    "iris.columns"
   ]
  },
  {
   "cell_type": "markdown",
   "metadata": {},
   "source": [
    "Quick summary statistics."
   ]
  },
  {
   "cell_type": "code",
   "execution_count": 25,
   "metadata": {},
   "outputs": [
    {
     "data": {
      "text/html": [
       "<div>\n",
       "<style scoped>\n",
       "    .dataframe tbody tr th:only-of-type {\n",
       "        vertical-align: middle;\n",
       "    }\n",
       "\n",
       "    .dataframe tbody tr th {\n",
       "        vertical-align: top;\n",
       "    }\n",
       "\n",
       "    .dataframe thead th {\n",
       "        text-align: right;\n",
       "    }\n",
       "</style>\n",
       "<table border=\"1\" class=\"dataframe\">\n",
       "  <thead>\n",
       "    <tr style=\"text-align: right;\">\n",
       "      <th></th>\n",
       "      <th>Sepal.Length</th>\n",
       "      <th>Sepal.Width</th>\n",
       "      <th>Petal.Length</th>\n",
       "      <th>Petal.Width</th>\n",
       "    </tr>\n",
       "  </thead>\n",
       "  <tbody>\n",
       "    <tr>\n",
       "      <th>count</th>\n",
       "      <td>150.000000</td>\n",
       "      <td>150.000000</td>\n",
       "      <td>150.000000</td>\n",
       "      <td>150.000000</td>\n",
       "    </tr>\n",
       "    <tr>\n",
       "      <th>mean</th>\n",
       "      <td>5.843333</td>\n",
       "      <td>3.057333</td>\n",
       "      <td>3.758000</td>\n",
       "      <td>1.199333</td>\n",
       "    </tr>\n",
       "    <tr>\n",
       "      <th>std</th>\n",
       "      <td>0.828066</td>\n",
       "      <td>0.435866</td>\n",
       "      <td>1.765298</td>\n",
       "      <td>0.762238</td>\n",
       "    </tr>\n",
       "    <tr>\n",
       "      <th>min</th>\n",
       "      <td>4.300000</td>\n",
       "      <td>2.000000</td>\n",
       "      <td>1.000000</td>\n",
       "      <td>0.100000</td>\n",
       "    </tr>\n",
       "    <tr>\n",
       "      <th>25%</th>\n",
       "      <td>5.100000</td>\n",
       "      <td>2.800000</td>\n",
       "      <td>1.600000</td>\n",
       "      <td>0.300000</td>\n",
       "    </tr>\n",
       "    <tr>\n",
       "      <th>50%</th>\n",
       "      <td>5.800000</td>\n",
       "      <td>3.000000</td>\n",
       "      <td>4.350000</td>\n",
       "      <td>1.300000</td>\n",
       "    </tr>\n",
       "    <tr>\n",
       "      <th>75%</th>\n",
       "      <td>6.400000</td>\n",
       "      <td>3.300000</td>\n",
       "      <td>5.100000</td>\n",
       "      <td>1.800000</td>\n",
       "    </tr>\n",
       "    <tr>\n",
       "      <th>max</th>\n",
       "      <td>7.900000</td>\n",
       "      <td>4.400000</td>\n",
       "      <td>6.900000</td>\n",
       "      <td>2.500000</td>\n",
       "    </tr>\n",
       "  </tbody>\n",
       "</table>\n",
       "</div>"
      ],
      "text/plain": [
       "       Sepal.Length  Sepal.Width  Petal.Length  Petal.Width\n",
       "count    150.000000   150.000000    150.000000   150.000000\n",
       "mean       5.843333     3.057333      3.758000     1.199333\n",
       "std        0.828066     0.435866      1.765298     0.762238\n",
       "min        4.300000     2.000000      1.000000     0.100000\n",
       "25%        5.100000     2.800000      1.600000     0.300000\n",
       "50%        5.800000     3.000000      4.350000     1.300000\n",
       "75%        6.400000     3.300000      5.100000     1.800000\n",
       "max        7.900000     4.400000      6.900000     2.500000"
      ]
     },
     "execution_count": 25,
     "metadata": {},
     "output_type": "execute_result"
    }
   ],
   "source": [
    "iris.describe()"
   ]
  },
  {
   "cell_type": "markdown",
   "metadata": {},
   "source": [
    "Mean (automatically excluded non-numerical columns)."
   ]
  },
  {
   "cell_type": "code",
   "execution_count": 26,
   "metadata": {},
   "outputs": [
    {
     "name": "stderr",
     "output_type": "stream",
     "text": [
      "/tmp/ipykernel_568/935066809.py:1: FutureWarning: The default value of numeric_only in DataFrame.mean is deprecated. In a future version, it will default to False. In addition, specifying 'numeric_only=None' is deprecated. Select only valid columns or specify the value of numeric_only to silence this warning.\n",
      "  iris.mean()\n"
     ]
    },
    {
     "data": {
      "text/plain": [
       "Sepal.Length    5.843333\n",
       "Sepal.Width     3.057333\n",
       "Petal.Length    3.758000\n",
       "Petal.Width     1.199333\n",
       "dtype: float64"
      ]
     },
     "execution_count": 26,
     "metadata": {},
     "output_type": "execute_result"
    }
   ],
   "source": [
    "iris.mean()"
   ]
  },
  {
   "cell_type": "markdown",
   "metadata": {},
   "source": [
    "Transposing."
   ]
  },
  {
   "cell_type": "code",
   "execution_count": 27,
   "metadata": {},
   "outputs": [
    {
     "data": {
      "text/html": [
       "<div>\n",
       "<style scoped>\n",
       "    .dataframe tbody tr th:only-of-type {\n",
       "        vertical-align: middle;\n",
       "    }\n",
       "\n",
       "    .dataframe tbody tr th {\n",
       "        vertical-align: top;\n",
       "    }\n",
       "\n",
       "    .dataframe thead th {\n",
       "        text-align: right;\n",
       "    }\n",
       "</style>\n",
       "<table border=\"1\" class=\"dataframe\">\n",
       "  <thead>\n",
       "    <tr style=\"text-align: right;\">\n",
       "      <th></th>\n",
       "      <th>0</th>\n",
       "      <th>1</th>\n",
       "      <th>2</th>\n",
       "      <th>3</th>\n",
       "      <th>4</th>\n",
       "      <th>5</th>\n",
       "      <th>6</th>\n",
       "      <th>7</th>\n",
       "      <th>8</th>\n",
       "      <th>9</th>\n",
       "      <th>...</th>\n",
       "      <th>140</th>\n",
       "      <th>141</th>\n",
       "      <th>142</th>\n",
       "      <th>143</th>\n",
       "      <th>144</th>\n",
       "      <th>145</th>\n",
       "      <th>146</th>\n",
       "      <th>147</th>\n",
       "      <th>148</th>\n",
       "      <th>149</th>\n",
       "    </tr>\n",
       "  </thead>\n",
       "  <tbody>\n",
       "    <tr>\n",
       "      <th>Sepal.Length</th>\n",
       "      <td>5.1</td>\n",
       "      <td>4.9</td>\n",
       "      <td>4.7</td>\n",
       "      <td>4.6</td>\n",
       "      <td>5.0</td>\n",
       "      <td>5.4</td>\n",
       "      <td>4.6</td>\n",
       "      <td>5.0</td>\n",
       "      <td>4.4</td>\n",
       "      <td>4.9</td>\n",
       "      <td>...</td>\n",
       "      <td>6.7</td>\n",
       "      <td>6.9</td>\n",
       "      <td>5.8</td>\n",
       "      <td>6.8</td>\n",
       "      <td>6.7</td>\n",
       "      <td>6.7</td>\n",
       "      <td>6.3</td>\n",
       "      <td>6.5</td>\n",
       "      <td>6.2</td>\n",
       "      <td>5.9</td>\n",
       "    </tr>\n",
       "    <tr>\n",
       "      <th>Sepal.Width</th>\n",
       "      <td>3.5</td>\n",
       "      <td>3.0</td>\n",
       "      <td>3.2</td>\n",
       "      <td>3.1</td>\n",
       "      <td>3.6</td>\n",
       "      <td>3.9</td>\n",
       "      <td>3.4</td>\n",
       "      <td>3.4</td>\n",
       "      <td>2.9</td>\n",
       "      <td>3.1</td>\n",
       "      <td>...</td>\n",
       "      <td>3.1</td>\n",
       "      <td>3.1</td>\n",
       "      <td>2.7</td>\n",
       "      <td>3.2</td>\n",
       "      <td>3.3</td>\n",
       "      <td>3.0</td>\n",
       "      <td>2.5</td>\n",
       "      <td>3.0</td>\n",
       "      <td>3.4</td>\n",
       "      <td>3.0</td>\n",
       "    </tr>\n",
       "    <tr>\n",
       "      <th>Petal.Length</th>\n",
       "      <td>1.4</td>\n",
       "      <td>1.4</td>\n",
       "      <td>1.3</td>\n",
       "      <td>1.5</td>\n",
       "      <td>1.4</td>\n",
       "      <td>1.7</td>\n",
       "      <td>1.4</td>\n",
       "      <td>1.5</td>\n",
       "      <td>1.4</td>\n",
       "      <td>1.5</td>\n",
       "      <td>...</td>\n",
       "      <td>5.6</td>\n",
       "      <td>5.1</td>\n",
       "      <td>5.1</td>\n",
       "      <td>5.9</td>\n",
       "      <td>5.7</td>\n",
       "      <td>5.2</td>\n",
       "      <td>5.0</td>\n",
       "      <td>5.2</td>\n",
       "      <td>5.4</td>\n",
       "      <td>5.1</td>\n",
       "    </tr>\n",
       "    <tr>\n",
       "      <th>Petal.Width</th>\n",
       "      <td>0.2</td>\n",
       "      <td>0.2</td>\n",
       "      <td>0.2</td>\n",
       "      <td>0.2</td>\n",
       "      <td>0.2</td>\n",
       "      <td>0.4</td>\n",
       "      <td>0.3</td>\n",
       "      <td>0.2</td>\n",
       "      <td>0.2</td>\n",
       "      <td>0.1</td>\n",
       "      <td>...</td>\n",
       "      <td>2.4</td>\n",
       "      <td>2.3</td>\n",
       "      <td>1.9</td>\n",
       "      <td>2.3</td>\n",
       "      <td>2.5</td>\n",
       "      <td>2.3</td>\n",
       "      <td>1.9</td>\n",
       "      <td>2.0</td>\n",
       "      <td>2.3</td>\n",
       "      <td>1.8</td>\n",
       "    </tr>\n",
       "    <tr>\n",
       "      <th>Species</th>\n",
       "      <td>setosa</td>\n",
       "      <td>setosa</td>\n",
       "      <td>setosa</td>\n",
       "      <td>setosa</td>\n",
       "      <td>setosa</td>\n",
       "      <td>setosa</td>\n",
       "      <td>setosa</td>\n",
       "      <td>setosa</td>\n",
       "      <td>setosa</td>\n",
       "      <td>setosa</td>\n",
       "      <td>...</td>\n",
       "      <td>virginica</td>\n",
       "      <td>virginica</td>\n",
       "      <td>virginica</td>\n",
       "      <td>virginica</td>\n",
       "      <td>virginica</td>\n",
       "      <td>virginica</td>\n",
       "      <td>virginica</td>\n",
       "      <td>virginica</td>\n",
       "      <td>virginica</td>\n",
       "      <td>virginica</td>\n",
       "    </tr>\n",
       "    <tr>\n",
       "      <th>SPECIES</th>\n",
       "      <td>SETOSA</td>\n",
       "      <td>SETOSA</td>\n",
       "      <td>SETOSA</td>\n",
       "      <td>SETOSA</td>\n",
       "      <td>SETOSA</td>\n",
       "      <td>SETOSA</td>\n",
       "      <td>SETOSA</td>\n",
       "      <td>SETOSA</td>\n",
       "      <td>SETOSA</td>\n",
       "      <td>SETOSA</td>\n",
       "      <td>...</td>\n",
       "      <td>VIRGINICA</td>\n",
       "      <td>VIRGINICA</td>\n",
       "      <td>VIRGINICA</td>\n",
       "      <td>VIRGINICA</td>\n",
       "      <td>VIRGINICA</td>\n",
       "      <td>VIRGINICA</td>\n",
       "      <td>VIRGINICA</td>\n",
       "      <td>VIRGINICA</td>\n",
       "      <td>VIRGINICA</td>\n",
       "      <td>VIRGINICA</td>\n",
       "    </tr>\n",
       "  </tbody>\n",
       "</table>\n",
       "<p>6 rows × 150 columns</p>\n",
       "</div>"
      ],
      "text/plain": [
       "                 0       1       2       3       4       5       6       7    \\\n",
       "Sepal.Length     5.1     4.9     4.7     4.6     5.0     5.4     4.6     5.0   \n",
       "Sepal.Width      3.5     3.0     3.2     3.1     3.6     3.9     3.4     3.4   \n",
       "Petal.Length     1.4     1.4     1.3     1.5     1.4     1.7     1.4     1.5   \n",
       "Petal.Width      0.2     0.2     0.2     0.2     0.2     0.4     0.3     0.2   \n",
       "Species       setosa  setosa  setosa  setosa  setosa  setosa  setosa  setosa   \n",
       "SPECIES       SETOSA  SETOSA  SETOSA  SETOSA  SETOSA  SETOSA  SETOSA  SETOSA   \n",
       "\n",
       "                 8       9    ...        140        141        142        143  \\\n",
       "Sepal.Length     4.4     4.9  ...        6.7        6.9        5.8        6.8   \n",
       "Sepal.Width      2.9     3.1  ...        3.1        3.1        2.7        3.2   \n",
       "Petal.Length     1.4     1.5  ...        5.6        5.1        5.1        5.9   \n",
       "Petal.Width      0.2     0.1  ...        2.4        2.3        1.9        2.3   \n",
       "Species       setosa  setosa  ...  virginica  virginica  virginica  virginica   \n",
       "SPECIES       SETOSA  SETOSA  ...  VIRGINICA  VIRGINICA  VIRGINICA  VIRGINICA   \n",
       "\n",
       "                    144        145        146        147        148        149  \n",
       "Sepal.Length        6.7        6.7        6.3        6.5        6.2        5.9  \n",
       "Sepal.Width         3.3        3.0        2.5        3.0        3.4        3.0  \n",
       "Petal.Length        5.7        5.2        5.0        5.2        5.4        5.1  \n",
       "Petal.Width         2.5        2.3        1.9        2.0        2.3        1.8  \n",
       "Species       virginica  virginica  virginica  virginica  virginica  virginica  \n",
       "SPECIES       VIRGINICA  VIRGINICA  VIRGINICA  VIRGINICA  VIRGINICA  VIRGINICA  \n",
       "\n",
       "[6 rows x 150 columns]"
      ]
     },
     "execution_count": 27,
     "metadata": {},
     "output_type": "execute_result"
    }
   ],
   "source": [
    "iris.T"
   ]
  },
  {
   "cell_type": "markdown",
   "metadata": {},
   "source": [
    "Sort by column."
   ]
  },
  {
   "cell_type": "code",
   "execution_count": 28,
   "metadata": {},
   "outputs": [
    {
     "data": {
      "text/html": [
       "<div>\n",
       "<style scoped>\n",
       "    .dataframe tbody tr th:only-of-type {\n",
       "        vertical-align: middle;\n",
       "    }\n",
       "\n",
       "    .dataframe tbody tr th {\n",
       "        vertical-align: top;\n",
       "    }\n",
       "\n",
       "    .dataframe thead th {\n",
       "        text-align: right;\n",
       "    }\n",
       "</style>\n",
       "<table border=\"1\" class=\"dataframe\">\n",
       "  <thead>\n",
       "    <tr style=\"text-align: right;\">\n",
       "      <th></th>\n",
       "      <th>Sepal.Length</th>\n",
       "      <th>Sepal.Width</th>\n",
       "      <th>Petal.Length</th>\n",
       "      <th>Petal.Width</th>\n",
       "      <th>Species</th>\n",
       "      <th>SPECIES</th>\n",
       "    </tr>\n",
       "  </thead>\n",
       "  <tbody>\n",
       "    <tr>\n",
       "      <th>118</th>\n",
       "      <td>7.7</td>\n",
       "      <td>2.6</td>\n",
       "      <td>6.9</td>\n",
       "      <td>2.3</td>\n",
       "      <td>virginica</td>\n",
       "      <td>VIRGINICA</td>\n",
       "    </tr>\n",
       "    <tr>\n",
       "      <th>122</th>\n",
       "      <td>7.7</td>\n",
       "      <td>2.8</td>\n",
       "      <td>6.7</td>\n",
       "      <td>2.0</td>\n",
       "      <td>virginica</td>\n",
       "      <td>VIRGINICA</td>\n",
       "    </tr>\n",
       "    <tr>\n",
       "      <th>117</th>\n",
       "      <td>7.7</td>\n",
       "      <td>3.8</td>\n",
       "      <td>6.7</td>\n",
       "      <td>2.2</td>\n",
       "      <td>virginica</td>\n",
       "      <td>VIRGINICA</td>\n",
       "    </tr>\n",
       "    <tr>\n",
       "      <th>105</th>\n",
       "      <td>7.6</td>\n",
       "      <td>3.0</td>\n",
       "      <td>6.6</td>\n",
       "      <td>2.1</td>\n",
       "      <td>virginica</td>\n",
       "      <td>VIRGINICA</td>\n",
       "    </tr>\n",
       "    <tr>\n",
       "      <th>131</th>\n",
       "      <td>7.9</td>\n",
       "      <td>3.8</td>\n",
       "      <td>6.4</td>\n",
       "      <td>2.0</td>\n",
       "      <td>virginica</td>\n",
       "      <td>VIRGINICA</td>\n",
       "    </tr>\n",
       "    <tr>\n",
       "      <th>...</th>\n",
       "      <td>...</td>\n",
       "      <td>...</td>\n",
       "      <td>...</td>\n",
       "      <td>...</td>\n",
       "      <td>...</td>\n",
       "      <td>...</td>\n",
       "    </tr>\n",
       "    <tr>\n",
       "      <th>16</th>\n",
       "      <td>5.4</td>\n",
       "      <td>3.9</td>\n",
       "      <td>1.3</td>\n",
       "      <td>0.4</td>\n",
       "      <td>setosa</td>\n",
       "      <td>SETOSA</td>\n",
       "    </tr>\n",
       "    <tr>\n",
       "      <th>35</th>\n",
       "      <td>5.0</td>\n",
       "      <td>3.2</td>\n",
       "      <td>1.2</td>\n",
       "      <td>0.2</td>\n",
       "      <td>setosa</td>\n",
       "      <td>SETOSA</td>\n",
       "    </tr>\n",
       "    <tr>\n",
       "      <th>14</th>\n",
       "      <td>5.8</td>\n",
       "      <td>4.0</td>\n",
       "      <td>1.2</td>\n",
       "      <td>0.2</td>\n",
       "      <td>setosa</td>\n",
       "      <td>SETOSA</td>\n",
       "    </tr>\n",
       "    <tr>\n",
       "      <th>13</th>\n",
       "      <td>4.3</td>\n",
       "      <td>3.0</td>\n",
       "      <td>1.1</td>\n",
       "      <td>0.1</td>\n",
       "      <td>setosa</td>\n",
       "      <td>SETOSA</td>\n",
       "    </tr>\n",
       "    <tr>\n",
       "      <th>22</th>\n",
       "      <td>4.6</td>\n",
       "      <td>3.6</td>\n",
       "      <td>1.0</td>\n",
       "      <td>0.2</td>\n",
       "      <td>setosa</td>\n",
       "      <td>SETOSA</td>\n",
       "    </tr>\n",
       "  </tbody>\n",
       "</table>\n",
       "<p>150 rows × 6 columns</p>\n",
       "</div>"
      ],
      "text/plain": [
       "     Sepal.Length  Sepal.Width  Petal.Length  Petal.Width    Species  \\\n",
       "118           7.7          2.6           6.9          2.3  virginica   \n",
       "122           7.7          2.8           6.7          2.0  virginica   \n",
       "117           7.7          3.8           6.7          2.2  virginica   \n",
       "105           7.6          3.0           6.6          2.1  virginica   \n",
       "131           7.9          3.8           6.4          2.0  virginica   \n",
       "..            ...          ...           ...          ...        ...   \n",
       "16            5.4          3.9           1.3          0.4     setosa   \n",
       "35            5.0          3.2           1.2          0.2     setosa   \n",
       "14            5.8          4.0           1.2          0.2     setosa   \n",
       "13            4.3          3.0           1.1          0.1     setosa   \n",
       "22            4.6          3.6           1.0          0.2     setosa   \n",
       "\n",
       "       SPECIES  \n",
       "118  VIRGINICA  \n",
       "122  VIRGINICA  \n",
       "117  VIRGINICA  \n",
       "105  VIRGINICA  \n",
       "131  VIRGINICA  \n",
       "..         ...  \n",
       "16      SETOSA  \n",
       "35      SETOSA  \n",
       "14      SETOSA  \n",
       "13      SETOSA  \n",
       "22      SETOSA  \n",
       "\n",
       "[150 rows x 6 columns]"
      ]
     },
     "execution_count": 28,
     "metadata": {},
     "output_type": "execute_result"
    }
   ],
   "source": [
    "iris.sort_values(by = \"Petal.Length\", ascending = False)"
   ]
  },
  {
   "cell_type": "markdown",
   "metadata": {},
   "source": [
    "Joining."
   ]
  },
  {
   "cell_type": "code",
   "execution_count": 29,
   "metadata": {},
   "outputs": [
    {
     "data": {
      "text/html": [
       "<div>\n",
       "<style scoped>\n",
       "    .dataframe tbody tr th:only-of-type {\n",
       "        vertical-align: middle;\n",
       "    }\n",
       "\n",
       "    .dataframe tbody tr th {\n",
       "        vertical-align: top;\n",
       "    }\n",
       "\n",
       "    .dataframe thead th {\n",
       "        text-align: right;\n",
       "    }\n",
       "</style>\n",
       "<table border=\"1\" class=\"dataframe\">\n",
       "  <thead>\n",
       "    <tr style=\"text-align: right;\">\n",
       "      <th></th>\n",
       "      <th>key</th>\n",
       "      <th>lval</th>\n",
       "      <th>rval</th>\n",
       "    </tr>\n",
       "  </thead>\n",
       "  <tbody>\n",
       "    <tr>\n",
       "      <th>0</th>\n",
       "      <td>foo</td>\n",
       "      <td>1</td>\n",
       "      <td>4</td>\n",
       "    </tr>\n",
       "    <tr>\n",
       "      <th>1</th>\n",
       "      <td>foo</td>\n",
       "      <td>1</td>\n",
       "      <td>5</td>\n",
       "    </tr>\n",
       "    <tr>\n",
       "      <th>2</th>\n",
       "      <td>foo</td>\n",
       "      <td>2</td>\n",
       "      <td>4</td>\n",
       "    </tr>\n",
       "    <tr>\n",
       "      <th>3</th>\n",
       "      <td>foo</td>\n",
       "      <td>2</td>\n",
       "      <td>5</td>\n",
       "    </tr>\n",
       "  </tbody>\n",
       "</table>\n",
       "</div>"
      ],
      "text/plain": [
       "   key  lval  rval\n",
       "0  foo     1     4\n",
       "1  foo     1     5\n",
       "2  foo     2     4\n",
       "3  foo     2     5"
      ]
     },
     "execution_count": 29,
     "metadata": {},
     "output_type": "execute_result"
    }
   ],
   "source": [
    "left = pd.DataFrame(\n",
    "    {\"key\": [\"foo\", \"foo\"],\n",
    "     \"lval\": [1, 2]}\n",
    ")\n",
    "\n",
    "right = pd.DataFrame(\n",
    "    {\"key\": [\"foo\", \"foo\"],\n",
    "     \"rval\": [4, 5]}\n",
    ")\n",
    "\n",
    "pd.merge(left, right, on=\"key\")"
   ]
  },
  {
   "cell_type": "markdown",
   "metadata": {},
   "source": [
    "Group by."
   ]
  },
  {
   "cell_type": "code",
   "execution_count": 30,
   "metadata": {},
   "outputs": [
    {
     "name": "stderr",
     "output_type": "stream",
     "text": [
      "/tmp/ipykernel_568/3305375291.py:1: FutureWarning: The default value of numeric_only in DataFrameGroupBy.mean is deprecated. In a future version, numeric_only will default to False. Either specify numeric_only or select only columns which should be valid for the function.\n",
      "  iris.groupby(\"Species\").mean()\n"
     ]
    },
    {
     "data": {
      "text/html": [
       "<div>\n",
       "<style scoped>\n",
       "    .dataframe tbody tr th:only-of-type {\n",
       "        vertical-align: middle;\n",
       "    }\n",
       "\n",
       "    .dataframe tbody tr th {\n",
       "        vertical-align: top;\n",
       "    }\n",
       "\n",
       "    .dataframe thead th {\n",
       "        text-align: right;\n",
       "    }\n",
       "</style>\n",
       "<table border=\"1\" class=\"dataframe\">\n",
       "  <thead>\n",
       "    <tr style=\"text-align: right;\">\n",
       "      <th></th>\n",
       "      <th>Sepal.Length</th>\n",
       "      <th>Sepal.Width</th>\n",
       "      <th>Petal.Length</th>\n",
       "      <th>Petal.Width</th>\n",
       "    </tr>\n",
       "    <tr>\n",
       "      <th>Species</th>\n",
       "      <th></th>\n",
       "      <th></th>\n",
       "      <th></th>\n",
       "      <th></th>\n",
       "    </tr>\n",
       "  </thead>\n",
       "  <tbody>\n",
       "    <tr>\n",
       "      <th>setosa</th>\n",
       "      <td>5.006</td>\n",
       "      <td>3.428</td>\n",
       "      <td>1.462</td>\n",
       "      <td>0.246</td>\n",
       "    </tr>\n",
       "    <tr>\n",
       "      <th>versicolor</th>\n",
       "      <td>5.936</td>\n",
       "      <td>2.770</td>\n",
       "      <td>4.260</td>\n",
       "      <td>1.326</td>\n",
       "    </tr>\n",
       "    <tr>\n",
       "      <th>virginica</th>\n",
       "      <td>6.588</td>\n",
       "      <td>2.974</td>\n",
       "      <td>5.552</td>\n",
       "      <td>2.026</td>\n",
       "    </tr>\n",
       "  </tbody>\n",
       "</table>\n",
       "</div>"
      ],
      "text/plain": [
       "            Sepal.Length  Sepal.Width  Petal.Length  Petal.Width\n",
       "Species                                                         \n",
       "setosa             5.006        3.428         1.462        0.246\n",
       "versicolor         5.936        2.770         4.260        1.326\n",
       "virginica          6.588        2.974         5.552        2.026"
      ]
     },
     "execution_count": 30,
     "metadata": {},
     "output_type": "execute_result"
    }
   ],
   "source": [
    "iris.groupby(\"Species\").mean()"
   ]
  }
 ],
 "metadata": {
  "kernelspec": {
   "display_name": "Python 3 (ipykernel)",
   "language": "python",
   "name": "python3"
  },
  "language_info": {
   "codemirror_mode": {
    "name": "ipython",
    "version": 3
   },
   "file_extension": ".py",
   "mimetype": "text/x-python",
   "name": "python",
   "nbconvert_exporter": "python",
   "pygments_lexer": "ipython3",
   "version": "3.10.6"
  }
 },
 "nbformat": 4,
 "nbformat_minor": 4
}
