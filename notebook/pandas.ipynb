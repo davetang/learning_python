{
 "cells": [
  {
   "cell_type": "markdown",
   "metadata": {},
   "source": [
    "# NumPy"
   ]
  },
  {
   "cell_type": "markdown",
   "metadata": {},
   "source": [
    "[pandas](https://pandas.pydata.org/) is an open source, BSD-licensed library providing high-performance, easy-to-use data structures and data analysis tools for the Python programming language."
   ]
  },
  {
   "cell_type": "markdown",
   "metadata": {},
   "source": [
    "Use `import` to load pandas."
   ]
  },
  {
   "cell_type": "code",
   "execution_count": 6,
   "metadata": {},
   "outputs": [
    {
     "name": "stdout",
     "output_type": "stream",
     "text": [
      "       col1  col2  col3\n",
      "one       1     7    13\n",
      "two       2     8    14\n",
      "three     3     9    15\n",
      "four      4    10    16\n",
      "five      5    11    17\n",
      "<class 'pandas.core.frame.DataFrame'>\n"
     ]
    }
   ],
   "source": [
    "import pandas as pd\n",
    "\n",
    "col1 = list(range(1,6))\n",
    "col2 = list(range(7, 12))\n",
    "col3 = list(range(13, 18))\n",
    "\n",
    "d = {'col1' : col1, 'col2' : col2, 'col3' : col3}\n",
    "\n",
    "df = pd.DataFrame(d)\n",
    "df.index = ['one', 'two', 'three', 'four', 'five']\n",
    "print(df)\n",
    "print(type(df))"
   ]
  },
  {
   "cell_type": "markdown",
   "metadata": {},
   "source": [
    "Read from a CSV file"
   ]
  },
  {
   "cell_type": "code",
   "execution_count": 20,
   "metadata": {},
   "outputs": [
    {
     "name": "stdout",
     "output_type": "stream",
     "text": [
      "   Sepal.Length  Sepal.Width  Petal.Length  Petal.Width Species\n",
      "0           5.1          3.5           1.4          0.2  setosa\n",
      "1           4.9          3.0           1.4          0.2  setosa\n",
      "2           4.7          3.2           1.3          0.2  setosa\n",
      "3           4.6          3.1           1.5          0.2  setosa\n",
      "4           5.0          3.6           1.4          0.2  setosa\n",
      "   Sepal.Length  Sepal.Width  Petal.Length  Petal.Width Species\n",
      "0           5.1          3.5           1.4          0.2  setosa\n",
      "1           4.9          3.0           1.4          0.2  setosa\n",
      "2           4.7          3.2           1.3          0.2  setosa\n",
      "   Sepal.Width  Sepal.Length\n",
      "0          3.5           5.1\n",
      "1          3.0           4.9\n",
      "2          3.2           4.7\n",
      "   Sepal.Width  Sepal.Length\n",
      "0          3.5           5.1\n",
      "1          3.0           4.9\n",
      "2          3.2           4.7\n"
     ]
    }
   ],
   "source": [
    "iris = pd.read_csv(\"../data/iris.csv\")\n",
    "print(iris[0:5])\n",
    "\n",
    "print(iris.loc[[0, 1, 2]])\n",
    "\n",
    "print(iris.loc[range(0,3), ['Sepal.Width', 'Sepal.Length']])\n",
    "\n",
    "print(iris.iloc[[0, 1, 2], [1, 0]])"
   ]
  }
 ],
 "metadata": {
  "kernelspec": {
   "display_name": "Python 3",
   "language": "python",
   "name": "python3"
  },
  "language_info": {
   "codemirror_mode": {
    "name": "ipython",
    "version": 3
   },
   "file_extension": ".py",
   "mimetype": "text/x-python",
   "name": "python",
   "nbconvert_exporter": "python",
   "pygments_lexer": "ipython3",
   "version": "3.6.4"
  }
 },
 "nbformat": 4,
 "nbformat_minor": 2
}
