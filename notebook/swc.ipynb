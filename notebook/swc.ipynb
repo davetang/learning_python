{
 "cells": [
  {
   "cell_type": "markdown",
   "id": "coated-biography",
   "metadata": {},
   "source": [
    "# Programming with Python\n",
    "\n",
    "[Programming with Python course](https://swcarpentry.github.io/python-novice-inflammation/) by Software Carpentry."
   ]
  },
  {
   "cell_type": "markdown",
   "id": "promotional-cholesterol",
   "metadata": {},
   "source": [
    "## Python Fundamentals\n",
    "\n",
    "* Basic data types in Python include integers, strings, and floating-point numbers.\n",
    "* Use `variable = value` to assign a value to a variable in order to record it in memory.\n",
    "* Variables are created on demand whenever a value is assigned to them.\n",
    "* Use `print(something)` to display the value of `something`.\n",
    "* Built-in functions are always available to use."
   ]
  },
  {
   "cell_type": "markdown",
   "id": "north-savings",
   "metadata": {},
   "source": [
    "## Analysing Patient Data\n",
    "\n",
    "Load `NumPy` and use the function call `np.loadtxt()` to load `inflammation-01.csv`, which contains to arthritis patients' inflammation data where each row are data for each individual patient and the columns are their daily inflammation measurements."
   ]
  },
  {
   "cell_type": "code",
   "execution_count": 1,
   "id": "detected-sally",
   "metadata": {},
   "outputs": [
    {
     "name": "stdout",
     "output_type": "stream",
     "text": [
      "[[0. 0. 1. ... 3. 0. 0.]\n",
      " [0. 1. 2. ... 1. 0. 1.]\n",
      " [0. 1. 1. ... 2. 1. 1.]\n",
      " ...\n",
      " [0. 1. 1. ... 1. 1. 1.]\n",
      " [0. 0. 0. ... 0. 2. 0.]\n",
      " [0. 0. 1. ... 1. 1. 0.]]\n"
     ]
    }
   ],
   "source": [
    "import numpy as np\n",
    "data = np.loadtxt(fname = '../data/swc/inflammation-01.csv', delimiter=',')\n",
    "print(data)"
   ]
  },
  {
   "cell_type": "markdown",
   "id": "ethical-continuity",
   "metadata": {},
   "source": [
    "Data type using `type()`."
   ]
  },
  {
   "cell_type": "code",
   "execution_count": 2,
   "id": "occasional-saskatchewan",
   "metadata": {},
   "outputs": [
    {
     "name": "stdout",
     "output_type": "stream",
     "text": [
      "<class 'numpy.ndarray'>\n"
     ]
    }
   ],
   "source": [
    "print(type(data))"
   ]
  },
  {
   "cell_type": "markdown",
   "id": "musical-notification",
   "metadata": {},
   "source": [
    "The `type()` function will only tell you that a variable is a `NumPy` array but not the type of values stored in the array. A NumPy array contains elements of the same type; use `dtype` to find out the type of data stored inside an array."
   ]
  },
  {
   "cell_type": "code",
   "execution_count": 3,
   "id": "finite-security",
   "metadata": {},
   "outputs": [
    {
     "name": "stdout",
     "output_type": "stream",
     "text": [
      "float64\n"
     ]
    }
   ],
   "source": [
    "print(data.dtype)"
   ]
  },
  {
   "cell_type": "markdown",
   "id": "afraid-likelihood",
   "metadata": {},
   "source": [
    "`data.shape` is an attribute of `data` that describes dimensions of `data` (60 patients with data for 40 days)."
   ]
  },
  {
   "cell_type": "code",
   "execution_count": 4,
   "id": "neural-traveler",
   "metadata": {},
   "outputs": [
    {
     "name": "stdout",
     "output_type": "stream",
     "text": [
      "(60, 40)\n"
     ]
    }
   ],
   "source": [
    "print(data.shape)"
   ]
  },
  {
   "cell_type": "markdown",
   "id": "level-regulation",
   "metadata": {},
   "source": [
    "Get first value (cell in first row and first column) using an index with square brackets."
   ]
  },
  {
   "cell_type": "code",
   "execution_count": 5,
   "id": "noble-brave",
   "metadata": {},
   "outputs": [
    {
     "name": "stdout",
     "output_type": "stream",
     "text": [
      "0.0\n"
     ]
    }
   ],
   "source": [
    "print(data[0, 0])"
   ]
  },
  {
   "cell_type": "markdown",
   "id": "competent-sarah",
   "metadata": {},
   "source": [
    "An array slice from the first row to the fifth and first column to the fifth."
   ]
  },
  {
   "cell_type": "code",
   "execution_count": 6,
   "id": "experienced-nashville",
   "metadata": {},
   "outputs": [
    {
     "name": "stdout",
     "output_type": "stream",
     "text": [
      "[[0. 0. 1. 3. 1.]\n",
      " [0. 1. 2. 1. 2.]\n",
      " [0. 1. 1. 3. 3.]\n",
      " [0. 0. 2. 0. 4.]\n",
      " [0. 1. 1. 3. 3.]]\n"
     ]
    }
   ],
   "source": [
    "print(data[0:5, 0:5])"
   ]
  },
  {
   "cell_type": "markdown",
   "id": "weekly-large",
   "metadata": {},
   "source": [
    "We do not need to include the lower or upper bounds when slicing; Python will do this find the lowest and highest possible values when we do not specify the limits."
   ]
  },
  {
   "cell_type": "code",
   "execution_count": 7,
   "id": "laughing-farmer",
   "metadata": {},
   "outputs": [
    {
     "name": "stdout",
     "output_type": "stream",
     "text": [
      "[[4. 2. 3. 0. 0.]\n",
      " [5. 1. 1. 0. 1.]\n",
      " [3. 2. 2. 1. 1.]\n",
      " [4. 2. 3. 2. 1.]\n",
      " [4. 2. 0. 1. 1.]]\n"
     ]
    }
   ],
   "source": [
    "print(data[:5, 35:])"
   ]
  },
  {
   "cell_type": "markdown",
   "id": "parental-compatibility",
   "metadata": {},
   "source": [
    "Calculating the mean of entire array."
   ]
  },
  {
   "cell_type": "code",
   "execution_count": 8,
   "id": "unexpected-mitchell",
   "metadata": {},
   "outputs": [
    {
     "name": "stdout",
     "output_type": "stream",
     "text": [
      "6.14875\n"
     ]
    }
   ],
   "source": [
    "print(np.mean(data))"
   ]
  },
  {
   "cell_type": "markdown",
   "id": "beginning-doctor",
   "metadata": {},
   "source": [
    "Multiple assignment of descriptive statistics. Note to get more information about a function, add `?` to the end of the function, e.g. `np.std?`; this is the same as using `help(np.std)`."
   ]
  },
  {
   "cell_type": "code",
   "execution_count": 9,
   "id": "imposed-wrist",
   "metadata": {},
   "outputs": [
    {
     "name": "stdout",
     "output_type": "stream",
     "text": [
      "maximum inflammation: 20.0\n",
      "minimum inflammation: 0.0\n",
      "standard deviation: 4.613833197118566\n"
     ]
    }
   ],
   "source": [
    "maxval, minval, stdval = np.max(data), np.min(data), np.std(data)\n",
    "print('maximum inflammation:', maxval)\n",
    "print('minimum inflammation:', minval)\n",
    "print('standard deviation:', stdval)"
   ]
  },
  {
   "cell_type": "markdown",
   "id": "pleasant-soccer",
   "metadata": {},
   "source": [
    "Calculate just for patient 1."
   ]
  },
  {
   "cell_type": "code",
   "execution_count": 10,
   "id": "linear-quantity",
   "metadata": {},
   "outputs": [
    {
     "name": "stdout",
     "output_type": "stream",
     "text": [
      "18.0\n"
     ]
    }
   ],
   "source": [
    "print(np.max(data[0, :]))"
   ]
  },
  {
   "cell_type": "markdown",
   "id": "dynamic-congress",
   "metadata": {},
   "source": [
    "Calculate for all patients by using `axis = 1`. Axis 1 refers to the columns and we are calculating _across_ the columns."
   ]
  },
  {
   "cell_type": "code",
   "execution_count": 11,
   "id": "catholic-toolbox",
   "metadata": {},
   "outputs": [
    {
     "name": "stdout",
     "output_type": "stream",
     "text": [
      "(60,)\n",
      "[18. 18. 19. 17. 17. 18. 17. 20. 17. 18. 18. 18. 17. 16. 17. 18. 19. 19.\n",
      " 17. 19. 19. 16. 17. 15. 17. 17. 18. 17. 20. 17. 16. 19. 15. 15. 19. 17.\n",
      " 16. 17. 19. 16. 18. 19. 16. 19. 18. 16. 19. 15. 16. 18. 14. 20. 17. 15.\n",
      " 17. 16. 17. 19. 18. 18.]\n"
     ]
    }
   ],
   "source": [
    "print(np.max(data, axis = 1).shape)\n",
    "print(np.max(data, axis = 1))"
   ]
  },
  {
   "cell_type": "markdown",
   "id": "caroline-judgment",
   "metadata": {},
   "source": [
    "Calculate per day by using `axis = 0`. Axis 0 refers to the rows and we are calculating _across_ the rows."
   ]
  },
  {
   "cell_type": "code",
   "execution_count": 12,
   "id": "defensive-inside",
   "metadata": {},
   "outputs": [
    {
     "name": "stdout",
     "output_type": "stream",
     "text": [
      "(40,)\n",
      "[ 0.  1.  2.  3.  4.  5.  6.  7.  8.  9. 10. 11. 12. 13. 14. 15. 16. 17.\n",
      " 18. 19. 20. 19. 18. 17. 16. 15. 14. 13. 12. 11. 10.  9.  8.  7.  6.  5.\n",
      "  4.  3.  2.  1.]\n"
     ]
    }
   ],
   "source": [
    "print(np.max(data, axis = 0).shape)\n",
    "print(np.max(data, axis = 0))"
   ]
  },
  {
   "cell_type": "markdown",
   "id": "potential-meter",
   "metadata": {},
   "source": [
    "Slicing strings."
   ]
  },
  {
   "cell_type": "code",
   "execution_count": 13,
   "id": "separated-prize",
   "metadata": {},
   "outputs": [
    {
     "name": "stdout",
     "output_type": "stream",
     "text": [
      "oxy\n"
     ]
    }
   ],
   "source": [
    "element = 'oxygen'\n",
    "print(element[0:3])"
   ]
  },
  {
   "cell_type": "markdown",
   "id": "prescribed-marker",
   "metadata": {},
   "source": [
    "Last index using negative value."
   ]
  },
  {
   "cell_type": "code",
   "execution_count": 14,
   "id": "optional-clinic",
   "metadata": {},
   "outputs": [
    {
     "name": "stdout",
     "output_type": "stream",
     "text": [
      "e\n"
     ]
    }
   ],
   "source": [
    "print(element[-2])"
   ]
  },
  {
   "cell_type": "markdown",
   "id": "specific-coalition",
   "metadata": {},
   "source": [
    "Stacking arrays using `hstack` and `vstack`, which are like `cbind` and `rbind` in R."
   ]
  },
  {
   "cell_type": "code",
   "execution_count": 15,
   "id": "ruled-crime",
   "metadata": {},
   "outputs": [
    {
     "name": "stdout",
     "output_type": "stream",
     "text": [
      "A =  \n",
      " [[1 2 3]\n",
      " [4 5 6]\n",
      " [7 8 9]] \n",
      "\n",
      "B =  \n",
      " [[1 2 3 1 2 3]\n",
      " [4 5 6 4 5 6]\n",
      " [7 8 9 7 8 9]] \n",
      "\n",
      "C =  \n",
      " [[1 2 3]\n",
      " [4 5 6]\n",
      " [7 8 9]\n",
      " [1 2 3]\n",
      " [4 5 6]\n",
      " [7 8 9]] \n",
      "\n"
     ]
    }
   ],
   "source": [
    "A = np.array(\n",
    "    [[1, 2, 3],\n",
    "     [4, 5, 6],\n",
    "     [7, 8, 9]]\n",
    ")\n",
    "print('A = ', \"\\n\", A, \"\\n\")\n",
    "\n",
    "B = np.hstack([A, A])\n",
    "print('B = ', \"\\n\", B, \"\\n\")\n",
    "\n",
    "C = np.vstack([A, A])\n",
    "print('C = ', \"\\n\", C, \"\\n\")"
   ]
  },
  {
   "cell_type": "markdown",
   "id": "fluid-marker",
   "metadata": {},
   "source": [
    "The `np.diff()` function takes an array and returns the difference between two successive values (as in R)."
   ]
  },
  {
   "cell_type": "code",
   "execution_count": 16,
   "id": "acoustic-competition",
   "metadata": {},
   "outputs": [
    {
     "name": "stdout",
     "output_type": "stream",
     "text": [
      "[0. 0. 2. 0. 4. 2. 2.]\n",
      "[ 0.  2. -2.  4. -2.  0.]\n"
     ]
    }
   ],
   "source": [
    "patient3_week1 = data[3, :7]\n",
    "print(patient3_week1)\n",
    "print(np.diff(patient3_week1))"
   ]
  },
  {
   "cell_type": "markdown",
   "id": "liable-transsexual",
   "metadata": {},
   "source": [
    "Calculating `np.diff` for all patients."
   ]
  },
  {
   "cell_type": "code",
   "execution_count": 17,
   "id": "eastern-kidney",
   "metadata": {},
   "outputs": [
    {
     "data": {
      "text/plain": [
       "array([[ 0.,  1.,  2., ...,  1., -3.,  0.],\n",
       "       [ 1.,  1., -1., ...,  0., -1.,  1.],\n",
       "       [ 1.,  0.,  2., ...,  0., -1.,  0.],\n",
       "       ...,\n",
       "       [ 1.,  0.,  0., ..., -1.,  0.,  0.],\n",
       "       [ 0.,  0.,  1., ..., -2.,  2., -2.],\n",
       "       [ 0.,  1., -1., ..., -2.,  0., -1.]])"
      ]
     },
     "execution_count": 17,
     "metadata": {},
     "output_type": "execute_result"
    }
   ],
   "source": [
    "np.diff(data, axis = 1)"
   ]
  },
  {
   "cell_type": "markdown",
   "id": "happy-foster",
   "metadata": {},
   "source": [
    "Largest change in inflammation for each patient."
   ]
  },
  {
   "cell_type": "code",
   "execution_count": 18,
   "id": "necessary-council",
   "metadata": {},
   "outputs": [
    {
     "data": {
      "text/plain": [
       "array([ 7., 12., 11., 10., 11., 13., 10.,  8., 10., 10.,  7.,  7., 13.,\n",
       "        7., 10., 10.,  8., 10.,  9., 10., 13.,  7., 12.,  9., 12., 11.,\n",
       "       10., 10.,  7., 10., 11., 10.,  8., 11., 12., 10.,  9., 10., 13.,\n",
       "       10.,  7.,  7., 10., 13., 12.,  8.,  8., 10., 10.,  9.,  8., 13.,\n",
       "       10.,  7., 10.,  8., 12., 10.,  7., 12.])"
      ]
     },
     "execution_count": 18,
     "metadata": {},
     "output_type": "execute_result"
    }
   ],
   "source": [
    "np.max(np.diff(data, axis = 1), axis = 1)"
   ]
  },
  {
   "cell_type": "markdown",
   "id": "unexpected-virus",
   "metadata": {},
   "source": [
    "* Import a library into a program using `import libraryname`.\n",
    "* Use the `numpy` library to work with arrays in Python.\n",
    "* The expression `array.shape` gives the shape of an array.\n",
    "* Use `array[x, y]` to select a single element from a 2D array.\n",
    "* Array indices start at 0, not 1.\n",
    "* Use `low:high` to specify a slice that includes the indices from low to high-1.\n",
    "* Use `#` to add comments to programs.\n",
    "* Use `numpy.mean(array)`, `numpy.max(array)`, and `numpy.min(array)` to calculate simple statistics.\n",
    "* Use `numpy.mean(array, axis=0)` or `numpy.mean(array, axis=1)` to calculate statistics across the specified axis."
   ]
  },
  {
   "cell_type": "markdown",
   "id": "final-background",
   "metadata": {},
   "source": [
    "## Visualising Tabular Data\n",
    "\n",
    "Python's `matplotlib` is the _de facto_ plotting library. Here we will use the `pyplot` module from `matplotlib` and use two of its functions to create and display a heat map. Each row of the heat map corresponds to a single patient and each column a day. Blue pixels represent low values and yellow pixels represent high values. The heat map shows that the general number of inflammation flare-ups for the patients rises and falls over a 40-day period."
   ]
  },
  {
   "cell_type": "code",
   "execution_count": 20,
   "id": "sixth-tradition",
   "metadata": {},
   "outputs": [
    {
     "data": {
      "image/png": "[encoded data removed]",
      "text/plain": [
       "<Figure size 432x288 with 1 Axes>"
      ]
     },
     "metadata": {
      "needs_background": "light"
     },
     "output_type": "display_data"
    }
   ],
   "source": [
    "from matplotlib import pyplot as plt\n",
    "image = plt.imshow(data)\n",
    "plt.show()"
   ]
  },
  {
   "cell_type": "markdown",
   "id": "dynamic-shell",
   "metadata": {},
   "source": [
    "Average inflammation per day across all patients."
   ]
  },
  {
   "cell_type": "code",
   "execution_count": 22,
   "id": "unsigned-advisory",
   "metadata": {},
   "outputs": [
    {
     "data": {
      "image/png": "[encoded data removed]",
      "text/plain": [
       "<Figure size 432x288 with 1 Axes>"
      ]
     },
     "metadata": {
      "needs_background": "light"
     },
     "output_type": "display_data"
    }
   ],
   "source": [
    "ave_inflammation = np.mean(data, axis = 0)\n",
    "ave_plot = plt.plot(ave_inflammation)\n",
    "plt.show()"
   ]
  },
  {
   "cell_type": "markdown",
   "id": "right-directive",
   "metadata": {},
   "source": [
    "Max inflammation per day across all patients."
   ]
  },
  {
   "cell_type": "code",
   "execution_count": 23,
   "id": "neural-point",
   "metadata": {},
   "outputs": [
    {
     "data": {
      "image/png": "[encoded data removed]",
      "text/plain": [
       "<Figure size 432x288 with 1 Axes>"
      ]
     },
     "metadata": {
      "needs_background": "light"
     },
     "output_type": "display_data"
    }
   ],
   "source": [
    "max_plot = plt.plot(np.max(data, axis = 0))\n",
    "plt.show()"
   ]
  },
  {
   "cell_type": "markdown",
   "id": "extraordinary-congress",
   "metadata": {},
   "source": [
    "Minimum inflammation per day across all patients."
   ]
  },
  {
   "cell_type": "code",
   "execution_count": 24,
   "id": "integrated-trunk",
   "metadata": {},
   "outputs": [
    {
     "data": {
      "image/png": "[encoded data removed]",
      "text/plain": [
       "<Figure size 432x288 with 1 Axes>"
      ]
     },
     "metadata": {
      "needs_background": "light"
     },
     "output_type": "display_data"
    }
   ],
   "source": [
    "min_plot = plt.plot(np.min(data, axis = 0))\n",
    "plt.show()"
   ]
  },
  {
   "cell_type": "markdown",
   "id": "informative-while",
   "metadata": {},
   "source": [
    "Group plot into a single figure using subplots. The function `plt.figure()` creates a space for the plots and the parameter `figsize` indicates the size of the space. Each subplot is added by using `add_subplot`, which takes three parameters (number of rows, number of columns, and plot index). Each subplot is stored in a different variable (`axes1`, `axes2`, and `axes3`)."
   ]
  },
  {
   "cell_type": "code",
   "execution_count": 28,
   "id": "reflected-stability",
   "metadata": {},
   "outputs": [
    {
     "data": {
      "image/png": "[encoded data removed]",
      "text/plain": [
       "<Figure size 720x216 with 3 Axes>"
      ]
     },
     "metadata": {
      "needs_background": "light"
     },
     "output_type": "display_data"
    }
   ],
   "source": [
    "fig = plt.figure(figsize=(10.0, 3.0))\n",
    "\n",
    "axes1 = fig.add_subplot(1, 3, 1)\n",
    "axes2 = fig.add_subplot(1, 3, 2)\n",
    "axes3 = fig.add_subplot(1, 3, 3)\n",
    "\n",
    "axes1.set_ylabel('average')\n",
    "axes1.plot(np.mean(data, axis=0))\n",
    "\n",
    "axes2.set_ylabel('max')\n",
    "axes2.plot(np.max(data, axis=0))\n",
    "\n",
    "axes3.set_ylabel('min')\n",
    "axes3.plot(np.min(data, axis=0))\n",
    "\n",
    "fig.tight_layout()\n",
    "\n",
    "# to save as PNG\n",
    "# plt.savefig('inflammation.png')\n",
    "\n",
    "plt.show()"
   ]
  },
  {
   "cell_type": "markdown",
   "id": "endangered-welding",
   "metadata": {},
   "source": [
    "## Storing Multiple Values in Lists\n",
    "\n",
    "Lists are a way to store multiple values together and are a built-in data structure in Python. Lists are created by using square brackets."
   ]
  },
  {
   "cell_type": "code",
   "execution_count": 59,
   "id": "metallic-scale",
   "metadata": {},
   "outputs": [
    {
     "name": "stdout",
     "output_type": "stream",
     "text": [
      "[1, 3, 5, 7]\n"
     ]
    }
   ],
   "source": [
    "odd_no = [1, 3, 5, 7]\n",
    "print(odd_no)"
   ]
  },
  {
   "cell_type": "markdown",
   "id": "seventh-lightning",
   "metadata": {},
   "source": [
    "Indexing."
   ]
  },
  {
   "cell_type": "code",
   "execution_count": 31,
   "id": "killing-encounter",
   "metadata": {},
   "outputs": [
    {
     "name": "stdout",
     "output_type": "stream",
     "text": [
      "1\n",
      "7\n"
     ]
    }
   ],
   "source": [
    "print(odd_no[0])\n",
    "print(odd_no[-1])"
   ]
  },
  {
   "cell_type": "markdown",
   "id": "variable-swing",
   "metadata": {},
   "source": [
    "Lists are mutable."
   ]
  },
  {
   "cell_type": "code",
   "execution_count": 34,
   "id": "hairy-pledge",
   "metadata": {},
   "outputs": [
    {
     "name": "stdout",
     "output_type": "stream",
     "text": [
      "['Curie', 'Darwin', 'Franklin']\n"
     ]
    }
   ],
   "source": [
    "names = ['Curie', 'Darrr', 'Franklin']\n",
    "names[1] = 'Darwin'\n",
    "print(names)"
   ]
  },
  {
   "cell_type": "markdown",
   "id": "accredited-prediction",
   "metadata": {},
   "source": [
    "Use the `list` function to create a copy of another list; assignment simply refers to the same list in memory."
   ]
  },
  {
   "cell_type": "code",
   "execution_count": 36,
   "id": "developmental-dryer",
   "metadata": {},
   "outputs": [
    {
     "name": "stdout",
     "output_type": "stream",
     "text": [
      "[0, 2, 3]\n",
      "[1, 2, 3]\n"
     ]
    }
   ],
   "source": [
    "x = [1, 2, 3]\n",
    "x1 = x\n",
    "x[0] = 0\n",
    "print(x1)\n",
    "\n",
    "x = [1, 2, 3]\n",
    "x1 = list(x)\n",
    "x[0] = 0\n",
    "print(x1)"
   ]
  },
  {
   "cell_type": "markdown",
   "id": "regular-georgia",
   "metadata": {},
   "source": [
    "Nested lists."
   ]
  },
  {
   "cell_type": "code",
   "execution_count": 37,
   "id": "special-pointer",
   "metadata": {},
   "outputs": [],
   "source": [
    "x = [['pepper', 'zucchini', 'onion'],\n",
    "     ['cabbage', 'lettuce', 'garlic'],\n",
    "     ['apple', 'pear', 'banana']]"
   ]
  },
  {
   "cell_type": "markdown",
   "id": "ongoing-monster",
   "metadata": {},
   "source": [
    "First list."
   ]
  },
  {
   "cell_type": "code",
   "execution_count": 43,
   "id": "metropolitan-strength",
   "metadata": {},
   "outputs": [
    {
     "name": "stdout",
     "output_type": "stream",
     "text": [
      "['pepper', 'zucchini', 'onion']\n"
     ]
    }
   ],
   "source": [
    "print(x[0])"
   ]
  },
  {
   "cell_type": "markdown",
   "id": "molecular-courage",
   "metadata": {},
   "source": [
    "List of list containing first list."
   ]
  },
  {
   "cell_type": "code",
   "execution_count": 44,
   "id": "scenic-latter",
   "metadata": {},
   "outputs": [
    {
     "name": "stdout",
     "output_type": "stream",
     "text": [
      "[['pepper', 'zucchini', 'onion']]\n"
     ]
    }
   ],
   "source": [
    "print([x[0]])"
   ]
  },
  {
   "cell_type": "markdown",
   "id": "cooperative-costa",
   "metadata": {},
   "source": [
    "First item of first list."
   ]
  },
  {
   "cell_type": "code",
   "execution_count": 45,
   "id": "atmospheric-assurance",
   "metadata": {},
   "outputs": [
    {
     "name": "stdout",
     "output_type": "stream",
     "text": [
      "pepper\n"
     ]
    }
   ],
   "source": [
    "print(x[0][0])"
   ]
  },
  {
   "cell_type": "markdown",
   "id": "involved-lying",
   "metadata": {},
   "source": [
    "Python lists can contain different data types, i.e. heterogeneous lists."
   ]
  },
  {
   "cell_type": "code",
   "execution_count": 46,
   "id": "million-stick",
   "metadata": {},
   "outputs": [
    {
     "name": "stdout",
     "output_type": "stream",
     "text": [
      "[1, 2, 'Unknown']\n"
     ]
    }
   ],
   "source": [
    "ages = [1, 2, 'Unknown']\n",
    "print(ages)"
   ]
  },
  {
   "cell_type": "markdown",
   "id": "governing-access",
   "metadata": {},
   "source": [
    "Append to a list."
   ]
  },
  {
   "cell_type": "code",
   "execution_count": 63,
   "id": "accomplished-forum",
   "metadata": {},
   "outputs": [
    {
     "name": "stdout",
     "output_type": "stream",
     "text": [
      "[1, 3, 5, 7, 11]\n"
     ]
    }
   ],
   "source": [
    "odd_no = [1, 3, 5, 7]\n",
    "odd_no.append(11)\n",
    "print(odd_no)"
   ]
  },
  {
   "cell_type": "markdown",
   "id": "regulation-bearing",
   "metadata": {},
   "source": [
    "Pop (remove last element by default) a list."
   ]
  },
  {
   "cell_type": "code",
   "execution_count": 66,
   "id": "resistant-beverage",
   "metadata": {},
   "outputs": [
    {
     "name": "stdout",
     "output_type": "stream",
     "text": [
      "7\n",
      "[1, 3, 5]\n"
     ]
    }
   ],
   "source": [
    "odd_no = [1, 3, 5, 7]\n",
    "removed = odd_no.pop()\n",
    "print(removed)\n",
    "print(odd_no)"
   ]
  },
  {
   "cell_type": "markdown",
   "id": "exact-trace",
   "metadata": {},
   "source": [
    "Pop can be used with an index for removing a specific item."
   ]
  },
  {
   "cell_type": "code",
   "execution_count": 67,
   "id": "least-boating",
   "metadata": {},
   "outputs": [
    {
     "name": "stdout",
     "output_type": "stream",
     "text": [
      "3\n",
      "[1, 5, 7]\n"
     ]
    }
   ],
   "source": [
    "odd_no = [1, 3, 5, 7]\n",
    "removed = odd_no.pop(1)\n",
    "print(removed)\n",
    "print(odd_no)"
   ]
  },
  {
   "cell_type": "markdown",
   "id": "given-uncertainty",
   "metadata": {},
   "source": [
    "Reverse a list."
   ]
  },
  {
   "cell_type": "code",
   "execution_count": 71,
   "id": "competitive-greensboro",
   "metadata": {},
   "outputs": [
    {
     "name": "stdout",
     "output_type": "stream",
     "text": [
      "[7, 5, 3, 1]\n"
     ]
    }
   ],
   "source": [
    "odd_no = [1, 3, 5, 7]\n",
    "odd_no.reverse()\n",
    "print(odd_no)"
   ]
  },
  {
   "cell_type": "markdown",
   "id": "right-masters",
   "metadata": {},
   "source": [
    "List slicing is the same as slicing a `NumPy` array."
   ]
  },
  {
   "cell_type": "code",
   "execution_count": 72,
   "id": "conventional-softball",
   "metadata": {},
   "outputs": [
    {
     "name": "stdout",
     "output_type": "stream",
     "text": [
      "['X', 'Y']\n"
     ]
    }
   ],
   "source": [
    "chr = [1, 2, 3, 'X', 'Y']\n",
    "print(chr[3:])"
   ]
  },
  {
   "cell_type": "markdown",
   "id": "vanilla-participant",
   "metadata": {},
   "source": [
    "Slicing from the end."
   ]
  },
  {
   "cell_type": "code",
   "execution_count": 76,
   "id": "relevant-portfolio",
   "metadata": {},
   "outputs": [
    {
     "name": "stdout",
     "output_type": "stream",
     "text": [
      "2013\n",
      "[['chlorine', 'Cl'], ['bromine', 'Br'], ['iodine', 'I'], ['astatine', 'At']]\n"
     ]
    }
   ],
   "source": [
    "string_for_slicing = 'Observation date: 02-Feb-2013'\n",
    "print(string_for_slicing[-4:])\n",
    "\n",
    "list_for_slicing = [['fluorine', 'F'],\n",
    "                    ['chlorine', 'Cl'],\n",
    "                    ['bromine', 'Br'],\n",
    "                    ['iodine', 'I'],\n",
    "                    ['astatine', 'At']]\n",
    "\n",
    "print(list_for_slicing[-4:])"
   ]
  },
  {
   "cell_type": "markdown",
   "id": "level-combination",
   "metadata": {},
   "source": [
    "Non-continuous slices where the third argument is the step size."
   ]
  },
  {
   "cell_type": "code",
   "execution_count": 80,
   "id": "polished-prize",
   "metadata": {},
   "outputs": [
    {
     "name": "stdout",
     "output_type": "stream",
     "text": [
      "[0, 2, 4, 6, 8, 10]\n"
     ]
    }
   ],
   "source": [
    "x = list(range(0, 11))\n",
    "print(x[::2])"
   ]
  },
  {
   "cell_type": "markdown",
   "id": "caring-tractor",
   "metadata": {},
   "source": [
    "Concatenate using `+`."
   ]
  },
  {
   "cell_type": "code",
   "execution_count": 85,
   "id": "architectural-coordinator",
   "metadata": {},
   "outputs": [
    {
     "name": "stdout",
     "output_type": "stream",
     "text": [
      "[0, 1, 2, 3, 4, 5, 6, 7, 8, 9, 10, 11, 12]\n"
     ]
    }
   ],
   "source": [
    "x = list(range(0, 11))\n",
    "print(x + [11, 12])"
   ]
  },
  {
   "cell_type": "markdown",
   "id": "gentle-bread",
   "metadata": {},
   "source": [
    "Repeat using `*`."
   ]
  },
  {
   "cell_type": "code",
   "execution_count": 87,
   "id": "urban-sphere",
   "metadata": {},
   "outputs": [
    {
     "name": "stdout",
     "output_type": "stream",
     "text": [
      "[0, 1, 2, 3, 4, 5, 6, 7, 8, 9, 10, 0, 1, 2, 3, 4, 5, 6, 7, 8, 9, 10]\n",
      "[0, 1, 2, 3, 4, 5, 6, 7, 8, 9, 10, 0, 1, 2, 3, 4, 5, 6, 7, 8, 9, 10]\n"
     ]
    }
   ],
   "source": [
    "x = list(range(0, 11))\n",
    "print(x * 2)\n",
    "print(x + x)"
   ]
  },
  {
   "cell_type": "markdown",
   "id": "robust-spanish",
   "metadata": {},
   "source": [
    "* `[value1, value2, value3, ...]` creates a list.\n",
    "* Lists can contain any Python object, including lists (i.e., list of lists).\n",
    "* Lists are indexed and sliced with square brackets (e.g., list[0] and list[2:9]), in the same way as strings and arrays.\n",
    "* Lists are mutable (i.e., their values can be changed in place).\n",
    "* Strings are immutable (i.e., the characters in them cannot be changed)."
   ]
  }
 ],
 "metadata": {
  "kernelspec": {
   "display_name": "Python 3",
   "language": "python",
   "name": "python3"
  },
  "language_info": {
   "codemirror_mode": {
    "name": "ipython",
    "version": 3
   },
   "file_extension": ".py",
   "mimetype": "text/x-python",
   "name": "python",
   "nbconvert_exporter": "python",
   "pygments_lexer": "ipython3",
   "version": "3.8.8"
  }
 },
 "nbformat": 4,
 "nbformat_minor": 5
}
