{
 "cells": [
  {
   "cell_type": "markdown",
   "id": "coated-biography",
   "metadata": {},
   "source": [
    "# Programming with Python\n",
    "\n",
    "[Programming with Python course](https://swcarpentry.github.io/python-novice-inflammation/) by Software Carpentry."
   ]
  },
  {
   "cell_type": "markdown",
   "id": "promotional-cholesterol",
   "metadata": {},
   "source": [
    "## Python Fundamentals\n",
    "\n",
    "* Basic data types in Python include integers, strings, and floating-point numbers.\n",
    "* Use `variable = value` to assign a value to a variable in order to record it in memory.\n",
    "* Variables are created on demand whenever a value is assigned to them.\n",
    "* Use `print(something)` to display the value of `something`.\n",
    "* Built-in functions are always available to use."
   ]
  },
  {
   "cell_type": "markdown",
   "id": "north-savings",
   "metadata": {},
   "source": [
    "## Analysing Patient Data\n",
    "\n",
    "Load `NumPy` and use the function call `np.loadtxt()` to load `inflammation-01.csv`, which contains to arthritis patients' inflammation data where each row are data for each individual patient and the columns are their daily inflammation measurements."
   ]
  },
  {
   "cell_type": "code",
   "execution_count": 1,
   "id": "detected-sally",
   "metadata": {},
   "outputs": [
    {
     "name": "stdout",
     "output_type": "stream",
     "text": [
      "[[0. 0. 1. ... 3. 0. 0.]\n",
      " [0. 1. 2. ... 1. 0. 1.]\n",
      " [0. 1. 1. ... 2. 1. 1.]\n",
      " ...\n",
      " [0. 1. 1. ... 1. 1. 1.]\n",
      " [0. 0. 0. ... 0. 2. 0.]\n",
      " [0. 0. 1. ... 1. 1. 0.]]\n"
     ]
    }
   ],
   "source": [
    "import numpy as np\n",
    "data = np.loadtxt(fname = '../data/swc/inflammation-01.csv', delimiter=',')\n",
    "print(data)"
   ]
  },
  {
   "cell_type": "markdown",
   "id": "ethical-continuity",
   "metadata": {},
   "source": [
    "Data type using `type()`."
   ]
  },
  {
   "cell_type": "code",
   "execution_count": 2,
   "id": "occasional-saskatchewan",
   "metadata": {},
   "outputs": [
    {
     "name": "stdout",
     "output_type": "stream",
     "text": [
      "<class 'numpy.ndarray'>\n"
     ]
    }
   ],
   "source": [
    "print(type(data))"
   ]
  },
  {
   "cell_type": "markdown",
   "id": "musical-notification",
   "metadata": {},
   "source": [
    "The `type()` function will only tell you that a variable is a `NumPy` array but not the type of values stored in the array. A NumPy array contains elements of the same type; use `dtype` to find out the type of data stored inside an array."
   ]
  },
  {
   "cell_type": "code",
   "execution_count": 3,
   "id": "finite-security",
   "metadata": {},
   "outputs": [
    {
     "name": "stdout",
     "output_type": "stream",
     "text": [
      "float64\n"
     ]
    }
   ],
   "source": [
    "print(data.dtype)"
   ]
  },
  {
   "cell_type": "markdown",
   "id": "afraid-likelihood",
   "metadata": {},
   "source": [
    "`data.shape` is an attribute of `data` that describes dimensions of `data` (60 patients with data for 40 days)."
   ]
  },
  {
   "cell_type": "code",
   "execution_count": 4,
   "id": "neural-traveler",
   "metadata": {},
   "outputs": [
    {
     "name": "stdout",
     "output_type": "stream",
     "text": [
      "(60, 40)\n"
     ]
    }
   ],
   "source": [
    "print(data.shape)"
   ]
  },
  {
   "cell_type": "markdown",
   "id": "level-regulation",
   "metadata": {},
   "source": [
    "Get first value (cell in first row and first column) using an index with square brackets."
   ]
  },
  {
   "cell_type": "code",
   "execution_count": 5,
   "id": "noble-brave",
   "metadata": {},
   "outputs": [
    {
     "name": "stdout",
     "output_type": "stream",
     "text": [
      "0.0\n"
     ]
    }
   ],
   "source": [
    "print(data[0, 0])"
   ]
  },
  {
   "cell_type": "markdown",
   "id": "resident-rendering",
   "metadata": {},
   "source": [
    "An array slice from the first row to the fifth and first column to the fifth."
   ]
  },
  {
   "cell_type": "code",
   "execution_count": 6,
   "id": "suffering-intranet",
   "metadata": {},
   "outputs": [
    {
     "name": "stdout",
     "output_type": "stream",
     "text": [
      "[[0. 0. 1. 3. 1.]\n",
      " [0. 1. 2. 1. 2.]\n",
      " [0. 1. 1. 3. 3.]\n",
      " [0. 0. 2. 0. 4.]\n",
      " [0. 1. 1. 3. 3.]]\n"
     ]
    }
   ],
   "source": [
    "print(data[0:5, 0:5])"
   ]
  },
  {
   "cell_type": "markdown",
   "id": "temporal-experience",
   "metadata": {},
   "source": [
    "We do not need to include the lower or upper bounds when slicing; Python will do this find the lowest and highest possible values when we do not specify the limits."
   ]
  },
  {
   "cell_type": "code",
   "execution_count": 7,
   "id": "tamil-damages",
   "metadata": {},
   "outputs": [
    {
     "name": "stdout",
     "output_type": "stream",
     "text": [
      "[[4. 2. 3. 0. 0.]\n",
      " [5. 1. 1. 0. 1.]\n",
      " [3. 2. 2. 1. 1.]\n",
      " [4. 2. 3. 2. 1.]\n",
      " [4. 2. 0. 1. 1.]]\n"
     ]
    }
   ],
   "source": [
    "print(data[:5, 35:])"
   ]
  },
  {
   "cell_type": "markdown",
   "id": "sporting-saying",
   "metadata": {},
   "source": [
    "Calculating the mean of entire array."
   ]
  },
  {
   "cell_type": "code",
   "execution_count": 8,
   "id": "union-equation",
   "metadata": {},
   "outputs": [
    {
     "name": "stdout",
     "output_type": "stream",
     "text": [
      "6.14875\n"
     ]
    }
   ],
   "source": [
    "print(np.mean(data))"
   ]
  },
  {
   "cell_type": "markdown",
   "id": "transparent-participation",
   "metadata": {},
   "source": [
    "Multiple assignment of descriptive statistics. Note to get more information about a function, add `?` to the end of the function, e.g. `np.std?`; this is the same as using `help(np.std)`."
   ]
  },
  {
   "cell_type": "code",
   "execution_count": 9,
   "id": "linear-vienna",
   "metadata": {},
   "outputs": [
    {
     "name": "stdout",
     "output_type": "stream",
     "text": [
      "maximum inflammation: 20.0\n",
      "minimum inflammation: 0.0\n",
      "standard deviation: 4.613833197118566\n"
     ]
    }
   ],
   "source": [
    "maxval, minval, stdval = np.max(data), np.min(data), np.std(data)\n",
    "print('maximum inflammation:', maxval)\n",
    "print('minimum inflammation:', minval)\n",
    "print('standard deviation:', stdval)"
   ]
  },
  {
   "cell_type": "markdown",
   "id": "remarkable-radical",
   "metadata": {},
   "source": [
    "Calculate just for patient 1."
   ]
  },
  {
   "cell_type": "code",
   "execution_count": 10,
   "id": "distinguished-laptop",
   "metadata": {},
   "outputs": [
    {
     "name": "stdout",
     "output_type": "stream",
     "text": [
      "18.0\n"
     ]
    }
   ],
   "source": [
    "print(np.max(data[0, :]))"
   ]
  },
  {
   "cell_type": "markdown",
   "id": "greek-spain",
   "metadata": {},
   "source": [
    "Calculate for all patients by using `axis = 1`. Axis 1 refers to the columns and we are calculating _across_ the columns."
   ]
  },
  {
   "cell_type": "code",
   "execution_count": 11,
   "id": "false-wesley",
   "metadata": {},
   "outputs": [
    {
     "name": "stdout",
     "output_type": "stream",
     "text": [
      "(60,)\n",
      "[18. 18. 19. 17. 17. 18. 17. 20. 17. 18. 18. 18. 17. 16. 17. 18. 19. 19.\n",
      " 17. 19. 19. 16. 17. 15. 17. 17. 18. 17. 20. 17. 16. 19. 15. 15. 19. 17.\n",
      " 16. 17. 19. 16. 18. 19. 16. 19. 18. 16. 19. 15. 16. 18. 14. 20. 17. 15.\n",
      " 17. 16. 17. 19. 18. 18.]\n"
     ]
    }
   ],
   "source": [
    "print(np.max(data, axis = 1).shape)\n",
    "print(np.max(data, axis = 1))"
   ]
  },
  {
   "cell_type": "markdown",
   "id": "spoken-insulation",
   "metadata": {},
   "source": [
    "Calculate per day by using `axis = 0`. Axis 0 refers to the rows and we are calculating _across_ the rows."
   ]
  },
  {
   "cell_type": "code",
   "execution_count": 12,
   "id": "crazy-apparel",
   "metadata": {},
   "outputs": [
    {
     "name": "stdout",
     "output_type": "stream",
     "text": [
      "(40,)\n",
      "[ 0.  1.  2.  3.  4.  5.  6.  7.  8.  9. 10. 11. 12. 13. 14. 15. 16. 17.\n",
      " 18. 19. 20. 19. 18. 17. 16. 15. 14. 13. 12. 11. 10.  9.  8.  7.  6.  5.\n",
      "  4.  3.  2.  1.]\n"
     ]
    }
   ],
   "source": [
    "print(np.max(data, axis = 0).shape)\n",
    "print(np.max(data, axis = 0))"
   ]
  },
  {
   "cell_type": "markdown",
   "id": "ambient-wichita",
   "metadata": {},
   "source": [
    "Slicing strings."
   ]
  },
  {
   "cell_type": "code",
   "execution_count": 13,
   "id": "seven-spencer",
   "metadata": {},
   "outputs": [
    {
     "name": "stdout",
     "output_type": "stream",
     "text": [
      "oxy\n"
     ]
    }
   ],
   "source": [
    "element = 'oxygen'\n",
    "print(element[0:3])"
   ]
  },
  {
   "cell_type": "markdown",
   "id": "collaborative-leonard",
   "metadata": {},
   "source": [
    "Last index using negative value."
   ]
  },
  {
   "cell_type": "code",
   "execution_count": 14,
   "id": "given-parcel",
   "metadata": {},
   "outputs": [
    {
     "name": "stdout",
     "output_type": "stream",
     "text": [
      "e\n"
     ]
    }
   ],
   "source": [
    "print(element[-2])"
   ]
  },
  {
   "cell_type": "markdown",
   "id": "incredible-workplace",
   "metadata": {},
   "source": [
    "Stacking arrays using `hstack` and `vstack`, which are like `cbind` and `rbind` in R."
   ]
  },
  {
   "cell_type": "code",
   "execution_count": 15,
   "id": "final-pursuit",
   "metadata": {},
   "outputs": [
    {
     "name": "stdout",
     "output_type": "stream",
     "text": [
      "A =  \n",
      " [[1 2 3]\n",
      " [4 5 6]\n",
      " [7 8 9]] \n",
      "\n",
      "B =  \n",
      " [[1 2 3 1 2 3]\n",
      " [4 5 6 4 5 6]\n",
      " [7 8 9 7 8 9]] \n",
      "\n",
      "C =  \n",
      " [[1 2 3]\n",
      " [4 5 6]\n",
      " [7 8 9]\n",
      " [1 2 3]\n",
      " [4 5 6]\n",
      " [7 8 9]] \n",
      "\n"
     ]
    }
   ],
   "source": [
    "A = np.array(\n",
    "    [[1, 2, 3],\n",
    "     [4, 5, 6],\n",
    "     [7, 8, 9]]\n",
    ")\n",
    "print('A = ', \"\\n\", A, \"\\n\")\n",
    "\n",
    "B = np.hstack([A, A])\n",
    "print('B = ', \"\\n\", B, \"\\n\")\n",
    "\n",
    "C = np.vstack([A, A])\n",
    "print('C = ', \"\\n\", C, \"\\n\")"
   ]
  },
  {
   "cell_type": "markdown",
   "id": "offshore-homeless",
   "metadata": {},
   "source": [
    "The `np.diff()` function takes an array and returns the difference between two successive values (as in R)."
   ]
  },
  {
   "cell_type": "code",
   "execution_count": 16,
   "id": "informative-thunder",
   "metadata": {},
   "outputs": [
    {
     "name": "stdout",
     "output_type": "stream",
     "text": [
      "[0. 0. 2. 0. 4. 2. 2.]\n",
      "[ 0.  2. -2.  4. -2.  0.]\n"
     ]
    }
   ],
   "source": [
    "patient3_week1 = data[3, :7]\n",
    "print(patient3_week1)\n",
    "print(np.diff(patient3_week1))"
   ]
  },
  {
   "cell_type": "markdown",
   "id": "intellectual-heater",
   "metadata": {},
   "source": [
    "Calculating `np.diff` for all patients."
   ]
  },
  {
   "cell_type": "code",
   "execution_count": 17,
   "id": "suited-mandate",
   "metadata": {},
   "outputs": [
    {
     "data": {
      "text/plain": [
       "array([[ 0.,  1.,  2., ...,  1., -3.,  0.],\n",
       "       [ 1.,  1., -1., ...,  0., -1.,  1.],\n",
       "       [ 1.,  0.,  2., ...,  0., -1.,  0.],\n",
       "       ...,\n",
       "       [ 1.,  0.,  0., ..., -1.,  0.,  0.],\n",
       "       [ 0.,  0.,  1., ..., -2.,  2., -2.],\n",
       "       [ 0.,  1., -1., ..., -2.,  0., -1.]])"
      ]
     },
     "execution_count": 17,
     "metadata": {},
     "output_type": "execute_result"
    }
   ],
   "source": [
    "np.diff(data, axis = 1)"
   ]
  },
  {
   "cell_type": "markdown",
   "id": "comparable-sample",
   "metadata": {},
   "source": [
    "Largest change in inflammation for each patient."
   ]
  },
  {
   "cell_type": "code",
   "execution_count": 18,
   "id": "veterinary-airport",
   "metadata": {},
   "outputs": [
    {
     "data": {
      "text/plain": [
       "array([ 7., 12., 11., 10., 11., 13., 10.,  8., 10., 10.,  7.,  7., 13.,\n",
       "        7., 10., 10.,  8., 10.,  9., 10., 13.,  7., 12.,  9., 12., 11.,\n",
       "       10., 10.,  7., 10., 11., 10.,  8., 11., 12., 10.,  9., 10., 13.,\n",
       "       10.,  7.,  7., 10., 13., 12.,  8.,  8., 10., 10.,  9.,  8., 13.,\n",
       "       10.,  7., 10.,  8., 12., 10.,  7., 12.])"
      ]
     },
     "execution_count": 18,
     "metadata": {},
     "output_type": "execute_result"
    }
   ],
   "source": [
    "np.max(np.diff(data, axis = 1), axis = 1)"
   ]
  },
  {
   "cell_type": "markdown",
   "id": "yellow-harvey",
   "metadata": {},
   "source": [
    "* Import a library into a program using `import libraryname`.\n",
    "* Use the `numpy` library to work with arrays in Python.\n",
    "* The expression `array.shape` gives the shape of an array.\n",
    "* Use `array[x, y]` to select a single element from a 2D array.\n",
    "* Array indices start at 0, not 1.\n",
    "* Use `low:high` to specify a slice that includes the indices from low to high-1.\n",
    "* Use `#` to add comments to programs.\n",
    "* Use `numpy.mean(array)`, `numpy.max(array)`, and `numpy.min(array)` to calculate simple statistics.\n",
    "* Use `numpy.mean(array, axis=0)` or `numpy.mean(array, axis=1)` to calculate statistics across the specified axis."
   ]
  },
  {
   "cell_type": "markdown",
   "id": "laden-chick",
   "metadata": {},
   "source": [
    "## Visualising Tabular Data\n",
    "\n",
    "Python's `matplotlib` is the _de facto_ plotting library. Here we will use the `pyplot` module from `matplotlib` and use two of its functions to create and display a heat map. Each row of the heat map corresponds to a single patient and each column a day. Blue pixels represent low values and yellow pixels represent high values. The heat map shows that the general number of inflammation flare-ups for the patients rises and falls over a 40-day period."
   ]
  },
  {
   "cell_type": "code",
   "execution_count": 19,
   "id": "junior-standing",
   "metadata": {},
   "outputs": [
    {
     "data": {
      "image/png": "[encoded data removed]",
      "text/plain": [
       "<Figure size 432x288 with 1 Axes>"
      ]
     },
     "metadata": {
      "needs_background": "light"
     },
     "output_type": "display_data"
    }
   ],
   "source": [
    "from matplotlib import pyplot as plt\n",
    "image = plt.imshow(data)\n",
    "plt.show()"
   ]
  },
  {
   "cell_type": "markdown",
   "id": "developing-amateur",
   "metadata": {},
   "source": [
    "Average inflammation per day across all patients."
   ]
  },
  {
   "cell_type": "code",
   "execution_count": 20,
   "id": "fifth-hearing",
   "metadata": {},
   "outputs": [
    {
     "data": {
      "image/png": "[encoded data removed]",
      "text/plain": [
       "<Figure size 432x288 with 1 Axes>"
      ]
     },
     "metadata": {
      "needs_background": "light"
     },
     "output_type": "display_data"
    }
   ],
   "source": [
    "ave_inflammation = np.mean(data, axis = 0)\n",
    "ave_plot = plt.plot(ave_inflammation)\n",
    "plt.show()"
   ]
  },
  {
   "cell_type": "markdown",
   "id": "arbitrary-family",
   "metadata": {},
   "source": [
    "Max inflammation per day across all patients."
   ]
  },
  {
   "cell_type": "code",
   "execution_count": 21,
   "id": "unique-click",
   "metadata": {},
   "outputs": [
    {
     "data": {
      "image/png": "[encoded data removed]",
      "text/plain": [
       "<Figure size 432x288 with 1 Axes>"
      ]
     },
     "metadata": {
      "needs_background": "light"
     },
     "output_type": "display_data"
    }
   ],
   "source": [
    "max_plot = plt.plot(np.max(data, axis = 0))\n",
    "plt.show()"
   ]
  },
  {
   "cell_type": "markdown",
   "id": "simple-building",
   "metadata": {},
   "source": [
    "Minimum inflammation per day across all patients."
   ]
  },
  {
   "cell_type": "code",
   "execution_count": 22,
   "id": "minor-filing",
   "metadata": {},
   "outputs": [
    {
     "data": {
      "image/png": "[encoded data removed]",
      "text/plain": [
       "<Figure size 432x288 with 1 Axes>"
      ]
     },
     "metadata": {
      "needs_background": "light"
     },
     "output_type": "display_data"
    }
   ],
   "source": [
    "min_plot = plt.plot(np.min(data, axis = 0))\n",
    "plt.show()"
   ]
  },
  {
   "cell_type": "markdown",
   "id": "nuclear-warehouse",
   "metadata": {},
   "source": [
    "Group plot into a single figure using subplots. The function `plt.figure()` creates a space for the plots and the parameter `figsize` indicates the size of the space. Each subplot is added by using `add_subplot`, which takes three parameters (number of rows, number of columns, and plot index). Each subplot is stored in a different variable (`axes1`, `axes2`, and `axes3`)."
   ]
  },
  {
   "cell_type": "code",
   "execution_count": 23,
   "id": "handmade-formation",
   "metadata": {},
   "outputs": [
    {
     "data": {
      "image/png": "[encoded data removed]",
      "text/plain": [
       "<Figure size 720x216 with 3 Axes>"
      ]
     },
     "metadata": {
      "needs_background": "light"
     },
     "output_type": "display_data"
    }
   ],
   "source": [
    "fig = plt.figure(figsize=(10.0, 3.0))\n",
    "\n",
    "axes1 = fig.add_subplot(1, 3, 1)\n",
    "axes2 = fig.add_subplot(1, 3, 2)\n",
    "axes3 = fig.add_subplot(1, 3, 3)\n",
    "\n",
    "axes1.set_ylabel('average')\n",
    "axes1.plot(np.mean(data, axis=0))\n",
    "\n",
    "axes2.set_ylabel('max')\n",
    "axes2.plot(np.max(data, axis=0))\n",
    "\n",
    "axes3.set_ylabel('min')\n",
    "axes3.plot(np.min(data, axis=0))\n",
    "\n",
    "fig.tight_layout()\n",
    "\n",
    "# to save as PNG\n",
    "# plt.savefig('inflammation.png')\n",
    "\n",
    "plt.show()"
   ]
  },
  {
   "cell_type": "markdown",
   "id": "apparent-premises",
   "metadata": {},
   "source": [
    "## Storing Multiple Values in Lists\n",
    "\n",
    "Lists are a way to store multiple values together and are a built-in data structure in Python. Lists are created by using square brackets."
   ]
  },
  {
   "cell_type": "code",
   "execution_count": 24,
   "id": "unknown-observer",
   "metadata": {},
   "outputs": [
    {
     "name": "stdout",
     "output_type": "stream",
     "text": [
      "[1, 3, 5, 7]\n"
     ]
    }
   ],
   "source": [
    "odd_no = [1, 3, 5, 7]\n",
    "print(odd_no)"
   ]
  },
  {
   "cell_type": "markdown",
   "id": "initial-space",
   "metadata": {},
   "source": [
    "Indexing."
   ]
  },
  {
   "cell_type": "code",
   "execution_count": 25,
   "id": "surprising-japanese",
   "metadata": {},
   "outputs": [
    {
     "name": "stdout",
     "output_type": "stream",
     "text": [
      "1\n",
      "7\n"
     ]
    }
   ],
   "source": [
    "print(odd_no[0])\n",
    "print(odd_no[-1])"
   ]
  },
  {
   "cell_type": "markdown",
   "id": "combined-beijing",
   "metadata": {},
   "source": [
    "Lists are mutable."
   ]
  },
  {
   "cell_type": "code",
   "execution_count": 26,
   "id": "bacterial-method",
   "metadata": {},
   "outputs": [
    {
     "name": "stdout",
     "output_type": "stream",
     "text": [
      "['Curie', 'Darwin', 'Franklin']\n"
     ]
    }
   ],
   "source": [
    "names = ['Curie', 'Darrr', 'Franklin']\n",
    "names[1] = 'Darwin'\n",
    "print(names)"
   ]
  },
  {
   "cell_type": "markdown",
   "id": "qualified-advice",
   "metadata": {},
   "source": [
    "Use the `list` function to create a copy of another list; assignment simply refers to the same list in memory."
   ]
  },
  {
   "cell_type": "code",
   "execution_count": 27,
   "id": "stunning-apartment",
   "metadata": {},
   "outputs": [
    {
     "name": "stdout",
     "output_type": "stream",
     "text": [
      "[0, 2, 3]\n",
      "[1, 2, 3]\n"
     ]
    }
   ],
   "source": [
    "x = [1, 2, 3]\n",
    "x1 = x\n",
    "x[0] = 0\n",
    "print(x1)\n",
    "\n",
    "x = [1, 2, 3]\n",
    "x1 = list(x)\n",
    "x[0] = 0\n",
    "print(x1)"
   ]
  },
  {
   "cell_type": "markdown",
   "id": "stretch-spirit",
   "metadata": {},
   "source": [
    "Nested lists."
   ]
  },
  {
   "cell_type": "code",
   "execution_count": 28,
   "id": "superior-jenny",
   "metadata": {},
   "outputs": [],
   "source": [
    "x = [['pepper', 'zucchini', 'onion'],\n",
    "     ['cabbage', 'lettuce', 'garlic'],\n",
    "     ['apple', 'pear', 'banana']]"
   ]
  },
  {
   "cell_type": "markdown",
   "id": "registered-responsibility",
   "metadata": {},
   "source": [
    "First list."
   ]
  },
  {
   "cell_type": "code",
   "execution_count": 29,
   "id": "biblical-trash",
   "metadata": {},
   "outputs": [
    {
     "name": "stdout",
     "output_type": "stream",
     "text": [
      "['pepper', 'zucchini', 'onion']\n"
     ]
    }
   ],
   "source": [
    "print(x[0])"
   ]
  },
  {
   "cell_type": "markdown",
   "id": "acceptable-california",
   "metadata": {},
   "source": [
    "List of list containing first list."
   ]
  },
  {
   "cell_type": "code",
   "execution_count": 30,
   "id": "elementary-blair",
   "metadata": {},
   "outputs": [
    {
     "name": "stdout",
     "output_type": "stream",
     "text": [
      "[['pepper', 'zucchini', 'onion']]\n"
     ]
    }
   ],
   "source": [
    "print([x[0]])"
   ]
  },
  {
   "cell_type": "markdown",
   "id": "standard-logging",
   "metadata": {},
   "source": [
    "First item of first list."
   ]
  },
  {
   "cell_type": "code",
   "execution_count": 31,
   "id": "monthly-gothic",
   "metadata": {},
   "outputs": [
    {
     "name": "stdout",
     "output_type": "stream",
     "text": [
      "pepper\n"
     ]
    }
   ],
   "source": [
    "print(x[0][0])"
   ]
  },
  {
   "cell_type": "markdown",
   "id": "breathing-governor",
   "metadata": {},
   "source": [
    "Python lists can contain different data types, i.e. heterogeneous lists."
   ]
  },
  {
   "cell_type": "code",
   "execution_count": 32,
   "id": "competent-shoot",
   "metadata": {},
   "outputs": [
    {
     "name": "stdout",
     "output_type": "stream",
     "text": [
      "[1, 2, 'Unknown']\n"
     ]
    }
   ],
   "source": [
    "ages = [1, 2, 'Unknown']\n",
    "print(ages)"
   ]
  },
  {
   "cell_type": "markdown",
   "id": "possible-clark",
   "metadata": {},
   "source": [
    "Append to a list."
   ]
  },
  {
   "cell_type": "code",
   "execution_count": 33,
   "id": "rough-brass",
   "metadata": {},
   "outputs": [
    {
     "name": "stdout",
     "output_type": "stream",
     "text": [
      "[1, 3, 5, 7, 11]\n"
     ]
    }
   ],
   "source": [
    "odd_no = [1, 3, 5, 7]\n",
    "odd_no.append(11)\n",
    "print(odd_no)"
   ]
  },
  {
   "cell_type": "markdown",
   "id": "accurate-rubber",
   "metadata": {},
   "source": [
    "Pop (remove last element by default) a list."
   ]
  },
  {
   "cell_type": "code",
   "execution_count": 34,
   "id": "vanilla-enforcement",
   "metadata": {},
   "outputs": [
    {
     "name": "stdout",
     "output_type": "stream",
     "text": [
      "7\n",
      "[1, 3, 5]\n"
     ]
    }
   ],
   "source": [
    "odd_no = [1, 3, 5, 7]\n",
    "removed = odd_no.pop()\n",
    "print(removed)\n",
    "print(odd_no)"
   ]
  },
  {
   "cell_type": "markdown",
   "id": "latest-witness",
   "metadata": {},
   "source": [
    "Pop can be used with an index for removing a specific item."
   ]
  },
  {
   "cell_type": "code",
   "execution_count": 35,
   "id": "another-thumb",
   "metadata": {},
   "outputs": [
    {
     "name": "stdout",
     "output_type": "stream",
     "text": [
      "3\n",
      "[1, 5, 7]\n"
     ]
    }
   ],
   "source": [
    "odd_no = [1, 3, 5, 7]\n",
    "removed = odd_no.pop(1)\n",
    "print(removed)\n",
    "print(odd_no)"
   ]
  },
  {
   "cell_type": "markdown",
   "id": "postal-mechanism",
   "metadata": {},
   "source": [
    "Reverse a list."
   ]
  },
  {
   "cell_type": "code",
   "execution_count": 36,
   "id": "informed-regard",
   "metadata": {},
   "outputs": [
    {
     "name": "stdout",
     "output_type": "stream",
     "text": [
      "[7, 5, 3, 1]\n"
     ]
    }
   ],
   "source": [
    "odd_no = [1, 3, 5, 7]\n",
    "odd_no.reverse()\n",
    "print(odd_no)"
   ]
  },
  {
   "cell_type": "markdown",
   "id": "liberal-devil",
   "metadata": {},
   "source": [
    "List slicing is the same as slicing a `NumPy` array."
   ]
  },
  {
   "cell_type": "code",
   "execution_count": 37,
   "id": "spread-ribbon",
   "metadata": {},
   "outputs": [
    {
     "name": "stdout",
     "output_type": "stream",
     "text": [
      "['X', 'Y']\n"
     ]
    }
   ],
   "source": [
    "chr = [1, 2, 3, 'X', 'Y']\n",
    "print(chr[3:])"
   ]
  },
  {
   "cell_type": "markdown",
   "id": "connected-mixer",
   "metadata": {},
   "source": [
    "Slicing from the end."
   ]
  },
  {
   "cell_type": "code",
   "execution_count": 38,
   "id": "cellular-individual",
   "metadata": {},
   "outputs": [
    {
     "name": "stdout",
     "output_type": "stream",
     "text": [
      "2013\n",
      "[['chlorine', 'Cl'], ['bromine', 'Br'], ['iodine', 'I'], ['astatine', 'At']]\n"
     ]
    }
   ],
   "source": [
    "string_for_slicing = 'Observation date: 02-Feb-2013'\n",
    "print(string_for_slicing[-4:])\n",
    "\n",
    "list_for_slicing = [['fluorine', 'F'],\n",
    "                    ['chlorine', 'Cl'],\n",
    "                    ['bromine', 'Br'],\n",
    "                    ['iodine', 'I'],\n",
    "                    ['astatine', 'At']]\n",
    "\n",
    "print(list_for_slicing[-4:])"
   ]
  },
  {
   "cell_type": "markdown",
   "id": "european-rebel",
   "metadata": {},
   "source": [
    "Non-continuous slices where the third argument is the step size."
   ]
  },
  {
   "cell_type": "code",
   "execution_count": 39,
   "id": "smoking-phone",
   "metadata": {},
   "outputs": [
    {
     "name": "stdout",
     "output_type": "stream",
     "text": [
      "[0, 2, 4, 6, 8, 10]\n"
     ]
    }
   ],
   "source": [
    "x = list(range(0, 11))\n",
    "print(x[::2])"
   ]
  },
  {
   "cell_type": "markdown",
   "id": "threatened-indianapolis",
   "metadata": {},
   "source": [
    "Concatenate using `+`."
   ]
  },
  {
   "cell_type": "code",
   "execution_count": 40,
   "id": "listed-newsletter",
   "metadata": {},
   "outputs": [
    {
     "name": "stdout",
     "output_type": "stream",
     "text": [
      "[0, 1, 2, 3, 4, 5, 6, 7, 8, 9, 10, 11, 12]\n"
     ]
    }
   ],
   "source": [
    "x = list(range(0, 11))\n",
    "print(x + [11, 12])"
   ]
  },
  {
   "cell_type": "markdown",
   "id": "sensitive-marshall",
   "metadata": {},
   "source": [
    "Repeat using `*`."
   ]
  },
  {
   "cell_type": "code",
   "execution_count": 41,
   "id": "touched-resort",
   "metadata": {},
   "outputs": [
    {
     "name": "stdout",
     "output_type": "stream",
     "text": [
      "[0, 1, 2, 3, 4, 5, 6, 7, 8, 9, 10, 0, 1, 2, 3, 4, 5, 6, 7, 8, 9, 10]\n",
      "[0, 1, 2, 3, 4, 5, 6, 7, 8, 9, 10, 0, 1, 2, 3, 4, 5, 6, 7, 8, 9, 10]\n"
     ]
    }
   ],
   "source": [
    "x = list(range(0, 11))\n",
    "print(x * 2)\n",
    "print(x + x)"
   ]
  },
  {
   "cell_type": "markdown",
   "id": "creative-fleece",
   "metadata": {},
   "source": [
    "* `[value1, value2, value3, ...]` creates a list.\n",
    "* Lists can contain any Python object, including lists (i.e., list of lists).\n",
    "* Lists are indexed and sliced with square brackets (e.g., list[0] and list[2:9]), in the same way as strings and arrays.\n",
    "* Lists are mutable (i.e., their values can be changed in place).\n",
    "* Strings are immutable (i.e., the characters in them cannot be changed)."
   ]
  },
  {
   "cell_type": "markdown",
   "id": "spectacular-pressing",
   "metadata": {},
   "source": [
    "## Repeating Actions with Loops"
   ]
  },
  {
   "cell_type": "markdown",
   "id": "obvious-murder",
   "metadata": {},
   "source": [
    "A for loop."
   ]
  },
  {
   "cell_type": "code",
   "execution_count": 42,
   "id": "vocal-academy",
   "metadata": {},
   "outputs": [
    {
     "name": "stdout",
     "output_type": "stream",
     "text": [
      "1\n",
      "3\n",
      "5\n",
      "7\n",
      "9\n"
     ]
    }
   ],
   "source": [
    "x = list(range(1, 11))\n",
    "odd_no = x[::2]\n",
    "for i in odd_no:\n",
    "    print(i)"
   ]
  },
  {
   "cell_type": "markdown",
   "id": "devoted-nature",
   "metadata": {},
   "source": [
    "Use `len` to find the length of a list."
   ]
  },
  {
   "cell_type": "code",
   "execution_count": 43,
   "id": "smart-narrow",
   "metadata": {},
   "outputs": [
    {
     "name": "stdout",
     "output_type": "stream",
     "text": [
      "[1, 2, 3, 4, 5, 6, 7, 8, 9, 10]\n",
      "10\n"
     ]
    }
   ],
   "source": [
    "print(x)\n",
    "print(len(x))"
   ]
  },
  {
   "cell_type": "markdown",
   "id": "organizational-liability",
   "metadata": {},
   "source": [
    "The `range` function can accept 1, 2 (), or 3 parameters."
   ]
  },
  {
   "cell_type": "code",
   "execution_count": 44,
   "id": "sitting-sympathy",
   "metadata": {},
   "outputs": [
    {
     "name": "stdout",
     "output_type": "stream",
     "text": [
      "[0, 1, 2, 3, 4, 5, 6, 7, 8, 9, 10]\n",
      "[1, 2, 3, 4, 5, 6, 7, 8, 9, 10]\n",
      "[1, 3, 5, 7, 9]\n"
     ]
    }
   ],
   "source": [
    "print(list(range(11)))\n",
    "print(list(range(1, 11)))\n",
    "print(list(range(1, 11, 2)))"
   ]
  },
  {
   "cell_type": "markdown",
   "id": "awful-element",
   "metadata": {},
   "source": [
    "Using a for loop with a string."
   ]
  },
  {
   "cell_type": "code",
   "execution_count": 45,
   "id": "unnecessary-dinner",
   "metadata": {},
   "outputs": [
    {
     "name": "stdout",
     "output_type": "stream",
     "text": [
      "o\n",
      "x\n",
      "y\n",
      "g\n",
      "e\n",
      "n\n"
     ]
    }
   ],
   "source": [
    "word = 'oxygen'\n",
    "for char in word:\n",
    "    print(char)"
   ]
  },
  {
   "cell_type": "markdown",
   "id": "double-comparison",
   "metadata": {},
   "source": [
    "The built-in function `enumerate` takes a sequence of numbers and generates a new sequence of the same length. The example below loops through a list and assigns the index to `i` and the value to `y`."
   ]
  },
  {
   "cell_type": "code",
   "execution_count": 46,
   "id": "brown-drilling",
   "metadata": {},
   "outputs": [
    {
     "name": "stdout",
     "output_type": "stream",
     "text": [
      "Index = 0 Value = a\n",
      "Index = 1 Value = b\n",
      "Index = 2 Value = c\n",
      "Index = 3 Value = d\n",
      "Index = 4 Value = e\n",
      "Index = 5 Value = f\n",
      "Index = 6 Value = g\n",
      "Index = 7 Value = h\n",
      "Index = 8 Value = i\n",
      "Index = 9 Value = j\n",
      "Index = 10 Value = k\n",
      "Index = 11 Value = l\n"
     ]
    }
   ],
   "source": [
    "letters = 'abcdefghijkl'\n",
    "for i, y in enumerate(letters):\n",
    "    print('Index =', i, 'Value =', y)"
   ]
  },
  {
   "cell_type": "markdown",
   "id": "reduced-catholic",
   "metadata": {},
   "source": [
    "## Analysing Data from Multiple Files\n",
    "\n",
    "The `glob` library contains a function also called `glob` that finds files and directories that match a pattern, where patterns are provided as strings."
   ]
  },
  {
   "cell_type": "code",
   "execution_count": 47,
   "id": "tamil-cambridge",
   "metadata": {},
   "outputs": [
    {
     "name": "stdout",
     "output_type": "stream",
     "text": [
      "['../data/swc/inflammation-01.csv', '../data/swc/inflammation-02.csv', '../data/swc/inflammation-03.csv', '../data/swc/inflammation-04.csv', '../data/swc/inflammation-05.csv', '../data/swc/inflammation-06.csv', '../data/swc/inflammation-07.csv', '../data/swc/inflammation-08.csv', '../data/swc/inflammation-09.csv', '../data/swc/inflammation-10.csv', '../data/swc/inflammation-11.csv', '../data/swc/inflammation-12.csv']\n"
     ]
    }
   ],
   "source": [
    "import glob\n",
    "print(glob.glob(\"../data/swc/inflammation*.csv\"))"
   ]
  },
  {
   "cell_type": "markdown",
   "id": "abroad-wealth",
   "metadata": {},
   "source": [
    "Iterate and plot files."
   ]
  },
  {
   "cell_type": "code",
   "execution_count": 48,
   "id": "extended-restoration",
   "metadata": {},
   "outputs": [
    {
     "name": "stdout",
     "output_type": "stream",
     "text": [
      "../data/swc/inflammation-01.csv\n"
     ]
    },
    {
     "data": {
      "image/png": "[encoded data removed]",
      "text/plain": [
       "<Figure size 720x216 with 3 Axes>"
      ]
     },
     "metadata": {
      "needs_background": "light"
     },
     "output_type": "display_data"
    },
    {
     "name": "stdout",
     "output_type": "stream",
     "text": [
      "../data/swc/inflammation-02.csv\n"
     ]
    },
    {
     "data": {
      "image/png": "[encoded data removed]",
      "text/plain": [
       "<Figure size 720x216 with 3 Axes>"
      ]
     },
     "metadata": {
      "needs_background": "light"
     },
     "output_type": "display_data"
    },
    {
     "name": "stdout",
     "output_type": "stream",
     "text": [
      "../data/swc/inflammation-03.csv\n"
     ]
    },
    {
     "data": {
      "image/png": "[encoded data removed]",
      "text/plain": [
       "<Figure size 720x216 with 3 Axes>"
      ]
     },
     "metadata": {
      "needs_background": "light"
     },
     "output_type": "display_data"
    }
   ],
   "source": [
    "filenames = sorted(glob.glob(\"../data/swc/inflammation*.csv\"))\n",
    "filenames = filenames[0:3]\n",
    "for filename in filenames:\n",
    "    print(filename)\n",
    "\n",
    "    data = np.loadtxt(fname=filename, delimiter=',')\n",
    "\n",
    "    fig = plt.figure(figsize=(10.0, 3.0))\n",
    "\n",
    "    axes1 = fig.add_subplot(1, 3, 1)\n",
    "    axes2 = fig.add_subplot(1, 3, 2)\n",
    "    axes3 = fig.add_subplot(1, 3, 3)\n",
    "\n",
    "    axes1.set_ylabel('average')\n",
    "    axes1.plot(np.mean(data, axis=0))\n",
    "\n",
    "    axes2.set_ylabel('max')\n",
    "    axes2.plot(np.max(data, axis=0))\n",
    "\n",
    "    axes3.set_ylabel('min')\n",
    "    axes3.plot(np.min(data, axis=0))\n",
    "\n",
    "    fig.tight_layout()\n",
    "    plt.show()"
   ]
  },
  {
   "cell_type": "markdown",
   "id": "certified-playlist",
   "metadata": {},
   "source": [
    "## Making Choices"
   ]
  },
  {
   "cell_type": "markdown",
   "id": "intimate-surveillance",
   "metadata": {},
   "source": [
    "`if`, `elif`, and `else` statement."
   ]
  },
  {
   "cell_type": "code",
   "execution_count": 49,
   "id": "roman-jason",
   "metadata": {},
   "outputs": [
    {
     "name": "stdout",
     "output_type": "stream",
     "text": [
      "37 is less than 100\n",
      "done\n"
     ]
    }
   ],
   "source": [
    "num = 37\n",
    "if num > 100:\n",
    "    print(num, 'is greater than 100')\n",
    "elif num == 50:\n",
    "    print(num, 'is equal to 50')\n",
    "else:\n",
    "    print(num, 'is less than 100')\n",
    "print('done')"
   ]
  },
  {
   "cell_type": "markdown",
   "id": "orange-winning",
   "metadata": {},
   "source": [
    "Use `and` and `or` for multiple tests."
   ]
  },
  {
   "cell_type": "code",
   "execution_count": 50,
   "id": "composite-liberal",
   "metadata": {},
   "outputs": [
    {
     "name": "stdout",
     "output_type": "stream",
     "text": [
      "13 is between 10 and 15\n",
      "6 is between 5 and 10\n"
     ]
    }
   ],
   "source": [
    "num = 13\n",
    "if (num >= 10) and (num <= 15):\n",
    "    print(num, 'is between 10 and 15')\n",
    "else:\n",
    "    print(num, 'is not between 10 and 15')\n",
    "\n",
    "num = 6\n",
    "if (num < 5) or (num > 10):\n",
    "    print(num, 'is either less than 5 or greater than 10')\n",
    "else:\n",
    "    print(num, 'is between 5 and 10')"
   ]
  },
  {
   "cell_type": "markdown",
   "id": "everyday-consolidation",
   "metadata": {},
   "source": [
    "`True` and `False` are special names in Python called `booleans` and represent truth values."
   ]
  },
  {
   "cell_type": "code",
   "execution_count": 51,
   "id": "level-english",
   "metadata": {},
   "outputs": [
    {
     "name": "stdout",
     "output_type": "stream",
     "text": [
      "<class 'bool'>\n"
     ]
    }
   ],
   "source": [
    "print(type(True))"
   ]
  },
  {
   "cell_type": "markdown",
   "id": "responsible-wright",
   "metadata": {},
   "source": [
    "Truth tests."
   ]
  },
  {
   "cell_type": "code",
   "execution_count": 52,
   "id": "intended-hayes",
   "metadata": {},
   "outputs": [
    {
     "name": "stdout",
     "output_type": "stream",
     "text": [
      "word is true\n",
      "non-empty list is true\n",
      "one is true\n"
     ]
    }
   ],
   "source": [
    "if '':\n",
    "    print('empty string is true')\n",
    "if 'word':\n",
    "    print('word is true')\n",
    "if []:\n",
    "    print('empty list is true')\n",
    "if [1, 2, 3]:\n",
    "    print('non-empty list is true')\n",
    "if 0:\n",
    "    print('zero is true')\n",
    "if 1:\n",
    "    print('one is true')"
   ]
  },
  {
   "cell_type": "markdown",
   "id": "relevant-teacher",
   "metadata": {},
   "source": [
    "Use `not` to check whether an evaluation is \"not true\"."
   ]
  },
  {
   "cell_type": "code",
   "execution_count": 53,
   "id": "assigned-scene",
   "metadata": {},
   "outputs": [
    {
     "name": "stdout",
     "output_type": "stream",
     "text": [
      "empty string is not true\n",
      "not not True is true\n"
     ]
    }
   ],
   "source": [
    "if not '':\n",
    "    print('empty string is not true')\n",
    "if not 'word':\n",
    "    print('word is not true')\n",
    "if not not True:\n",
    "    print('not not True is true')"
   ]
  },
  {
   "cell_type": "markdown",
   "id": "pressed-invitation",
   "metadata": {},
   "source": [
    "In place operators."
   ]
  },
  {
   "cell_type": "code",
   "execution_count": 54,
   "id": "reduced-equilibrium",
   "metadata": {},
   "outputs": [
    {
     "name": "stdout",
     "output_type": "stream",
     "text": [
      "6\n"
     ]
    }
   ],
   "source": [
    "x = 1\n",
    "x += 1\n",
    "x *= 3\n",
    "print(x)"
   ]
  },
  {
   "cell_type": "markdown",
   "id": "failing-pepper",
   "metadata": {},
   "source": [
    "* Use `if condition` to start a conditional statement, `elif condition` to provide additional tests, and `else` to provide a default.\n",
    "* The bodies of the branches of conditional statements must be indented.\n",
    "* Use `==` to test for equality.\n",
    "* `X and Y` is only true if both `X` and `Y` are true.\n",
    "* `X or Y` is true if either `X` or `Y`, or both, are true.\n",
    "* Zero, the empty string, and the empty list are considered false; all other numbers, strings, and lists are considered true.\n",
    "* `True` and `False` represent truth values."
   ]
  },
  {
   "cell_type": "markdown",
   "id": "silver-senate",
   "metadata": {},
   "source": [
    "## Creating Functions\n",
    "\n",
    "Python functions open with the keyword `def` followed by the name of the function, parenthesised lists of parameter names, and ends with a colon. The body of the function, the statements that are executed when the function is called, is indented below the definition line. The body concludes with the `return` keyword followed with the return value."
   ]
  },
  {
   "cell_type": "code",
   "execution_count": 55,
   "id": "turned-wichita",
   "metadata": {},
   "outputs": [
    {
     "name": "stdout",
     "output_type": "stream",
     "text": [
      "37.77777777777778\n"
     ]
    }
   ],
   "source": [
    "def fahr_to_celsius(temp):\n",
    "    return((temp - 32) * (5/9))\n",
    "\n",
    "print(fahr_to_celsius(100))"
   ]
  },
  {
   "cell_type": "markdown",
   "id": "cellular-projector",
   "metadata": {},
   "source": [
    "Note that a `return` keyword is necessary unlike other languages that will automatically return the last result. A value of the class `NoneType` is returned.\n",
    "\n",
    "In Python, functions are not required to include a `return` statement and can be used for the sole purpose of grouping together pieces of code that conceptually fit together."
   ]
  },
  {
   "cell_type": "code",
   "execution_count": 56,
   "id": "proved-syndrome",
   "metadata": {},
   "outputs": [
    {
     "name": "stdout",
     "output_type": "stream",
     "text": [
      "<class 'NoneType'>\n",
      "None\n"
     ]
    }
   ],
   "source": [
    "def fahr_to_celsius_no_return(temp):\n",
    "    (temp - 32) * (5/9)\n",
    "    \n",
    "no_return = fahr_to_celsius_no_return(100)\n",
    "print(type(no_return))\n",
    "print(no_return)"
   ]
  },
  {
   "cell_type": "markdown",
   "id": "published-spectacular",
   "metadata": {},
   "source": [
    "To _compose_ a function means to apply one function to the result of another."
   ]
  },
  {
   "cell_type": "code",
   "execution_count": 57,
   "id": "conditional-science",
   "metadata": {},
   "outputs": [
    {
     "name": "stdout",
     "output_type": "stream",
     "text": [
      "373.15\n"
     ]
    }
   ],
   "source": [
    "def celsius_to_kelvin(temp_c):\n",
    "    return(temp_c + 273.15)\n",
    "\n",
    "def fahr_to_kelvin(temp_f):\n",
    "    temp_c = fahr_to_celsius(temp_f)\n",
    "    temp_k = celsius_to_kelvin(temp_c)\n",
    "    return(temp_k)\n",
    "\n",
    "print(fahr_to_kelvin(212))"
   ]
  },
  {
   "cell_type": "markdown",
   "id": "regional-pendant",
   "metadata": {},
   "source": [
    "Variables created inside functions no longer exist once the function has finished executing, i.e. local variables, just like in other languages. Assign the result of a function to a variable to keep the result, i.e. global variable."
   ]
  },
  {
   "cell_type": "markdown",
   "id": "literary-recipient",
   "metadata": {},
   "source": [
    "Documentation for a function can be included inside the function as the first string that is not assigned to a variable. If a triple quote is used, a string can be separated across multiple lines."
   ]
  },
  {
   "cell_type": "code",
   "execution_count": 58,
   "id": "collaborative-wholesale",
   "metadata": {},
   "outputs": [
    {
     "name": "stdout",
     "output_type": "stream",
     "text": [
      "Help on function celsius_to_kelvin in module __main__:\n",
      "\n",
      "celsius_to_kelvin(temp_c)\n",
      "    Converts Celsius to Kelvin.\n",
      "    \n",
      "    Examples\n",
      "    --------\n",
      "    >>> celsius_to_kelvin(42)\n",
      "\n"
     ]
    }
   ],
   "source": [
    "def celsius_to_kelvin(temp_c):\n",
    "    \"\"\"\n",
    "    Converts Celsius to Kelvin.\n",
    "    \n",
    "    Examples\n",
    "    --------\n",
    "    >>> celsius_to_kelvin(42)\n",
    "    \"\"\"\n",
    "    return(temp_c + 273.15)\n",
    "\n",
    "help(celsius_to_kelvin)"
   ]
  },
  {
   "cell_type": "markdown",
   "id": "acknowledged-bulgaria",
   "metadata": {},
   "source": [
    "Set default values for parameters by assigning a value. If the parameter name is not specified, arguments are read positionally from left to right."
   ]
  },
  {
   "cell_type": "code",
   "execution_count": 59,
   "id": "essential-hebrew",
   "metadata": {},
   "outputs": [
    {
     "name": "stdout",
     "output_type": "stream",
     "text": [
      "no parameters:\n",
      "a: 1 b: 2 c: 3\n",
      "one parameter:\n",
      "a: 55 b: 2 c: 3\n",
      "two parameters:\n",
      "a: 55 b: 66 c: 3\n",
      "only setting c\n",
      "a: 1 b: 2 c: 77\n"
     ]
    }
   ],
   "source": [
    "def display(a=1, b=2, c=3):\n",
    "    print('a:', a, 'b:', b, 'c:', c)\n",
    "\n",
    "print('no parameters:')\n",
    "display()\n",
    "print('one parameter:')\n",
    "display(55)\n",
    "print('two parameters:')\n",
    "display(55, 66)\n",
    "print('only setting c')\n",
    "display(c = 77)"
   ]
  },
  {
   "cell_type": "markdown",
   "id": "italic-musical",
   "metadata": {},
   "source": [
    "* Define a function using `def function_name(parameter)`.\n",
    "* The body of a function must be indented.\n",
    "* Call a function using `function_name(value)`.\n",
    "* Numbers are stored as integers or floating-point numbers.\n",
    "* Variables defined within a function can only be seen and used within the body of the function.\n",
    "* Variables created outside of any function are called global variables.\n",
    "* Within a function, we can access global variables.\n",
    "* Variables created within a function override global variables if their names match.\n",
    "* Use `help(thing)` to view help for something.\n",
    "* Put docstrings in functions to provide help for that function.\n",
    "* Specify default values for parameters when defining a function using `name=value` in the parameter list.\n",
    "* Parameters can be passed by matching based on name, by position, or by omitting them (in which case the default value is used).\n",
    "* Put code whose parameters change frequently in a function, then call it with different parameter values to customise its behaviour."
   ]
  },
  {
   "cell_type": "markdown",
   "id": "bound-stations",
   "metadata": {},
   "source": [
    "## Errors and Exceptions\n",
    "\n",
    "Errors in Python have a very specific form called a **trackback**, which contains the sequence of function calls that led to an error. Long tracebacks simply indicates that many functions were called before the error was encountered. Most of the time, the actual place where the error occurred is at the bottom-most level, so you can skip down the traceback to the bottom. See this list of [built-in exceptions](https://docs.python.org/3/library/exceptions.html) for more information."
   ]
  },
  {
   "cell_type": "markdown",
   "id": "straight-sample",
   "metadata": {},
   "source": [
    "Syntax errors occur, for example, when you forget a colon at the end of a line, accidentally add too many spaces when indenting, or forget a parenthesis. This is similar to forgetting punctuation in English and it becomes difficult to interpret the text. Python will inform us that there is a syntax error with a `SyntaxError` or `IndentationError` message and a caret (`^`) indicating where the syntax error occurred. For indentation, note that Python does not allow you to mix tabs and spaces; either tabs or spaces are used and their use needs to be consistent."
   ]
  },
  {
   "cell_type": "markdown",
   "id": "turkish-empire",
   "metadata": {},
   "source": [
    "Another common type of error is called a `NameError` and occurs when you try to use a variable that does not exist (not defined yet or a result of a typo) or forgot to put quotes around a string. This results in a `name variable_name is not defined`."
   ]
  },
  {
   "cell_type": "markdown",
   "id": "affecting-reality",
   "metadata": {},
   "source": [
    "An `IndexError` occurs when we try to access a list index that does not exist."
   ]
  },
  {
   "cell_type": "markdown",
   "id": "monthly-container",
   "metadata": {},
   "source": [
    "A `FileNotFoundError` occurs when we try to read a file that does not exist. An `UnsupportedOperationError` occurs when we try to write to a file that was opened \"read-only\". More generally, problems with input and output manifest as `IOError` or `OSError` errors, depending on the version of Python used."
   ]
  },
  {
   "cell_type": "markdown",
   "id": "experienced-essay",
   "metadata": {},
   "source": [
    "* Tracebacks can look intimidating, but they give us a lot of useful information about what went wrong in our program, including where the error occurred and what type of error it was.\n",
    "* An error having to do with the \"grammar\" or syntax of the program is called a `SyntaxError`. If the issue has to do with how the code is indented, then it will be called an `IndentationError`.\n",
    "* A `NameError` will occur when trying to use a variable that does not exist. Possible causes are that a variable definition is missing, a variable reference differs from its definition in spelling or capitalization, or the code contains a string that is missing quotes around it.\n",
    "* Containers like lists and strings will generate errors if you try to access items in them that do not exist. This type of error is called an `IndexError`.\n",
    "* Trying to read a file that does not exist will give you an `FileNotFoundError`. Trying to read a file that is open for writing, or writing to a file that is open for reading, will give you an `IOError`."
   ]
  },
  {
   "cell_type": "markdown",
   "id": "opposed-fluid",
   "metadata": {},
   "source": [
    "## Defensive Programming\n",
    "\n",
    "In order to indicate whether a program is getting the right answer and _still_ getting the right answer after making changes, we need to:\n",
    "\n",
    "* Write programs that check their own operation.\n",
    "* Write and run tests for widely-used functions.\n",
    "* Make sure we know what \"correct\" actually means."
   ]
  },
  {
   "cell_type": "markdown",
   "id": "digital-glance",
   "metadata": {},
   "source": [
    "### Assertions\n",
    "\n",
    "An assertion is an expression that is supposed to be true at a particular point in a program. Programmers typically put assertions in their code to check for errors; if the assertion fails (i.e., if the expression evaluates as false), the program halts and produces an error message. We can add assertions to our code so that it checks itself as it runs and this is known as defensive programming: the practice of writing programs that check their own operation to catch errors as early as possible.\n",
    "\n",
    "An assertion is simply a _statement that something must be true at a certain point in a program_. When Python comes across an assertion, it evaluates the assertion's condition and if it is true, nothing happens, but if it is false, the program immediately halts with `AssertionError` and an error message is outputted if provided."
   ]
  },
  {
   "cell_type": "markdown",
   "id": "experimental-complex",
   "metadata": {},
   "source": [
    "Broadly speaking, assertions fall into three categories:\n",
    "\n",
    "* A precondition is something that must be true at the start of a function in order for it to work correctly.\n",
    "* A postcondition is something that the function guarantees is true when it finishes.\n",
    "* An invariant is something that is always true at a particular point inside a piece of code.\n",
    "\n",
    "For example, suppose we are representing rectangles using a tuple of four coordinates `(x0, y0, x1, y1)` representing the lower left and upper right corners of the rectangle. In order to perform some calculations, we need to normalise the rectangle such that the lower left corner is at the origin and the longest side if 1.0 units long. The following function performs the normalisation as well as checks whether the input is correctly formatted and that the result make sense."
   ]
  },
  {
   "cell_type": "code",
   "execution_count": 60,
   "id": "center-pharmaceutical",
   "metadata": {},
   "outputs": [],
   "source": [
    "def normalise_rectangle(rect):\n",
    "    \"\"\"Normalises a rectangle so that it is at the origin and 1.0 units long on its longest axis.\n",
    "    Input should be of the format (x0, y0, x1, y1).\n",
    "    (x0, y0) and (x1, y1) define the lower left and upper right corners\n",
    "    of the rectangle, respectively.\"\"\"\n",
    "    assert len(rect) == 4, 'Rectangles must contain 4 coordinates'\n",
    "    x0, y0, x1, y1 = rect\n",
    "    # x1 should be on the right of x0\n",
    "    assert x0 < x1, 'Invalid X coordinates'\n",
    "    # y1 should be on the top of y0\n",
    "    assert y0 < y1, 'Invalid Y coordinates'\n",
    "\n",
    "    # change in x is the length of horizontal edge\n",
    "    dx = x1 - x0\n",
    "    # change in y is the length of the vertical edge\n",
    "    dy = y1 - y0\n",
    "    # scaled contains the ratio between the horizontal and vertical edge\n",
    "    # which we can use for normalisation\n",
    "    if dx > dy:\n",
    "        scaled = float(dy) / dx\n",
    "        upper_x, upper_y = 1.0, scaled\n",
    "    else:\n",
    "        scaled = float(dx) / dy\n",
    "        upper_x, upper_y = scaled, 1.0\n",
    "\n",
    "    # note that upper_x and upper_y are defined in the if-else block but are available outside\n",
    "    assert 0 < upper_x <= 1.0, 'Calculated upper X coordinate invalid'\n",
    "    assert 0 < upper_y <= 1.0, 'Calculated upper Y coordinate invalid'\n",
    "\n",
    "    return (0, 0, upper_x, upper_y)"
   ]
  },
  {
   "cell_type": "markdown",
   "id": "tribal-balloon",
   "metadata": {},
   "source": [
    "Call `normalise_rectange`."
   ]
  },
  {
   "cell_type": "code",
   "execution_count": 61,
   "id": "generous-little",
   "metadata": {},
   "outputs": [
    {
     "name": "stdout",
     "output_type": "stream",
     "text": [
      "(0, 0, 1.0, 0.25)\n"
     ]
    }
   ],
   "source": [
    "print(normalise_rectangle((1, 1, 5, 2)))"
   ]
  },
  {
   "cell_type": "markdown",
   "id": "natural-finland",
   "metadata": {},
   "source": [
    "Assertions aren't just about catching errors but they also help people understand programs. Each assertion gives the person reading the program a change to check that their understanding matches what the code is doing.\n",
    "\n",
    "Most good programmers follow two rules when adding assertions to their code:\n",
    "\n",
    "1. Fail early, fail often\n",
    "\n",
    "The greater the distance between when and where an error occurred and when it is noticed, the harder the error will be to debug, so good code catches mistakes as early as possible.\n",
    "\n",
    "2. Turn bugs into assertions or tests.\n",
    "\n",
    "Whenever you fix a bug, write an assertion that catches the mistake should you make it again. If you made a mistake in a piece of code, the odds are good that you have made other mistakes nearby, or will make the same mistake (or a related one) the next time you change it. Writing assertions to check that you have not regressed (re-introduced an old problem) can save a lot of time in the long run."
   ]
  },
  {
   "cell_type": "markdown",
   "id": "distant-variance",
   "metadata": {},
   "source": [
    "### Test-Driven Development\n",
    "\n",
    "An assertion checks that something is true as a particular point in the program. The next step is to check the overall behaviour of a piece of code, i.e., to make sure that it produces the right output when it has been given a particular input. For example, suppose we need to find where two or more time series overlap and output the largest range that they all include. The input is the range of each time series represented as a pair of numbers (start and end).\n",
    "\n",
    "Most novice programmers would solve this problem in the following manner:\n",
    "\n",
    "1. Write a function `range_overlap`.\n",
    "2. Call it interactively on two or three different inputs.\n",
    "3. If it produces the wrong answer, fix the function and re-run that test.\n",
    "\n",
    "The approach above works but there is a better way:\n",
    "\n",
    "1. Write a short function for each test.\n",
    "2. Write a `range_overlap` function that should pass those tests.\n",
    "3. If `range_overlap` produces any incorrect answers, fix it and re-run the test functions.\n",
    "\n",
    "Writing unit tests _before_ writing the code they test is called test-driven development (TDD). Advocates of this approach believe it produces better code faster because:\n",
    "\n",
    "1. If people write tests after writing the thing to be tested, they are subject to confirmation bias, i.e., they subconsciously write tests to show that their code is correct, rather than to find errors.\n",
    "2. Writing tests helps programmers figure out what the function is actually supposed to do."
   ]
  },
  {
   "cell_type": "markdown",
   "id": "interested-hawaii",
   "metadata": {},
   "source": [
    "* Program defensively, i.e., assume that errors are going to arise, and write code to detect them when they do.\n",
    "* Put assertions in programs to check their state as they run, and to help readers understand how those programs are supposed to work.\n",
    "* Use preconditions to check that the inputs to a function are safe to use.\n",
    "* Use postconditions to check that the output from a function is safe to use.\n",
    "* Write tests before writing code in order to help determine exactly what that code is supposed to do."
   ]
  }
 ],
 "metadata": {
  "kernelspec": {
   "display_name": "Python 3",
   "language": "python",
   "name": "python3"
  },
  "language_info": {
   "codemirror_mode": {
    "name": "ipython",
    "version": 3
   },
   "file_extension": ".py",
   "mimetype": "text/x-python",
   "name": "python",
   "nbconvert_exporter": "python",
   "pygments_lexer": "ipython3",
   "version": "3.8.8"
  }
 },
 "nbformat": 4,
 "nbformat_minor": 5
}
