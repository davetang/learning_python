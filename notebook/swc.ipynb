{
 "cells": [
  {
   "cell_type": "markdown",
   "id": "coated-biography",
   "metadata": {},
   "source": [
    "# Programming with Python\n",
    "\n",
    "[Programming with Python course](https://swcarpentry.github.io/python-novice-inflammation/) by Software Carpentry."
   ]
  },
  {
   "cell_type": "markdown",
   "id": "promotional-cholesterol",
   "metadata": {},
   "source": [
    "## Python Fundamentals\n",
    "\n",
    "* Basic data types in Python include integers, strings, and floating-point numbers.\n",
    "* Use `variable = value` to assign a value to a variable in order to record it in memory.\n",
    "* Variables are created on demand whenever a value is assigned to them.\n",
    "* Use `print(something)` to display the value of `something`.\n",
    "* Built-in functions are always available to use."
   ]
  },
  {
   "cell_type": "markdown",
   "id": "north-savings",
   "metadata": {},
   "source": [
    "## Analysing Patient Data\n",
    "\n",
    "Load `NumPy` and use the function call `np.loadtxt()` to load `inflammation-01.csv`, which contains to arthritis patients' inflammation data where each row are data for each individual patient and the columns are their daily inflammation measurements."
   ]
  },
  {
   "cell_type": "code",
   "execution_count": 1,
   "id": "detected-sally",
   "metadata": {},
   "outputs": [
    {
     "name": "stdout",
     "output_type": "stream",
     "text": [
      "[[0. 0. 1. ... 3. 0. 0.]\n",
      " [0. 1. 2. ... 1. 0. 1.]\n",
      " [0. 1. 1. ... 2. 1. 1.]\n",
      " ...\n",
      " [0. 1. 1. ... 1. 1. 1.]\n",
      " [0. 0. 0. ... 0. 2. 0.]\n",
      " [0. 0. 1. ... 1. 1. 0.]]\n"
     ]
    }
   ],
   "source": [
    "import numpy as np\n",
    "data = np.loadtxt(fname = '../data/swc/inflammation-01.csv', delimiter=',')\n",
    "print(data)"
   ]
  },
  {
   "cell_type": "markdown",
   "id": "ethical-continuity",
   "metadata": {},
   "source": [
    "Data type using `type()`."
   ]
  },
  {
   "cell_type": "code",
   "execution_count": 2,
   "id": "occasional-saskatchewan",
   "metadata": {},
   "outputs": [
    {
     "name": "stdout",
     "output_type": "stream",
     "text": [
      "<class 'numpy.ndarray'>\n"
     ]
    }
   ],
   "source": [
    "print(type(data))"
   ]
  },
  {
   "cell_type": "markdown",
   "id": "musical-notification",
   "metadata": {},
   "source": [
    "The `type()` function will only tell you that a variable is a `NumPy` array but not the type of values stored in the array. A NumPy array contains elements of the same type; use `dtype` to find out the type of data stored inside an array."
   ]
  },
  {
   "cell_type": "code",
   "execution_count": 3,
   "id": "finite-security",
   "metadata": {},
   "outputs": [
    {
     "name": "stdout",
     "output_type": "stream",
     "text": [
      "float64\n"
     ]
    }
   ],
   "source": [
    "print(data.dtype)"
   ]
  },
  {
   "cell_type": "markdown",
   "id": "afraid-likelihood",
   "metadata": {},
   "source": [
    "`data.shape` is an attribute of `data` that describes dimensions of `data` (60 patients with data for 40 days)."
   ]
  },
  {
   "cell_type": "code",
   "execution_count": 4,
   "id": "neural-traveler",
   "metadata": {},
   "outputs": [
    {
     "name": "stdout",
     "output_type": "stream",
     "text": [
      "(60, 40)\n"
     ]
    }
   ],
   "source": [
    "print(data.shape)"
   ]
  },
  {
   "cell_type": "markdown",
   "id": "level-regulation",
   "metadata": {},
   "source": [
    "Get first value (cell in first row and first column) using an index with square brackets."
   ]
  },
  {
   "cell_type": "code",
   "execution_count": 5,
   "id": "noble-brave",
   "metadata": {},
   "outputs": [
    {
     "name": "stdout",
     "output_type": "stream",
     "text": [
      "0.0\n"
     ]
    }
   ],
   "source": [
    "print(data[0, 0])"
   ]
  },
  {
   "cell_type": "markdown",
   "id": "deluxe-ancient",
   "metadata": {},
   "source": [
    "An array slice from the first row to the fifth and first column to the fifth."
   ]
  },
  {
   "cell_type": "code",
   "execution_count": 6,
   "id": "confidential-saying",
   "metadata": {},
   "outputs": [
    {
     "name": "stdout",
     "output_type": "stream",
     "text": [
      "[[0. 0. 1. 3. 1.]\n",
      " [0. 1. 2. 1. 2.]\n",
      " [0. 1. 1. 3. 3.]\n",
      " [0. 0. 2. 0. 4.]\n",
      " [0. 1. 1. 3. 3.]]\n"
     ]
    }
   ],
   "source": [
    "print(data[0:5, 0:5])"
   ]
  },
  {
   "cell_type": "markdown",
   "id": "enhanced-vegetation",
   "metadata": {},
   "source": [
    "We do not need to include the lower or upper bounds when slicing; Python will do this find the lowest and highest possible values when we do not specify the limits."
   ]
  },
  {
   "cell_type": "code",
   "execution_count": 9,
   "id": "decent-difficulty",
   "metadata": {},
   "outputs": [
    {
     "name": "stdout",
     "output_type": "stream",
     "text": [
      "[[4. 2. 3. 0. 0.]\n",
      " [5. 1. 1. 0. 1.]\n",
      " [3. 2. 2. 1. 1.]\n",
      " [4. 2. 3. 2. 1.]\n",
      " [4. 2. 0. 1. 1.]]\n"
     ]
    }
   ],
   "source": [
    "print(data[:5, 35:])"
   ]
  },
  {
   "cell_type": "markdown",
   "id": "refined-township",
   "metadata": {},
   "source": [
    "Calculating the mean of entire array."
   ]
  },
  {
   "cell_type": "code",
   "execution_count": 10,
   "id": "common-spiritual",
   "metadata": {},
   "outputs": [
    {
     "name": "stdout",
     "output_type": "stream",
     "text": [
      "6.14875\n"
     ]
    }
   ],
   "source": [
    "print(np.mean(data))"
   ]
  },
  {
   "cell_type": "markdown",
   "id": "promotional-grass",
   "metadata": {},
   "source": [
    "Multiple assignment of descriptive statistics. Note to get more information about a function, add `?` to the end of the function, e.g. `np.std?`; this is the same as using `help(np.std)`."
   ]
  },
  {
   "cell_type": "code",
   "execution_count": 11,
   "id": "hispanic-barrier",
   "metadata": {},
   "outputs": [
    {
     "name": "stdout",
     "output_type": "stream",
     "text": [
      "maximum inflammation: 20.0\n",
      "minimum inflammation: 0.0\n",
      "standard deviation: 4.613833197118566\n"
     ]
    }
   ],
   "source": [
    "maxval, minval, stdval = np.max(data), np.min(data), np.std(data)\n",
    "print('maximum inflammation:', maxval)\n",
    "print('minimum inflammation:', minval)\n",
    "print('standard deviation:', stdval)"
   ]
  },
  {
   "cell_type": "markdown",
   "id": "animated-championship",
   "metadata": {},
   "source": [
    "Calculate just for patient 1."
   ]
  },
  {
   "cell_type": "code",
   "execution_count": 15,
   "id": "systematic-richmond",
   "metadata": {},
   "outputs": [
    {
     "name": "stdout",
     "output_type": "stream",
     "text": [
      "18.0\n"
     ]
    }
   ],
   "source": [
    "print(np.max(data[0, :]))"
   ]
  },
  {
   "cell_type": "markdown",
   "id": "compound-wyoming",
   "metadata": {},
   "source": [
    "Calculate for all patients by using `axis = 1`. Axis 1 refers to the columns and we are calculating _across_ the columns."
   ]
  },
  {
   "cell_type": "code",
   "execution_count": 26,
   "id": "impressed-customer",
   "metadata": {},
   "outputs": [
    {
     "name": "stdout",
     "output_type": "stream",
     "text": [
      "(60,)\n",
      "[18. 18. 19. 17. 17. 18. 17. 20. 17. 18. 18. 18. 17. 16. 17. 18. 19. 19.\n",
      " 17. 19. 19. 16. 17. 15. 17. 17. 18. 17. 20. 17. 16. 19. 15. 15. 19. 17.\n",
      " 16. 17. 19. 16. 18. 19. 16. 19. 18. 16. 19. 15. 16. 18. 14. 20. 17. 15.\n",
      " 17. 16. 17. 19. 18. 18.]\n"
     ]
    }
   ],
   "source": [
    "print(np.max(data, axis = 1).shape)\n",
    "print(np.max(data, axis = 1))"
   ]
  },
  {
   "cell_type": "markdown",
   "id": "surface-combining",
   "metadata": {},
   "source": [
    "Calculate per day by using `axis = 0`. Axis 0 refers to the rows and we are calculating _across_ the rows."
   ]
  },
  {
   "cell_type": "code",
   "execution_count": 27,
   "id": "aggressive-latter",
   "metadata": {},
   "outputs": [
    {
     "name": "stdout",
     "output_type": "stream",
     "text": [
      "(40,)\n",
      "[ 0.  1.  2.  3.  4.  5.  6.  7.  8.  9. 10. 11. 12. 13. 14. 15. 16. 17.\n",
      " 18. 19. 20. 19. 18. 17. 16. 15. 14. 13. 12. 11. 10.  9.  8.  7.  6.  5.\n",
      "  4.  3.  2.  1.]\n"
     ]
    }
   ],
   "source": [
    "print(np.max(data, axis = 0).shape)\n",
    "print(np.max(data, axis = 0))"
   ]
  },
  {
   "cell_type": "markdown",
   "id": "occasional-monster",
   "metadata": {},
   "source": [
    "Slicing strings."
   ]
  },
  {
   "cell_type": "code",
   "execution_count": 28,
   "id": "concrete-sister",
   "metadata": {},
   "outputs": [
    {
     "name": "stdout",
     "output_type": "stream",
     "text": [
      "oxy\n"
     ]
    }
   ],
   "source": [
    "element = 'oxygen'\n",
    "print(element[0:3])"
   ]
  },
  {
   "cell_type": "markdown",
   "id": "effective-consciousness",
   "metadata": {},
   "source": [
    "Last index using negative value."
   ]
  },
  {
   "cell_type": "code",
   "execution_count": 36,
   "id": "selected-heating",
   "metadata": {},
   "outputs": [
    {
     "name": "stdout",
     "output_type": "stream",
     "text": [
      "e\n"
     ]
    }
   ],
   "source": [
    "print(element[-2])"
   ]
  },
  {
   "cell_type": "markdown",
   "id": "destroyed-preliminary",
   "metadata": {},
   "source": [
    "Stacking arrays using `hstack` and `vstack`, which are like `cbind` and `rbind` in R."
   ]
  },
  {
   "cell_type": "code",
   "execution_count": 46,
   "id": "demographic-crawford",
   "metadata": {},
   "outputs": [
    {
     "name": "stdout",
     "output_type": "stream",
     "text": [
      "A =  \n",
      " [[1 2 3]\n",
      " [4 5 6]\n",
      " [7 8 9]] \n",
      "\n",
      "B =  \n",
      " [[1 2 3 1 2 3]\n",
      " [4 5 6 4 5 6]\n",
      " [7 8 9 7 8 9]] \n",
      "\n",
      "C =  \n",
      " [[1 2 3]\n",
      " [4 5 6]\n",
      " [7 8 9]\n",
      " [1 2 3]\n",
      " [4 5 6]\n",
      " [7 8 9]] \n",
      "\n"
     ]
    }
   ],
   "source": [
    "A = np.array(\n",
    "    [[1, 2, 3],\n",
    "     [4, 5, 6],\n",
    "     [7, 8, 9]]\n",
    ")\n",
    "print('A = ', \"\\n\", A, \"\\n\")\n",
    "\n",
    "B = np.hstack([A, A])\n",
    "print('B = ', \"\\n\", B, \"\\n\")\n",
    "\n",
    "C = np.vstack([A, A])\n",
    "print('C = ', \"\\n\", C, \"\\n\")"
   ]
  },
  {
   "cell_type": "markdown",
   "id": "little-inspection",
   "metadata": {},
   "source": [
    "The `np.diff()` function takes an array and returns the difference between two successive values (as in R)."
   ]
  },
  {
   "cell_type": "code",
   "execution_count": 48,
   "id": "reduced-ready",
   "metadata": {},
   "outputs": [
    {
     "name": "stdout",
     "output_type": "stream",
     "text": [
      "[0. 0. 2. 0. 4. 2. 2.]\n",
      "[ 0.  2. -2.  4. -2.  0.]\n"
     ]
    }
   ],
   "source": [
    "patient3_week1 = data[3, :7]\n",
    "print(patient3_week1)\n",
    "print(np.diff(patient3_week1))"
   ]
  },
  {
   "cell_type": "markdown",
   "id": "dedicated-rwanda",
   "metadata": {},
   "source": [
    "Calculating `np.diff` for all patients."
   ]
  },
  {
   "cell_type": "code",
   "execution_count": 49,
   "id": "fancy-columbia",
   "metadata": {},
   "outputs": [
    {
     "data": {
      "text/plain": [
       "array([[ 0.,  1.,  2., ...,  1., -3.,  0.],\n",
       "       [ 1.,  1., -1., ...,  0., -1.,  1.],\n",
       "       [ 1.,  0.,  2., ...,  0., -1.,  0.],\n",
       "       ...,\n",
       "       [ 1.,  0.,  0., ..., -1.,  0.,  0.],\n",
       "       [ 0.,  0.,  1., ..., -2.,  2., -2.],\n",
       "       [ 0.,  1., -1., ..., -2.,  0., -1.]])"
      ]
     },
     "execution_count": 49,
     "metadata": {},
     "output_type": "execute_result"
    }
   ],
   "source": [
    "np.diff(data, axis = 1)"
   ]
  },
  {
   "cell_type": "markdown",
   "id": "tamil-serial",
   "metadata": {},
   "source": [
    "Largest change in inflammation for each patient."
   ]
  },
  {
   "cell_type": "code",
   "execution_count": 53,
   "id": "democratic-labor",
   "metadata": {},
   "outputs": [
    {
     "data": {
      "text/plain": [
       "array([ 7., 12., 11., 10., 11., 13., 10.,  8., 10., 10.,  7.,  7., 13.,\n",
       "        7., 10., 10.,  8., 10.,  9., 10., 13.,  7., 12.,  9., 12., 11.,\n",
       "       10., 10.,  7., 10., 11., 10.,  8., 11., 12., 10.,  9., 10., 13.,\n",
       "       10.,  7.,  7., 10., 13., 12.,  8.,  8., 10., 10.,  9.,  8., 13.,\n",
       "       10.,  7., 10.,  8., 12., 10.,  7., 12.])"
      ]
     },
     "execution_count": 53,
     "metadata": {},
     "output_type": "execute_result"
    }
   ],
   "source": [
    "np.max(np.diff(data, axis = 1), axis = 1)"
   ]
  },
  {
   "cell_type": "markdown",
   "id": "floral-render",
   "metadata": {},
   "source": [
    "* Import a library into a program using `import libraryname`.\n",
    "* Use the `numpy` library to work with arrays in Python.\n",
    "* The expression `array.shape` gives the shape of an array.\n",
    "* Use `array[x, y]` to select a single element from a 2D array.\n",
    "* Array indices start at 0, not 1.\n",
    "* Use `low:high` to specify a slice that includes the indices from low to high-1.\n",
    "* Use `#` to add comments to programs.\n",
    "* Use `numpy.mean(array)`, `numpy.max(array)`, and `numpy.min(array)` to calculate simple statistics.\n",
    "* Use `numpy.mean(array, axis=0)` or `numpy.mean(array, axis=1)` to calculate statistics across the specified axis."
   ]
  }
 ],
 "metadata": {
  "kernelspec": {
   "display_name": "Python 3",
   "language": "python",
   "name": "python3"
  },
  "language_info": {
   "codemirror_mode": {
    "name": "ipython",
    "version": 3
   },
   "file_extension": ".py",
   "mimetype": "text/x-python",
   "name": "python",
   "nbconvert_exporter": "python",
   "pygments_lexer": "ipython3",
   "version": "3.8.8"
  }
 },
 "nbformat": 4,
 "nbformat_minor": 5
}
