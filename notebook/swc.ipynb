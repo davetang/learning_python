{
 "cells": [
  {
   "cell_type": "markdown",
   "id": "coated-biography",
   "metadata": {},
   "source": [
    "# Programming with Python\n",
    "\n",
    "[Programming with Python course](https://swcarpentry.github.io/python-novice-inflammation/) by Software Carpentry."
   ]
  },
  {
   "cell_type": "markdown",
   "id": "promotional-cholesterol",
   "metadata": {},
   "source": [
    "## Python Fundamentals\n",
    "\n",
    "* Basic data types in Python include integers, strings, and floating-point numbers.\n",
    "* Use `variable = value` to assign a value to a variable in order to record it in memory.\n",
    "* Variables are created on demand whenever a value is assigned to them.\n",
    "* Use `print(something)` to display the value of `something`.\n",
    "* Built-in functions are always available to use."
   ]
  },
  {
   "cell_type": "markdown",
   "id": "north-savings",
   "metadata": {},
   "source": [
    "## Analysing Patient Data\n",
    "\n",
    "Load `NumPy` and load `inflammation-01.csv`."
   ]
  },
  {
   "cell_type": "code",
   "execution_count": 2,
   "id": "detected-sally",
   "metadata": {},
   "outputs": [
    {
     "name": "stdout",
     "output_type": "stream",
     "text": [
      "[[0. 0. 1. ... 3. 0. 0.]\n",
      " [0. 1. 2. ... 1. 0. 1.]\n",
      " [0. 1. 1. ... 2. 1. 1.]\n",
      " ...\n",
      " [0. 1. 1. ... 1. 1. 1.]\n",
      " [0. 0. 0. ... 0. 2. 0.]\n",
      " [0. 0. 1. ... 1. 1. 0.]]\n"
     ]
    }
   ],
   "source": [
    "import numpy as np\n",
    "data = np.loadtxt(fname = '../data/swc/inflammation-01.csv', delimiter=',')\n",
    "print(data)"
   ]
  },
  {
   "cell_type": "markdown",
   "id": "ethical-continuity",
   "metadata": {},
   "source": [
    "Data type using `type()`."
   ]
  },
  {
   "cell_type": "code",
   "execution_count": 3,
   "id": "occasional-saskatchewan",
   "metadata": {},
   "outputs": [
    {
     "name": "stdout",
     "output_type": "stream",
     "text": [
      "<class 'numpy.ndarray'>\n"
     ]
    }
   ],
   "source": [
    "print(type(data))"
   ]
  },
  {
   "cell_type": "markdown",
   "id": "musical-notification",
   "metadata": {},
   "source": [
    "The `type()` function will only tell you that a variable is a `NumPy` array but not the type of values stored in the array."
   ]
  },
  {
   "cell_type": "code",
   "execution_count": 4,
   "id": "finite-security",
   "metadata": {},
   "outputs": [
    {
     "name": "stdout",
     "output_type": "stream",
     "text": [
      "float64\n"
     ]
    }
   ],
   "source": [
    "print(data.dtype)"
   ]
  },
  {
   "cell_type": "markdown",
   "id": "afraid-likelihood",
   "metadata": {},
   "source": [
    "`data.shape` is an attribute of `data` that describes dimensions of `data`."
   ]
  },
  {
   "cell_type": "code",
   "execution_count": 6,
   "id": "neural-traveler",
   "metadata": {},
   "outputs": [
    {
     "name": "stdout",
     "output_type": "stream",
     "text": [
      "(60, 40)\n"
     ]
    }
   ],
   "source": [
    "print(data.shape)"
   ]
  },
  {
   "cell_type": "markdown",
   "id": "level-regulation",
   "metadata": {},
   "source": [
    "Get first value (cell in first row and first column)."
   ]
  },
  {
   "cell_type": "code",
   "execution_count": 8,
   "id": "noble-brave",
   "metadata": {},
   "outputs": [
    {
     "name": "stdout",
     "output_type": "stream",
     "text": [
      "0.0\n"
     ]
    }
   ],
   "source": [
    "print(data[0, 0])"
   ]
  }
 ],
 "metadata": {
  "kernelspec": {
   "display_name": "Python 3",
   "language": "python",
   "name": "python3"
  },
  "language_info": {
   "codemirror_mode": {
    "name": "ipython",
    "version": 3
   },
   "file_extension": ".py",
   "mimetype": "text/x-python",
   "name": "python",
   "nbconvert_exporter": "python",
   "pygments_lexer": "ipython3",
   "version": "3.8.8"
  }
 },
 "nbformat": 4,
 "nbformat_minor": 5
}
