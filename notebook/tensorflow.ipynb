{
 "cells": [
  {
   "cell_type": "markdown",
   "id": "circular-overhead",
   "metadata": {},
   "source": [
    "# TensorFlow\n",
    "\n",
    "[TensorFlow](https://www.tensorflow.org/overview) is an end-to-end open source platform for machine learning.\n",
    "\n",
    "The example below follows the [TensorFlow 2 quickstart for beginners](https://github.com/tensorflow/docs/blob/master/site/en/tutorials/quickstart/beginner.ipynb) guide. Import `TensorFlow` to get started."
   ]
  },
  {
   "cell_type": "code",
   "execution_count": 2,
   "id": "assigned-option",
   "metadata": {},
   "outputs": [
    {
     "name": "stdout",
     "output_type": "stream",
     "text": [
      "TensorFlow version: 2.4.1\n"
     ]
    }
   ],
   "source": [
    "import tensorflow as tf\n",
    "print(\"TensorFlow version:\", tf.__version__)"
   ]
  },
  {
   "cell_type": "markdown",
   "id": "addressed-nylon",
   "metadata": {},
   "source": [
    "Load and prepare the MNIST dataset."
   ]
  },
  {
   "cell_type": "code",
   "execution_count": 3,
   "id": "complimentary-refrigerator",
   "metadata": {},
   "outputs": [],
   "source": [
    "mnist = tf.keras.datasets.mnist\n",
    "\n",
    "(x_train, y_train), (x_test, y_test) = mnist.load_data()\n",
    "x_train, x_test = x_train / 255.0, x_test / 255.0"
   ]
  },
  {
   "cell_type": "markdown",
   "id": "residential-anniversary",
   "metadata": {},
   "source": [
    "Build a `tf.keras.Sequential` model by stacking layers."
   ]
  },
  {
   "cell_type": "code",
   "execution_count": 4,
   "id": "assisted-wages",
   "metadata": {},
   "outputs": [],
   "source": [
    "model = tf.keras.models.Sequential([\n",
    "  tf.keras.layers.Flatten(input_shape=(28, 28)),\n",
    "  tf.keras.layers.Dense(128, activation='relu'),\n",
    "  tf.keras.layers.Dropout(0.2),\n",
    "  tf.keras.layers.Dense(10)\n",
    "])"
   ]
  },
  {
   "cell_type": "markdown",
   "id": "brilliant-breach",
   "metadata": {},
   "source": [
    "For each example, the model returns a vector of logits or log-odds scores, one for each class."
   ]
  },
  {
   "cell_type": "code",
   "execution_count": 5,
   "id": "instructional-infrared",
   "metadata": {},
   "outputs": [
    {
     "data": {
      "text/plain": [
       "array([[ 0.17968889,  0.3390031 ,  0.7632065 ,  0.4872684 , -0.3973302 ,\n",
       "         0.6790782 ,  0.08762306, -0.12483527,  0.37214413,  0.33389834]],\n",
       "      dtype=float32)"
      ]
     },
     "execution_count": 5,
     "metadata": {},
     "output_type": "execute_result"
    }
   ],
   "source": [
    "predictions = model(x_train[:1]).numpy()\n",
    "predictions"
   ]
  },
  {
   "cell_type": "markdown",
   "id": "laden-screw",
   "metadata": {},
   "source": [
    "The `tf.nn.softmax` function converts these logits to _probabilities_ for each class:"
   ]
  },
  {
   "cell_type": "code",
   "execution_count": 6,
   "id": "statewide-shuttle",
   "metadata": {},
   "outputs": [
    {
     "data": {
      "text/plain": [
       "array([[0.08648328, 0.10141949, 0.15500675, 0.1176284 , 0.0485664 ,\n",
       "        0.14249977, 0.07887665, 0.06377918, 0.10483695, 0.10090309]],\n",
       "      dtype=float32)"
      ]
     },
     "execution_count": 6,
     "metadata": {},
     "output_type": "execute_result"
    }
   ],
   "source": [
    "tf.nn.softmax(predictions).numpy()"
   ]
  }
 ],
 "metadata": {
  "kernelspec": {
   "display_name": "Python 3",
   "language": "python",
   "name": "python3"
  },
  "language_info": {
   "codemirror_mode": {
    "name": "ipython",
    "version": 3
   },
   "file_extension": ".py",
   "mimetype": "text/x-python",
   "name": "python",
   "nbconvert_exporter": "python",
   "pygments_lexer": "ipython3",
   "version": "3.8.8"
  }
 },
 "nbformat": 4,
 "nbformat_minor": 5
}
