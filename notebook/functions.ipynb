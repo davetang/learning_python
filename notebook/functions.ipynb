{
 "cells": [
  {
   "cell_type": "markdown",
   "metadata": {},
   "source": [
    "# Functions\n",
    "\n",
    "In general, functions take input and produce some output after carrying out a set of instructions. Python comes with many built-in functions that you can find out more using the `help()` function. For example, below is the help page on the `sorted()` function."
   ]
  },
  {
   "cell_type": "code",
   "execution_count": 1,
   "metadata": {},
   "outputs": [
    {
     "name": "stdout",
     "output_type": "stream",
     "text": [
      "Help on built-in function sorted in module builtins:\n",
      "\n",
      "sorted(iterable, /, *, key=None, reverse=False)\n",
      "    Return a new list containing all items from the iterable in ascending order.\n",
      "    \n",
      "    A custom key function can be supplied to customize the sort order, and the\n",
      "    reverse flag can be set to request the result in descending order.\n",
      "\n"
     ]
    }
   ],
   "source": [
    "help(sorted)"
   ]
  },
  {
   "cell_type": "markdown",
   "metadata": {},
   "source": [
    "Use `def` to define your own functions; the syntax is `def function_name(arguments):`. Default values for arguments are set when listing arguments. Documentation for a function can be included using a [docstring](https://peps.python.org/pep-0257/) and will be displayed using `help()`."
   ]
  },
  {
   "cell_type": "code",
   "execution_count": 2,
   "metadata": {},
   "outputs": [
    {
     "name": "stdout",
     "output_type": "stream",
     "text": [
      "nineteen 84\n"
     ]
    }
   ],
   "source": [
    "def my_function(arg1, arg2 = 84):\n",
    "    \"\"\"Prints out two inputs\n",
    "\n",
    "Parameters\n",
    "----------\n",
    "arg1: any type \n",
    "    first argument\n",
    "arg2: any type, optional\n",
    "    second argument (default: 84)\n",
    "    \"\"\"\n",
    "    print(arg1, arg2)\n",
    "\n",
    "my_function(\"nineteen\")"
   ]
  },
  {
   "cell_type": "markdown",
   "metadata": {},
   "source": [
    "Get help on `my_function()`."
   ]
  },
  {
   "cell_type": "code",
   "execution_count": 3,
   "metadata": {},
   "outputs": [
    {
     "name": "stdout",
     "output_type": "stream",
     "text": [
      "Help on function my_function in module __main__:\n",
      "\n",
      "my_function(arg1, arg2=84)\n",
      "    Prints out two inputs\n",
      "    \n",
      "    Parameters\n",
      "    ----------\n",
      "    arg1: any type \n",
      "        first argument\n",
      "    arg2: any type, optional\n",
      "        second argument (default: 84)\n",
      "\n"
     ]
    }
   ],
   "source": [
    "help(my_function)"
   ]
  },
  {
   "cell_type": "markdown",
   "metadata": {},
   "source": [
    "## Anonymous functions\n",
    "\n",
    "[Lambda expressions](https://docs.python.org/3/tutorial/controlflow.html#lambda-expressions) are small anonymous functions, i.e. functions with no names. They are created using the `lambda` keyword and can take any number of arguments but can only have one expression."
   ]
  },
  {
   "cell_type": "code",
   "execution_count": 4,
   "metadata": {},
   "outputs": [
    {
     "name": "stdout",
     "output_type": "stream",
     "text": [
      "6\n"
     ]
    }
   ],
   "source": [
    "g = lambda x: x*2\n",
    "print(g(3))"
   ]
  },
  {
   "cell_type": "markdown",
   "metadata": {},
   "source": [
    "This [SO post](https://stackoverflow.com/questions/890128/how-are-lambdas-useful) has some examples of how lambda expressions are useful.\n",
    "\n",
    "1. Returning a function from another function."
   ]
  },
  {
   "cell_type": "code",
   "execution_count": 5,
   "metadata": {},
   "outputs": [
    {
     "name": "stdout",
     "output_type": "stream",
     "text": [
      "<class 'function'>\n"
     ]
    }
   ],
   "source": [
    "def transform(n):\n",
    "    return lambda x: x + n\n",
    "\n",
    "f = transform(3)\n",
    "print(type(f))"
   ]
  },
  {
   "cell_type": "markdown",
   "metadata": {},
   "source": [
    "2. Sorting with an alternate key."
   ]
  },
  {
   "cell_type": "code",
   "execution_count": 11,
   "metadata": {},
   "outputs": [
    {
     "name": "stdout",
     "output_type": "stream",
     "text": [
      "[5, 4, 6, 3, 7, 2, 8, 1, 9]\n"
     ]
    }
   ],
   "source": [
    "print(sorted(range(1, 10), key = lambda x: abs(5 - x)))"
   ]
  },
  {
   "cell_type": "markdown",
   "metadata": {},
   "source": [
    "Using `lambda()` with [filter](https://docs.python.org/3/library/functions.html#filter), which constructs an iterator from an iterable for which a function returns true."
   ]
  },
  {
   "cell_type": "code",
   "execution_count": 7,
   "metadata": {},
   "outputs": [
    {
     "name": "stdout",
     "output_type": "stream",
     "text": [
      "[3, 2, 7]\n"
     ]
    }
   ],
   "source": [
    "x = [3, -1, -10, 2, 7]\n",
    "greater_than_zero = filter(lambda n: n > 0, x)\n",
    "print(list(greater_than_zero))"
   ]
  },
  {
   "cell_type": "markdown",
   "metadata": {},
   "source": [
    "Using list comprehension."
   ]
  },
  {
   "cell_type": "code",
   "execution_count": 8,
   "metadata": {},
   "outputs": [
    {
     "name": "stdout",
     "output_type": "stream",
     "text": [
      "[3, 2, 7]\n"
     ]
    }
   ],
   "source": [
    "x = [3, -1, -10, 2, 7]\n",
    "greater_than_zero = [q for q in x if q > 0]\n",
    "print(greater_than_zero)"
   ]
  },
  {
   "cell_type": "markdown",
   "metadata": {},
   "source": [
    "## Methods\n",
    "\n",
    "Methods are functions that operate on an object type. The difference between functions and methods is that functions can be called only by its name, as it is defined independently whereas methods can not be called by its name only. We need to invoke the class by a reference of that class in which it is defined, i.e. method is defined within a class and hence they are dependent on that class."
   ]
  },
  {
   "cell_type": "code",
   "execution_count": 9,
   "metadata": {},
   "outputs": [
    {
     "name": "stdout",
     "output_type": "stream",
     "text": [
      "<class '__main__.foo'>\n",
      "Hello\n"
     ]
    }
   ],
   "source": [
    "class foo(object):\n",
    "    def __init__(self):\n",
    "        self.bar = 1984\n",
    "\n",
    "    def say_hello(self):\n",
    "        print(\"Hello\")\n",
    "\n",
    "my_obj = foo()\n",
    "print(type(my_obj))\n",
    "my_obj.say_hello()"
   ]
  },
  {
   "cell_type": "markdown",
   "metadata": {},
   "source": [
    "Below are some useful methods on objects that belong to the _list_ class."
   ]
  },
  {
   "cell_type": "code",
   "execution_count": 10,
   "metadata": {},
   "outputs": [
    {
     "name": "stdout",
     "output_type": "stream",
     "text": [
      "<class 'list'>\n",
      "The index 2 in num contains the number 13\n",
      "The number of times 11 occurs in num is 1\n",
      "We appended 17 to num: [11, 12, 13, 14, 15, 16, 17]\n",
      "We removed 13 from num: [11, 12, 14, 15, 16, 17]\n",
      "We reversed num: [17, 16, 15, 14, 12, 11]\n"
     ]
    }
   ],
   "source": [
    "num = list(range(11, 17))\n",
    "print(type(num))\n",
    "\n",
    "print(\"The index %d in num contains the number 13\" % num.index(13))\n",
    "print(\"The number of times 11 occurs in num is %d\" % num.count(11))\n",
    "\n",
    "num.append(17)\n",
    "print(\"We appended 17 to num:\", num)\n",
    "\n",
    "num.remove(13)\n",
    "print(\"We removed 13 from num:\", num)\n",
    "\n",
    "num.reverse()\n",
    "print(\"We reversed num:\", num)"
   ]
  }
 ],
 "metadata": {
  "kernelspec": {
   "display_name": "Python 3",
   "language": "python",
   "name": "python3"
  },
  "language_info": {
   "codemirror_mode": {
    "name": "ipython",
    "version": 3
   },
   "file_extension": ".py",
   "mimetype": "text/x-python",
   "name": "python",
   "nbconvert_exporter": "python",
   "pygments_lexer": "ipython3",
   "version": "3.8.8"
  }
 },
 "nbformat": 4,
 "nbformat_minor": 2
}
