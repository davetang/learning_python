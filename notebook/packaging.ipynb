{
 "cells": [
  {
   "cell_type": "markdown",
   "metadata": {},
   "source": [
    "# Packaging Python Projects\n",
    "\n",
    "Notes from the [Packaging Python Projects tutorial](https://packaging.python.org/en/latest/tutorials/packaging-projects/), which goes through how to add the necessary files and structure to create a package, how to build the package, and how to upload it to the Python Package Index (PyPI).\n",
    "\n",
    "Update pip"
   ]
  },
  {
   "cell_type": "markdown",
   "metadata": {},
   "source": [
    "## Simple example\n",
    "\n",
    "Create a module containing the code below and save in `hello.py`."
   ]
  },
  {
   "cell_type": "code",
   "execution_count": 1,
   "metadata": {},
   "outputs": [],
   "source": [
    "def world():\n",
    "    print(\"Hello, World!\")\n",
    "    \n",
    "shark = \"Sammy\"\n",
    "\n",
    "class Octopus:\n",
    "    def __init__(self, name, colour):\n",
    "        self.colour = colour\n",
    "        self.name = name\n",
    "    \n",
    "    def tell_me_about_the_octopus(self):\n",
    "        print(\"This octopus is \" + self.colour + \".\")\n",
    "        print(self.name + \" is the octopus's name.\")"
   ]
  },
  {
   "cell_type": "markdown",
   "metadata": {},
   "source": [
    "Create `main.py` that imports `hello.py` and then calls the function. Note that this file needs to be in the same directory because this is included in the module search path."
   ]
  },
  {
   "cell_type": "code",
   "execution_count": 2,
   "metadata": {},
   "outputs": [
    {
     "name": "stdout",
     "output_type": "stream",
     "text": [
      "/home/jovyan/work/notebook\n",
      "['/home/jovyan/work/notebook',\n",
      " '/opt/conda/lib/python310.zip',\n",
      " '/opt/conda/lib/python3.10',\n",
      " '/opt/conda/lib/python3.10/lib-dynload',\n",
      " '',\n",
      " '/opt/conda/lib/python3.10/site-packages']\n"
     ]
    }
   ],
   "source": [
    "import os\n",
    "print(os.getcwd())\n",
    "\n",
    "import sys\n",
    "import pprint\n",
    "pprint.pprint(sys.path)"
   ]
  },
  {
   "cell_type": "markdown",
   "metadata": {},
   "source": [
    "We can add to the module search path by using `sys.path.append`; modules are searched in that order."
   ]
  },
  {
   "cell_type": "code",
   "execution_count": 3,
   "metadata": {},
   "outputs": [
    {
     "name": "stdout",
     "output_type": "stream",
     "text": [
      "['/home/jovyan/work/notebook',\n",
      " '/opt/conda/lib/python310.zip',\n",
      " '/opt/conda/lib/python3.10',\n",
      " '/opt/conda/lib/python3.10/lib-dynload',\n",
      " '',\n",
      " '/opt/conda/lib/python3.10/site-packages',\n",
      " '/home/jovyan']\n"
     ]
    }
   ],
   "source": [
    "import sys\n",
    "import pprint\n",
    "\n",
    "sys.path.append('/home/jovyan')\n",
    "pprint.pprint(sys.path)"
   ]
  },
  {
   "cell_type": "markdown",
   "metadata": {},
   "source": [
    "`main.py` contains the following code. The function needs to be called by referencing the module name in dot notation; this notation is also used for variables and for classes."
   ]
  },
  {
   "cell_type": "code",
   "execution_count": 4,
   "metadata": {},
   "outputs": [],
   "source": [
    "%%script false --no-raise-error\n",
    "\n",
    "import hello\n",
    "\n",
    "hello.world()\n",
    "\n",
    "# alternatively\n",
    "from hello import world\n",
    "world()\n",
    "\n",
    "print(hello.shark)\n",
    "\n",
    "jesse = hello.Octopus(\"Jesse\", \"orange\")\n",
    "jesse.tell_me_about_the_octopus()"
   ]
  }
 ],
 "metadata": {
  "kernelspec": {
   "display_name": "Python 3 (ipykernel)",
   "language": "python",
   "name": "python3"
  },
  "language_info": {
   "codemirror_mode": {
    "name": "ipython",
    "version": 3
   },
   "file_extension": ".py",
   "mimetype": "text/x-python",
   "name": "python",
   "nbconvert_exporter": "python",
   "pygments_lexer": "ipython3",
   "version": "3.10.5"
  }
 },
 "nbformat": 4,
 "nbformat_minor": 4
}
