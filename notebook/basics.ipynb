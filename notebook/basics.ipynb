{
 "cells": [
  {
   "cell_type": "markdown",
   "metadata": {},
   "source": [
    "# README"
   ]
  },
  {
   "cell_type": "markdown",
   "metadata": {},
   "source": [
    "Some basics of Python."
   ]
  },
  {
   "cell_type": "code",
   "execution_count": 1,
   "metadata": {},
   "outputs": [
    {
     "name": "stdout",
     "output_type": "stream",
     "text": [
      "Hello world!\n"
     ]
    }
   ],
   "source": [
    "print(\"Hello world!\")"
   ]
  },
  {
   "cell_type": "markdown",
   "metadata": {},
   "source": [
    "## Data types\n",
    "\n",
    "See [Built-in Types](https://docs.python.org/3/library/stdtypes.html). Below are some standard types:\n",
    "\n",
    "* `int` = interger\n",
    "* `float` = floating point\n",
    "* `str` = string\n",
    "* `bool` = Boolean (True or False)\n",
    "* `list` = list\n",
    "* `dict` = dictionary\n",
    "* `set` = [set](https://docs.python.org/3/library/stdtypes.html#set-types-set-frozenset)"
   ]
  },
  {
   "cell_type": "code",
   "execution_count": 2,
   "metadata": {},
   "outputs": [
    {
     "name": "stdout",
     "output_type": "stream",
     "text": [
      "<class 'int'>\n",
      "<class 'float'>\n",
      "<class 'str'>\n",
      "<class 'bool'>\n",
      "<class 'list'>\n",
      "<class 'dict'>\n",
      "<class 'set'>\n"
     ]
    }
   ],
   "source": [
    "print(type(10))\n",
    "print(type(10.0))\n",
    "print(type(\"ten\"))\n",
    "print(type(False))\n",
    "print(type([1,2]))\n",
    "print(type({}))\n",
    "print(type({1, 2}))"
   ]
  },
  {
   "cell_type": "markdown",
   "metadata": {},
   "source": [
    "### Converting types"
   ]
  },
  {
   "cell_type": "code",
   "execution_count": 17,
   "metadata": {},
   "outputs": [
    {
     "name": "stdout",
     "output_type": "stream",
     "text": [
      "<class 'int'>\n",
      "<class 'float'>\n",
      "<class 'str'>\n",
      "<class 'bool'>\n"
     ]
    }
   ],
   "source": [
    "print(type(int(True)))\n",
    "print(type(float(1)))\n",
    "print(type(str(10)))\n",
    "print(type(bool(1)))"
   ]
  },
  {
   "cell_type": "markdown",
   "metadata": {},
   "source": [
    "### Lists\n",
    "\n",
    "Zero-based indexing and half-open interval for `range` and slicing: `num[0:2]` is [0, 2) and returns index 0 and 1. Use negative indexing to slice from right to left. An empty entry means go to the end."
   ]
  },
  {
   "cell_type": "code",
   "execution_count": 3,
   "metadata": {},
   "outputs": [
    {
     "name": "stdout",
     "output_type": "stream",
     "text": [
      "[11, 12, 13, 14, 15, 16]\n",
      "[11, 12]\n",
      "16\n",
      "[15, 16]\n",
      "range(0, 6)\n"
     ]
    }
   ],
   "source": [
    "num = list(range(11, 17))\n",
    "print(num)\n",
    "\n",
    "print(num[0:2])\n",
    "\n",
    "print(num[-1])\n",
    "print(num[-2:])"
   ]
  },
  {
   "cell_type": "markdown",
   "metadata": {},
   "source": [
    "Use the `+` operator to add to a list or the append method."
   ]
  },
  {
   "cell_type": "code",
   "execution_count": 2,
   "metadata": {},
   "outputs": [
    {
     "name": "stdout",
     "output_type": "stream",
     "text": [
      "[9, 10, 11, 12, 13, 14, 15, 16, 17, 18]\n",
      "[9, 10, 11, 12, 13, 14, 15, 16, 17, 18, 19]\n"
     ]
    }
   ],
   "source": [
    "num = list(range(11, 17))\n",
    "num = num + [17,18]\n",
    "num = [9, 10] + num\n",
    "print(num)\n",
    "\n",
    "num.append(19)\n",
    "print(num)"
   ]
  },
  {
   "cell_type": "markdown",
   "metadata": {},
   "source": [
    "Two-dimensional lists."
   ]
  },
  {
   "cell_type": "code",
   "execution_count": 6,
   "metadata": {},
   "outputs": [
    {
     "name": "stdout",
     "output_type": "stream",
     "text": [
      "['g', 'h', 'i']\n",
      "['g', 'h']\n"
     ]
    }
   ],
   "source": [
    "x = [[\"a\", \"b\", \"c\"],\n",
    "     [\"d\", \"e\", \"f\"],\n",
    "     [\"g\", \"h\", \"i\"]]\n",
    "\n",
    "print(x[2])\n",
    "print(x[2][0:2])"
   ]
  },
  {
   "cell_type": "markdown",
   "metadata": {},
   "source": [
    "To copy a list, you need to create a new list or else the assignment points to the same memory location."
   ]
  },
  {
   "cell_type": "code",
   "execution_count": 9,
   "metadata": {},
   "outputs": [
    {
     "name": "stdout",
     "output_type": "stream",
     "text": [
      "[1, 2, 23]\n",
      "[1, 2, 23]\n"
     ]
    }
   ],
   "source": [
    "x = list(range(1, 4))\n",
    "y = x\n",
    "y[2] = 23\n",
    "\n",
    "print(x)\n",
    "\n",
    "z = list(x)\n",
    "z[2] = 100\n",
    "\n",
    "print(x)"
   ]
  },
  {
   "cell_type": "markdown",
   "metadata": {},
   "source": [
    "### Dictionaries\n",
    "\n",
    "Key-value pairs."
   ]
  },
  {
   "cell_type": "code",
   "execution_count": 2,
   "metadata": {},
   "outputs": [
    {
     "name": "stdout",
     "output_type": "stream",
     "text": [
      "1\n",
      "dict_keys(['one', 'two', 'three', 'four'])\n"
     ]
    }
   ],
   "source": [
    "number = {\"one\" : 1, \"two\" : 2, \"three\" : 3, \"four\" : 4}\n",
    "\n",
    "print(number['one'])\n",
    "print(number.keys())\n",
    "\n",
    "person = {'homer' : {'drink' : 'duff', 'food' : 'donuts'},\n",
    "          'bart' :  {'drink' : 'squishee', 'food' : 'pizza'}}\n",
    "\n",
    "print(person['homer']['drink'])"
   ]
  },
  {
   "cell_type": "markdown",
   "metadata": {},
   "source": [
    "Check if key exists"
   ]
  },
  {
   "cell_type": "code",
   "execution_count": 8,
   "metadata": {},
   "outputs": [
    {
     "name": "stdout",
     "output_type": "stream",
     "text": [
      "True\n",
      "{'two': 2, 'three': 3, 'four': 4}\n"
     ]
    }
   ],
   "source": [
    "if 'one' in number:\n",
    "    del(number['one'])\n",
    "    print(number)"
   ]
  },
  {
   "cell_type": "markdown",
   "metadata": {},
   "source": [
    "## Packages\n",
    "\n",
    "Use `import` to load packages."
   ]
  },
  {
   "cell_type": "code",
   "execution_count": 2,
   "metadata": {},
   "outputs": [
    {
     "name": "stdout",
     "output_type": "stream",
     "text": [
      "3.141592653589793\n"
     ]
    }
   ],
   "source": [
    "import math\n",
    "\n",
    "print(math.pi)"
   ]
  },
  {
   "cell_type": "markdown",
   "metadata": {},
   "source": [
    "We can only import a specific part of a package."
   ]
  },
  {
   "cell_type": "code",
   "execution_count": 4,
   "metadata": {},
   "outputs": [
    {
     "name": "stdout",
     "output_type": "stream",
     "text": [
      "3.141592653589793\n",
      "3.141592653589793\n"
     ]
    }
   ],
   "source": [
    "from math import pi\n",
    "\n",
    "print(pi)\n",
    "\n",
    "from math import pi as p\n",
    "print(p)"
   ]
  },
  {
   "cell_type": "markdown",
   "metadata": {},
   "source": [
    "## Control flow\n",
    "\n",
    "Use `if`, `elif`, and `else`."
   ]
  },
  {
   "cell_type": "code",
   "execution_count": 5,
   "metadata": {},
   "outputs": [
    {
     "name": "stdout",
     "output_type": "stream",
     "text": [
      "10\n"
     ]
    }
   ],
   "source": [
    "x = 10\n",
    "\n",
    "if x == 11:\n",
    "    print(11)\n",
    "elif x == 10:\n",
    "    print(10)\n",
    "else:\n",
    "    print(\"Not 10 or 11\")"
   ]
  },
  {
   "cell_type": "markdown",
   "metadata": {},
   "source": [
    "While loop"
   ]
  },
  {
   "cell_type": "code",
   "execution_count": 8,
   "metadata": {},
   "outputs": [
    {
     "name": "stdout",
     "output_type": "stream",
     "text": [
      "5\n",
      "4\n",
      "3\n",
      "2\n",
      "1\n"
     ]
    }
   ],
   "source": [
    "x = 5\n",
    "while x > 0 :\n",
    "    print(x)\n",
    "    x = x - 1"
   ]
  },
  {
   "cell_type": "markdown",
   "metadata": {},
   "source": [
    "For loop"
   ]
  },
  {
   "cell_type": "code",
   "execution_count": 18,
   "metadata": {},
   "outputs": [
    {
     "name": "stdout",
     "output_type": "stream",
     "text": [
      "0\n",
      "1\n",
      "2\n",
      "3\n",
      "4\n",
      "5\n",
      "A\n",
      "B\n",
      "C\n",
      "D\n",
      "E\n",
      "F\n",
      "index 0: a\n",
      "index 1: b\n",
      "index 2: c\n",
      "index 3: d\n",
      "index 4: e\n",
      "index 5: f\n",
      "one = 1\n",
      "two = 2\n",
      "three = 3\n",
      "four = 4\n"
     ]
    }
   ],
   "source": [
    "for n in range(0,6):\n",
    "    print(n)\n",
    "\n",
    "for c in 'abcdef':\n",
    "    print(c.upper())\n",
    "    \n",
    "# with index\n",
    "for i, c in enumerate('abcdef') :\n",
    "    print(\"index \" + str(i) + \": \" + str(c))\n",
    "    \n",
    "# with dictionaries\n",
    "number = {\"one\" : 1, \"two\" : 2, \"three\" : 3, \"four\" : 4}\n",
    "for key, value in number.items() :\n",
    "    print(key + \" = \" + str(value))"
   ]
  }
 ],
 "metadata": {
  "kernelspec": {
   "display_name": "Python 3",
   "language": "python",
   "name": "python3"
  },
  "language_info": {
   "codemirror_mode": {
    "name": "ipython",
    "version": 3
   },
   "file_extension": ".py",
   "mimetype": "text/x-python",
   "name": "python",
   "nbconvert_exporter": "python",
   "pygments_lexer": "ipython3",
   "version": "3.6.4"
  }
 },
 "nbformat": 4,
 "nbformat_minor": 2
}
